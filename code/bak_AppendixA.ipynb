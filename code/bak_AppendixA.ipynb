{
 "cells": [
  {
   "cell_type": "markdown",
   "metadata": {},
   "source": [
    "# Uniform distribution"
   ]
  },
  {
   "cell_type": "markdown",
   "metadata": {},
   "source": [
    "## Definitions"
   ]
  },
  {
   "cell_type": "code",
   "execution_count": 1,
   "metadata": {
    "collapsed": true
   },
   "outputs": [],
   "source": [
    "from sympy import *\n",
    "import numpy as np"
   ]
  },
  {
   "cell_type": "code",
   "execution_count": 2,
   "metadata": {
    "collapsed": false
   },
   "outputs": [],
   "source": [
    "states = symbols('t0:10') # Sufficient for up to ten messages\n",
    "messages = symbols('m0:10')\n",
    "actions = symbols('a0:10')\n",
    "t, b = symbols('t b', positive=True)"
   ]
  },
  {
   "cell_type": "code",
   "execution_count": 3,
   "metadata": {
    "collapsed": true
   },
   "outputs": [],
   "source": [
    "def U_S(state, action, bias):\n",
    "        # return 0 - (action - state - bias)**2 # Crawford & Sobel 1982\n",
    "        return  1 - (action - state - (1 - state)*bias)**2\n",
    "    \n",
    "def U_R(state, action):\n",
    "    # return 0 - (action - state - bias)**2 # Crawford & Sobel 1982\n",
    "    return  1 - (action - state)**2"
   ]
  },
  {
   "cell_type": "markdown",
   "metadata": {},
   "source": [
    "## Solutions"
   ]
  },
  {
   "cell_type": "code",
   "execution_count": 4,
   "metadata": {
    "collapsed": false
   },
   "outputs": [],
   "source": [
    "def solve_messages(m):\n",
    "    # Define sender symbols\n",
    "    sender_partition = list(states[:(m - 1)])\n",
    "    sender_points = [0] + list(states[:(m - 1)]) + [1]\n",
    "    # Define receiver symbols\n",
    "    receiver_partition = list(actions[:m])\n",
    "    # Define sender expected utility\n",
    "    EU_S = sum([integrate(U_S(t, item, b), (t, sender_points[i], sender_points[i+1])) for i, item in enumerate(receiver_partition)])\n",
    "    EU_R = EU_S.subs(b,0)\n",
    "    # Maximize sender expected utility\n",
    "    sender_solutions = [Eq(point, solve(diff(EU_S, point), point)[0]) for point in sender_partition]\n",
    "    # Maximize receiver expected utility\n",
    "    receiver_solutions = [Eq(point, solve(diff(EU_R, point), point)[0]) for point in receiver_partition]\n",
    "    # Return dictionary of points and solutions\n",
    "    return solve(sender_solutions + receiver_solutions, sender_partition + receiver_partition)"
   ]
  },
  {
   "cell_type": "code",
   "execution_count": 5,
   "metadata": {
    "collapsed": false
   },
   "outputs": [
    {
     "name": "stdout",
     "output_type": "stream",
     "text": [
      "{a0: (4*b - 1)/(4*(2*b - 1)), t0: (4*b - 1)/(2*(2*b - 1)), a1: (8*b - 3)/(4*(2*b - 1))}\n"
     ]
    }
   ],
   "source": [
    "sol2 = solve_messages(2)\n",
    "print sol2"
   ]
  },
  {
   "cell_type": "code",
   "execution_count": 6,
   "metadata": {
    "collapsed": true
   },
   "outputs": [],
   "source": [
    "sol3 = solve_messages(3)\n",
    "sol4 = solve_messages(4)\n",
    "sol5 = solve_messages(5)"
   ]
  },
  {
   "cell_type": "code",
   "execution_count": 7,
   "metadata": {
    "collapsed": false
   },
   "outputs": [],
   "source": [
    "def max_bias(this_sol):\n",
    "    return min([re(item.evalf()) for item in solve(this_sol[states[0]], b)])"
   ]
  },
  {
   "cell_type": "code",
   "execution_count": 8,
   "metadata": {
    "collapsed": false
   },
   "outputs": [
    {
     "name": "stdout",
     "output_type": "stream",
     "text": [
      "0.250000000000000\n",
      "0.0954915028125263\n",
      "0.0495155660487904\n",
      "0.0301536896070458\n"
     ]
    }
   ],
   "source": [
    "print max_bias(sol2)\n",
    "print max_bias(sol3)\n",
    "print max_bias(sol4)\n",
    "print max_bias(sol5)"
   ]
  },
  {
   "cell_type": "markdown",
   "metadata": {},
   "source": [
    "## Visualizing"
   ]
  },
  {
   "cell_type": "code",
   "execution_count": 9,
   "metadata": {
    "collapsed": true
   },
   "outputs": [],
   "source": [
    "import matplotlib.pyplot as plt\n",
    "%matplotlib inline"
   ]
  },
  {
   "cell_type": "code",
   "execution_count": 10,
   "metadata": {
    "collapsed": true
   },
   "outputs": [],
   "source": [
    "b_values = [1, max_bias(sol2), max_bias(sol3), max_bias(sol4), max_bias(sol5)]"
   ]
  },
  {
   "cell_type": "code",
   "execution_count": 11,
   "metadata": {
    "collapsed": false
   },
   "outputs": [
    {
     "data": {
      "image/png": "[encoded data removed]",
      "text/plain": [
       "<matplotlib.figure.Figure at 0x108e81910>"
      ]
     },
     "metadata": {},
     "output_type": "display_data"
    }
   ],
   "source": [
    "plt.plot(range(1,6), b_values, 'ko')\n",
    "plt.ylim(-.1, 1.1)\n",
    "plt.ylabel(\"Maximum bias\")\n",
    "plt.xlim(.8, 5.2)\n",
    "plt.xlabel(\"Number of messages\")\n",
    "plt.axhline(0, color='k', linestyle='--')\n",
    "plt.savefig(\"max-bias.png\")\n",
    "plt.show()"
   ]
  },
  {
   "cell_type": "code",
   "execution_count": 15,
   "metadata": {
    "collapsed": true
   },
   "outputs": [],
   "source": [
    "def visualize_solution(this_sol):\n",
    "    n = (len(this_sol.keys()) + 1)/2\n",
    "    x = np.linspace(0,b_values[n-1], num=100)\n",
    "    for i in range(n-1):\n",
    "        plt.plot(x, [this_sol[states[i]].subs(b, item) for item in x], 'k')\n",
    "    for i in range(n):\n",
    "        plt.plot(x, [this_sol[actions[i]].subs(b, item) for item in x], color='k', linestyle='--')\n",
    "    plt.ylim(0,1)\n",
    "    plt.xlim(0,1)\n",
    "    plt.xlabel(\"Bias\")\n",
    "    #plt.savefig(\"sol2-uniform.png\")\n",
    "    plt.show()"
   ]
  },
  {
   "cell_type": "code",
   "execution_count": 14,
   "metadata": {
    "collapsed": false
   },
   "outputs": [
    {
     "data": {
      "image/png": "[encoded data removed]",
      "text/plain": [
       "<matplotlib.figure.Figure at 0x1062f9510>"
      ]
     },
     "metadata": {},
     "output_type": "display_data"
    }
   ],
   "source": [
    "visualize_solution(sol2)"
   ]
  },
  {
   "cell_type": "code",
   "execution_count": 24,
   "metadata": {
    "collapsed": false
   },
   "outputs": [
    {
     "data": {
      "image/png": "[encoded data removed]",
      "text/plain": [
       "<matplotlib.figure.Figure at 0x109389850>"
      ]
     },
     "metadata": {},
     "output_type": "display_data"
    }
   ],
   "source": [
    "x = np.linspace(0,b_values[1], num=100)\n",
    "for i in range(1):\n",
    "    plt.plot(x, [sol2[states[i]].subs(b, item) for item in x], 'k')\n",
    "for i in range(2):\n",
    "    plt.plot(x, [sol2[actions[i]].subs(b, item) for item in x], color='k', linestyle='--')\n",
    "plt.axhline(.5, b_values[1], 1, color='k', ls='--')\n",
    "plt.ylim(0,1)\n",
    "plt.xlim(0,1)\n",
    "plt.xlabel(\"Bias\")\n",
    "plt.ylabel(\"Actions and States\")\n",
    "plt.savefig(\"sol2-uniform.png\")\n",
    "plt.show()"
   ]
  },
  {
   "cell_type": "markdown",
   "metadata": {},
   "source": [
    "## Beta Distribution"
   ]
  },
  {
   "cell_type": "markdown",
   "metadata": {},
   "source": [
    "## Visualize"
   ]
  },
  {
   "cell_type": "code",
   "execution_count": 10,
   "metadata": {
    "collapsed": true
   },
   "outputs": [],
   "source": [
    "from scipy.stats import beta, uniform\n",
    "import matplotlib.pyplot as plt\n",
    "%matplotlib inline\n",
    "import numpy as np"
   ]
  },
  {
   "cell_type": "code",
   "execution_count": 8,
   "metadata": {
    "collapsed": false
   },
   "outputs": [
    {
     "data": {
      "image/png": "[encoded data removed]",
      "text/plain": [
       "<matplotlib.figure.Figure at 0x1063eaa50>"
      ]
     },
     "metadata": {},
     "output_type": "display_data"
    }
   ],
   "source": [
    "alpha = 1\n",
    "x = np.arange (0, 1, 0.01)\n",
    "for beta_var in range(1,10, 3):\n",
    "    for alpha_var in range(1,10, 3):\n",
    "        y = beta.pdf(x,alpha_var,beta_var)\n",
    "        plt.plot(x,y, 'k')\n",
    "plt.plot(x, beta.pdf(x,1,2), linewidth=4, color='k')\n",
    "plt.plot(x, beta.pdf(x,1,1), linewidth=4, color='k')\n",
    "plt.ylabel(\"Probability density function\")\n",
    "plt.savefig('beta-distribution.png')\n",
    "plt.show()"
   ]
  },
  {
   "cell_type": "code",
   "execution_count": 6,
   "metadata": {
    "collapsed": false
   },
   "outputs": [],
   "source": [
    "from sympy.stats import Uniform, Beta, density, E, sample, P\n",
    "from sympy import symbols"
   ]
  },
  {
   "cell_type": "code",
   "execution_count": 11,
   "metadata": {
    "collapsed": false
   },
   "outputs": [
    {
     "data": {
      "text/plain": [
       "0.333333333333333"
      ]
     },
     "execution_count": 11,
     "metadata": {},
     "output_type": "execute_result"
    }
   ],
   "source": [
    "Y = Beta(\"y\",1,2)\n",
    "E(Y).evalf()"
   ]
  },
  {
   "cell_type": "code",
   "execution_count": 423,
   "metadata": {
    "collapsed": false
   },
   "outputs": [
    {
     "data": {
      "text/plain": [
       "0.292893218813452"
      ]
     },
     "execution_count": 423,
     "metadata": {},
     "output_type": "execute_result"
    }
   ],
   "source": [
    "Y = Beta(\"y\", 1, 2)\n",
    "bias_free = min(solve(Eq(integrate(density(Y)(t), (t, 0, states[0])).evalf(), integrate(density(Y)(t), (t, states[0], 1)).evalf()), states[0]))\n",
    "bias_free"
   ]
  },
  {
   "cell_type": "code",
   "execution_count": 28,
   "metadata": {
    "collapsed": false
   },
   "outputs": [
    {
     "name": "stdout",
     "output_type": "stream",
     "text": [
      "0.141750000000000\n"
     ]
    }
   ],
   "source": [
    "Y = Beta(\"y\", 1, 2)\n",
    "expr = integrate(t*density(Y)(t)).evalf()\n",
    "print expr.subs(t,1) - expr.subs(t,.55)\n",
    "#print integrate(t*density(Y)(t), (t, 0, 0.55)).evalf()"
   ]
  },
  {
   "cell_type": "code",
   "execution_count": 412,
   "metadata": {
    "collapsed": false
   },
   "outputs": [
    {
     "name": "stdout",
     "output_type": "stream",
     "text": [
      "0.500000000000000\n",
      "0.500000000000000\n"
     ]
    }
   ],
   "source": [
    "Y = Beta(\"y\", 1, 2)\n",
    "print integrate(density(Y)(t), (t, 0, bias_free)).evalf()\n",
    "print integrate(density(Y)(t), (t, bias_free, 1)).evalf()"
   ]
  },
  {
   "cell_type": "code",
   "execution_count": 21,
   "metadata": {
    "collapsed": false
   },
   "outputs": [
    {
     "ename": "AttributeError",
     "evalue": "'NoneType' object has no attribute 'probability'",
     "output_type": "error",
     "traceback": [
      "\u001b[0;31m---------------------------------------------------------------------------\u001b[0m",
      "\u001b[0;31mAttributeError\u001b[0m                            Traceback (most recent call last)",
      "\u001b[0;32m<ipython-input-21-a29d9fa83901>\u001b[0m in \u001b[0;36m<module>\u001b[0;34m()\u001b[0m\n\u001b[0;32m----> 1\u001b[0;31m \u001b[0mP\u001b[0m\u001b[0;34m(\u001b[0m\u001b[0mY\u001b[0m \u001b[0;34m==\u001b[0m \u001b[0;36m.5\u001b[0m\u001b[0;34m)\u001b[0m\u001b[0;34m\u001b[0m\u001b[0m\n\u001b[0m\u001b[1;32m      2\u001b[0m \u001b[0mP\u001b[0m\u001b[0;34m(\u001b[0m\u001b[0mY\u001b[0m \u001b[0;34m>\u001b[0m \u001b[0;36m.5\u001b[0m\u001b[0;34m)\u001b[0m\u001b[0;34m.\u001b[0m\u001b[0mevalf\u001b[0m\u001b[0;34m(\u001b[0m\u001b[0;34m)\u001b[0m\u001b[0;34m\u001b[0m\u001b[0m\n",
      "\u001b[0;32m//anaconda/lib/python2.7/site-packages/sympy/stats/rv.pyc\u001b[0m in \u001b[0;36mprobability\u001b[0;34m(condition, given_condition, numsamples, evaluate, **kwargs)\u001b[0m\n\u001b[1;32m    615\u001b[0m \u001b[0;34m\u001b[0m\u001b[0m\n\u001b[1;32m    616\u001b[0m     \u001b[0;31m# Otherwise pass work off to the ProbabilitySpace\u001b[0m\u001b[0;34m\u001b[0m\u001b[0;34m\u001b[0m\u001b[0m\n\u001b[0;32m--> 617\u001b[0;31m     \u001b[0mresult\u001b[0m \u001b[0;34m=\u001b[0m \u001b[0mpspace\u001b[0m\u001b[0;34m(\u001b[0m\u001b[0mcondition\u001b[0m\u001b[0;34m)\u001b[0m\u001b[0;34m.\u001b[0m\u001b[0mprobability\u001b[0m\u001b[0;34m(\u001b[0m\u001b[0mcondition\u001b[0m\u001b[0;34m,\u001b[0m \u001b[0;34m**\u001b[0m\u001b[0mkwargs\u001b[0m\u001b[0;34m)\u001b[0m\u001b[0;34m\u001b[0m\u001b[0m\n\u001b[0m\u001b[1;32m    618\u001b[0m     \u001b[0;32mif\u001b[0m \u001b[0mevaluate\u001b[0m \u001b[0;32mand\u001b[0m \u001b[0mhasattr\u001b[0m\u001b[0;34m(\u001b[0m\u001b[0mresult\u001b[0m\u001b[0;34m,\u001b[0m \u001b[0;34m'doit'\u001b[0m\u001b[0;34m)\u001b[0m\u001b[0;34m:\u001b[0m\u001b[0;34m\u001b[0m\u001b[0m\n\u001b[1;32m    619\u001b[0m         \u001b[0;32mreturn\u001b[0m \u001b[0mresult\u001b[0m\u001b[0;34m.\u001b[0m\u001b[0mdoit\u001b[0m\u001b[0;34m(\u001b[0m\u001b[0;34m)\u001b[0m\u001b[0;34m\u001b[0m\u001b[0m\n",
      "\u001b[0;31mAttributeError\u001b[0m: 'NoneType' object has no attribute 'probability'"
     ]
    }
   ],
   "source": [
    "\n",
    "P(Y > .5).evalf()"
   ]
  },
  {
   "cell_type": "code",
   "execution_count": 7,
   "metadata": {
    "collapsed": true
   },
   "outputs": [],
   "source": [
    "from sympy import *"
   ]
  },
  {
   "cell_type": "code",
   "execution_count": 8,
   "metadata": {
    "collapsed": false
   },
   "outputs": [],
   "source": [
    "Y = Beta(\"y\", 1, 2)\n",
    "t = symbols('t')"
   ]
  },
  {
   "cell_type": "code",
   "execution_count": 14,
   "metadata": {
    "collapsed": false
   },
   "outputs": [
    {
     "data": {
      "text/plain": [
       "0.640000000000000"
      ]
     },
     "execution_count": 14,
     "metadata": {},
     "output_type": "execute_result"
    }
   ],
   "source": [
    "P(Y > .2).evalf()"
   ]
  },
  {
   "cell_type": "code",
   "execution_count": 420,
   "metadata": {
    "collapsed": false
   },
   "outputs": [
    {
     "name": "stdout",
     "output_type": "stream",
     "text": [
      "0.438768975845313\n"
     ]
    },
    {
     "ename": "ValueError",
     "evalue": "Non-suitable parameters.",
     "output_type": "error",
     "traceback": [
      "\u001b[0;31m---------------------------------------------------------------------------\u001b[0m",
      "\u001b[0;31mValueError\u001b[0m                                Traceback (most recent call last)",
      "\u001b[0;32m<ipython-input-420-04784597c2db>\u001b[0m in \u001b[0;36m<module>\u001b[0;34m()\u001b[0m\n\u001b[1;32m      1\u001b[0m \u001b[0;32mprint\u001b[0m \u001b[0mbias_free\u001b[0m\u001b[0;34m\u001b[0m\u001b[0m\n\u001b[0;32m----> 2\u001b[0;31m \u001b[0;32mprint\u001b[0m \u001b[0mintegrate\u001b[0m\u001b[0;34m(\u001b[0m\u001b[0mt\u001b[0m\u001b[0;34m*\u001b[0m\u001b[0mdensity\u001b[0m\u001b[0;34m(\u001b[0m\u001b[0mY\u001b[0m\u001b[0;34m)\u001b[0m\u001b[0;34m(\u001b[0m\u001b[0mt\u001b[0m\u001b[0;34m)\u001b[0m\u001b[0;34m,\u001b[0m \u001b[0;34m(\u001b[0m\u001b[0mt\u001b[0m\u001b[0;34m,\u001b[0m \u001b[0;36m0\u001b[0m\u001b[0;34m,\u001b[0m \u001b[0mbias_free\u001b[0m\u001b[0;34m)\u001b[0m\u001b[0;34m)\u001b[0m\u001b[0;34m.\u001b[0m\u001b[0mevalf\u001b[0m\u001b[0;34m(\u001b[0m\u001b[0;34m)\u001b[0m\u001b[0;34m\u001b[0m\u001b[0m\n\u001b[0m\u001b[1;32m      3\u001b[0m \u001b[0;32mprint\u001b[0m \u001b[0mintegrate\u001b[0m\u001b[0;34m(\u001b[0m\u001b[0mt\u001b[0m\u001b[0;34m*\u001b[0m\u001b[0mdensity\u001b[0m\u001b[0;34m(\u001b[0m\u001b[0mY\u001b[0m\u001b[0;34m)\u001b[0m\u001b[0;34m(\u001b[0m\u001b[0mt\u001b[0m\u001b[0;34m)\u001b[0m\u001b[0;34m,\u001b[0m \u001b[0;34m(\u001b[0m\u001b[0mt\u001b[0m\u001b[0;34m,\u001b[0m \u001b[0mbias_free\u001b[0m\u001b[0;34m,\u001b[0m \u001b[0;36m1\u001b[0m\u001b[0;34m)\u001b[0m\u001b[0;34m)\u001b[0m\u001b[0;34m.\u001b[0m\u001b[0mevalf\u001b[0m\u001b[0;34m(\u001b[0m\u001b[0;34m)\u001b[0m\u001b[0;34m\u001b[0m\u001b[0m\n",
      "\u001b[0;32m//anaconda/lib/python2.7/site-packages/sympy/utilities/decorator.pyc\u001b[0m in \u001b[0;36mthreaded_func\u001b[0;34m(expr, *args, **kwargs)\u001b[0m\n\u001b[1;32m     33\u001b[0m                                       func(expr.rhs, *args, **kwargs))\n\u001b[1;32m     34\u001b[0m             \u001b[0;32melse\u001b[0m\u001b[0;34m:\u001b[0m\u001b[0;34m\u001b[0m\u001b[0m\n\u001b[0;32m---> 35\u001b[0;31m                 \u001b[0;32mreturn\u001b[0m \u001b[0mfunc\u001b[0m\u001b[0;34m(\u001b[0m\u001b[0mexpr\u001b[0m\u001b[0;34m,\u001b[0m \u001b[0;34m*\u001b[0m\u001b[0margs\u001b[0m\u001b[0;34m,\u001b[0m \u001b[0;34m**\u001b[0m\u001b[0mkwargs\u001b[0m\u001b[0;34m)\u001b[0m\u001b[0;34m\u001b[0m\u001b[0m\n\u001b[0m\u001b[1;32m     36\u001b[0m \u001b[0;34m\u001b[0m\u001b[0m\n\u001b[1;32m     37\u001b[0m     \u001b[0;32mreturn\u001b[0m \u001b[0mthreaded_func\u001b[0m\u001b[0;34m\u001b[0m\u001b[0m\n",
      "\u001b[0;32m//anaconda/lib/python2.7/site-packages/sympy/integrals/integrals.pyc\u001b[0m in \u001b[0;36mintegrate\u001b[0;34m(*args, **kwargs)\u001b[0m\n\u001b[1;32m   1230\u001b[0m     \u001b[0;32mif\u001b[0m \u001b[0misinstance\u001b[0m\u001b[0;34m(\u001b[0m\u001b[0mintegral\u001b[0m\u001b[0;34m,\u001b[0m \u001b[0mIntegral\u001b[0m\u001b[0;34m)\u001b[0m\u001b[0;34m:\u001b[0m\u001b[0;34m\u001b[0m\u001b[0m\n\u001b[1;32m   1231\u001b[0m         return integral.doit(deep=False, meijerg=meijerg, conds=conds,\n\u001b[0;32m-> 1232\u001b[0;31m                              risch=risch, manual=manual)\n\u001b[0m\u001b[1;32m   1233\u001b[0m     \u001b[0;32melse\u001b[0m\u001b[0;34m:\u001b[0m\u001b[0;34m\u001b[0m\u001b[0m\n\u001b[1;32m   1234\u001b[0m         \u001b[0;32mreturn\u001b[0m \u001b[0mintegral\u001b[0m\u001b[0;34m\u001b[0m\u001b[0m\n",
      "\u001b[0;32m//anaconda/lib/python2.7/site-packages/sympy/integrals/integrals.pyc\u001b[0m in \u001b[0;36mdoit\u001b[0;34m(self, **hints)\u001b[0m\n\u001b[1;32m    485\u001b[0m                     \u001b[0mfunction\u001b[0m\u001b[0;34m,\u001b[0m \u001b[0mxab\u001b[0m\u001b[0;34m[\u001b[0m\u001b[0;36m0\u001b[0m\u001b[0;34m]\u001b[0m\u001b[0;34m,\u001b[0m\u001b[0;34m\u001b[0m\u001b[0m\n\u001b[1;32m    486\u001b[0m                     \u001b[0mmeijerg\u001b[0m\u001b[0;34m=\u001b[0m\u001b[0mmeijerg1\u001b[0m\u001b[0;34m,\u001b[0m \u001b[0mrisch\u001b[0m\u001b[0;34m=\u001b[0m\u001b[0mrisch\u001b[0m\u001b[0;34m,\u001b[0m \u001b[0mmanual\u001b[0m\u001b[0;34m=\u001b[0m\u001b[0mmanual\u001b[0m\u001b[0;34m,\u001b[0m\u001b[0;34m\u001b[0m\u001b[0m\n\u001b[0;32m--> 487\u001b[0;31m                     conds=conds)\n\u001b[0m\u001b[1;32m    488\u001b[0m                 \u001b[0;32mif\u001b[0m \u001b[0mantideriv\u001b[0m \u001b[0;32mis\u001b[0m \u001b[0mNone\u001b[0m \u001b[0;32mand\u001b[0m \u001b[0mmeijerg1\u001b[0m \u001b[0;32mis\u001b[0m \u001b[0mTrue\u001b[0m\u001b[0;34m:\u001b[0m\u001b[0;34m\u001b[0m\u001b[0m\n\u001b[1;32m    489\u001b[0m                     \u001b[0mret\u001b[0m \u001b[0;34m=\u001b[0m \u001b[0mtry_meijerg\u001b[0m\u001b[0;34m(\u001b[0m\u001b[0mfunction\u001b[0m\u001b[0;34m,\u001b[0m \u001b[0mxab\u001b[0m\u001b[0;34m)\u001b[0m\u001b[0;34m\u001b[0m\u001b[0m\n",
      "\u001b[0;32m//anaconda/lib/python2.7/site-packages/sympy/integrals/integrals.pyc\u001b[0m in \u001b[0;36m_eval_integral\u001b[0;34m(self, f, x, meijerg, risch, manual, conds)\u001b[0m\n\u001b[1;32m    874\u001b[0m                 \u001b[0;31m# rewrite using G functions\u001b[0m\u001b[0;34m\u001b[0m\u001b[0;34m\u001b[0m\u001b[0m\n\u001b[1;32m    875\u001b[0m                 \u001b[0;32mtry\u001b[0m\u001b[0;34m:\u001b[0m\u001b[0;34m\u001b[0m\u001b[0m\n\u001b[0;32m--> 876\u001b[0;31m                     \u001b[0mh\u001b[0m \u001b[0;34m=\u001b[0m \u001b[0mmeijerint_indefinite\u001b[0m\u001b[0;34m(\u001b[0m\u001b[0mg\u001b[0m\u001b[0;34m,\u001b[0m \u001b[0mx\u001b[0m\u001b[0;34m)\u001b[0m\u001b[0;34m\u001b[0m\u001b[0m\n\u001b[0m\u001b[1;32m    877\u001b[0m                 \u001b[0;32mexcept\u001b[0m \u001b[0mNotImplementedError\u001b[0m\u001b[0;34m:\u001b[0m\u001b[0;34m\u001b[0m\u001b[0m\n\u001b[1;32m    878\u001b[0m                     \u001b[0;32mfrom\u001b[0m \u001b[0msympy\u001b[0m\u001b[0;34m.\u001b[0m\u001b[0mintegrals\u001b[0m\u001b[0;34m.\u001b[0m\u001b[0mmeijerint\u001b[0m \u001b[0;32mimport\u001b[0m \u001b[0m_debug\u001b[0m\u001b[0;34m\u001b[0m\u001b[0m\n",
      "\u001b[0;32m//anaconda/lib/python2.7/site-packages/sympy/integrals/meijerint.pyc\u001b[0m in \u001b[0;36mmeijerint_indefinite\u001b[0;34m(f, x)\u001b[0m\n\u001b[1;32m   1594\u001b[0m     \u001b[0mresults\u001b[0m \u001b[0;34m=\u001b[0m \u001b[0;34m[\u001b[0m\u001b[0;34m]\u001b[0m\u001b[0;34m\u001b[0m\u001b[0m\n\u001b[1;32m   1595\u001b[0m     \u001b[0;32mfor\u001b[0m \u001b[0ma\u001b[0m \u001b[0;32min\u001b[0m \u001b[0msorted\u001b[0m\u001b[0;34m(\u001b[0m\u001b[0m_find_splitting_points\u001b[0m\u001b[0;34m(\u001b[0m\u001b[0mf\u001b[0m\u001b[0;34m,\u001b[0m \u001b[0mx\u001b[0m\u001b[0;34m)\u001b[0m \u001b[0;34m|\u001b[0m \u001b[0mset\u001b[0m\u001b[0;34m(\u001b[0m\u001b[0;34m[\u001b[0m\u001b[0mS\u001b[0m\u001b[0;34m(\u001b[0m\u001b[0;36m0\u001b[0m\u001b[0;34m)\u001b[0m\u001b[0;34m]\u001b[0m\u001b[0;34m)\u001b[0m\u001b[0;34m,\u001b[0m \u001b[0mkey\u001b[0m\u001b[0;34m=\u001b[0m\u001b[0mdefault_sort_key\u001b[0m\u001b[0;34m)\u001b[0m\u001b[0;34m:\u001b[0m\u001b[0;34m\u001b[0m\u001b[0m\n\u001b[0;32m-> 1596\u001b[0;31m         \u001b[0mres\u001b[0m \u001b[0;34m=\u001b[0m \u001b[0m_meijerint_indefinite_1\u001b[0m\u001b[0;34m(\u001b[0m\u001b[0mf\u001b[0m\u001b[0;34m.\u001b[0m\u001b[0msubs\u001b[0m\u001b[0;34m(\u001b[0m\u001b[0mx\u001b[0m\u001b[0;34m,\u001b[0m \u001b[0mx\u001b[0m \u001b[0;34m+\u001b[0m \u001b[0ma\u001b[0m\u001b[0;34m)\u001b[0m\u001b[0;34m,\u001b[0m \u001b[0mx\u001b[0m\u001b[0;34m)\u001b[0m\u001b[0;34m\u001b[0m\u001b[0m\n\u001b[0m\u001b[1;32m   1597\u001b[0m         \u001b[0;32mif\u001b[0m \u001b[0mres\u001b[0m \u001b[0;32mis\u001b[0m \u001b[0mNone\u001b[0m\u001b[0;34m:\u001b[0m\u001b[0;34m\u001b[0m\u001b[0m\n\u001b[1;32m   1598\u001b[0m             \u001b[0;32mcontinue\u001b[0m\u001b[0;34m\u001b[0m\u001b[0m\n",
      "\u001b[0;32m//anaconda/lib/python2.7/site-packages/sympy/integrals/meijerint.pyc\u001b[0m in \u001b[0;36m_meijerint_indefinite_1\u001b[0;34m(f, x)\u001b[0m\n\u001b[1;32m   1644\u001b[0m             r = meijerg(\n\u001b[1;32m   1645\u001b[0m                 tr(g.an) + [1], tr(g.aother), tr(g.bm), tr(g.bother) + [0], t)\n\u001b[0;32m-> 1646\u001b[0;31m         \u001b[0mr\u001b[0m \u001b[0;34m=\u001b[0m \u001b[0mhyperexpand\u001b[0m\u001b[0;34m(\u001b[0m\u001b[0mr\u001b[0m\u001b[0;34m.\u001b[0m\u001b[0msubs\u001b[0m\u001b[0;34m(\u001b[0m\u001b[0mt\u001b[0m\u001b[0;34m,\u001b[0m \u001b[0ma\u001b[0m\u001b[0;34m*\u001b[0m\u001b[0mx\u001b[0m\u001b[0;34m**\u001b[0m\u001b[0mb\u001b[0m\u001b[0;34m)\u001b[0m\u001b[0;34m)\u001b[0m\u001b[0;34m\u001b[0m\u001b[0m\n\u001b[0m\u001b[1;32m   1647\u001b[0m \u001b[0;34m\u001b[0m\u001b[0m\n\u001b[1;32m   1648\u001b[0m         \u001b[0;31m# now substitute back\u001b[0m\u001b[0;34m\u001b[0m\u001b[0;34m\u001b[0m\u001b[0m\n",
      "\u001b[0;32m//anaconda/lib/python2.7/site-packages/sympy/simplify/hyperexpand.pyc\u001b[0m in \u001b[0;36mhyperexpand\u001b[0;34m(f, allow_hyper, rewrite)\u001b[0m\n\u001b[1;32m   2480\u001b[0m         \u001b[0;32mif\u001b[0m \u001b[0;32mnot\u001b[0m \u001b[0mr\u001b[0m\u001b[0;34m.\u001b[0m\u001b[0mhas\u001b[0m\u001b[0;34m(\u001b[0m\u001b[0mnan\u001b[0m\u001b[0;34m,\u001b[0m \u001b[0mzoo\u001b[0m\u001b[0;34m,\u001b[0m \u001b[0moo\u001b[0m\u001b[0;34m,\u001b[0m \u001b[0;34m-\u001b[0m\u001b[0moo\u001b[0m\u001b[0;34m)\u001b[0m\u001b[0;34m:\u001b[0m\u001b[0;34m\u001b[0m\u001b[0m\n\u001b[1;32m   2481\u001b[0m             \u001b[0;32mreturn\u001b[0m \u001b[0mr\u001b[0m\u001b[0;34m\u001b[0m\u001b[0m\n\u001b[0;32m-> 2482\u001b[0;31m     \u001b[0;32mreturn\u001b[0m \u001b[0mf\u001b[0m\u001b[0;34m.\u001b[0m\u001b[0mreplace\u001b[0m\u001b[0;34m(\u001b[0m\u001b[0mhyper\u001b[0m\u001b[0;34m,\u001b[0m \u001b[0mdo_replace\u001b[0m\u001b[0;34m)\u001b[0m\u001b[0;34m.\u001b[0m\u001b[0mreplace\u001b[0m\u001b[0;34m(\u001b[0m\u001b[0mmeijerg\u001b[0m\u001b[0;34m,\u001b[0m \u001b[0mdo_meijer\u001b[0m\u001b[0;34m)\u001b[0m\u001b[0;34m\u001b[0m\u001b[0m\n\u001b[0m",
      "\u001b[0;32m//anaconda/lib/python2.7/site-packages/sympy/core/basic.pyc\u001b[0m in \u001b[0;36mreplace\u001b[0;34m(self, query, value, map, simultaneous, exact)\u001b[0m\n\u001b[1;32m   1349\u001b[0m             \u001b[0;32mreturn\u001b[0m \u001b[0mexpr\u001b[0m\u001b[0;34m\u001b[0m\u001b[0m\n\u001b[1;32m   1350\u001b[0m \u001b[0;34m\u001b[0m\u001b[0m\n\u001b[0;32m-> 1351\u001b[0;31m         \u001b[0mrv\u001b[0m \u001b[0;34m=\u001b[0m \u001b[0mbottom_up\u001b[0m\u001b[0;34m(\u001b[0m\u001b[0mself\u001b[0m\u001b[0;34m,\u001b[0m \u001b[0mrec_replace\u001b[0m\u001b[0;34m,\u001b[0m \u001b[0matoms\u001b[0m\u001b[0;34m=\u001b[0m\u001b[0mTrue\u001b[0m\u001b[0;34m)\u001b[0m\u001b[0;34m\u001b[0m\u001b[0m\n\u001b[0m\u001b[1;32m   1352\u001b[0m \u001b[0;34m\u001b[0m\u001b[0m\n\u001b[1;32m   1353\u001b[0m         \u001b[0;31m# restore original expressions for Dummy symbols\u001b[0m\u001b[0;34m\u001b[0m\u001b[0;34m\u001b[0m\u001b[0m\n",
      "\u001b[0;32m//anaconda/lib/python2.7/site-packages/sympy/simplify/simplify.pyc\u001b[0m in \u001b[0;36mbottom_up\u001b[0;34m(rv, F, atoms, nonbasic)\u001b[0m\n\u001b[1;32m   4080\u001b[0m             \u001b[0;32mif\u001b[0m \u001b[0margs\u001b[0m \u001b[0;34m!=\u001b[0m \u001b[0mrv\u001b[0m\u001b[0;34m.\u001b[0m\u001b[0margs\u001b[0m\u001b[0;34m:\u001b[0m\u001b[0;34m\u001b[0m\u001b[0m\n\u001b[1;32m   4081\u001b[0m                 \u001b[0mrv\u001b[0m \u001b[0;34m=\u001b[0m \u001b[0mrv\u001b[0m\u001b[0;34m.\u001b[0m\u001b[0mfunc\u001b[0m\u001b[0;34m(\u001b[0m\u001b[0;34m*\u001b[0m\u001b[0margs\u001b[0m\u001b[0;34m)\u001b[0m\u001b[0;34m\u001b[0m\u001b[0m\n\u001b[0;32m-> 4082\u001b[0;31m             \u001b[0mrv\u001b[0m \u001b[0;34m=\u001b[0m \u001b[0mF\u001b[0m\u001b[0;34m(\u001b[0m\u001b[0mrv\u001b[0m\u001b[0;34m)\u001b[0m\u001b[0;34m\u001b[0m\u001b[0m\n\u001b[0m\u001b[1;32m   4083\u001b[0m         \u001b[0;32melif\u001b[0m \u001b[0matoms\u001b[0m\u001b[0;34m:\u001b[0m\u001b[0;34m\u001b[0m\u001b[0m\n\u001b[1;32m   4084\u001b[0m             \u001b[0mrv\u001b[0m \u001b[0;34m=\u001b[0m \u001b[0mF\u001b[0m\u001b[0;34m(\u001b[0m\u001b[0mrv\u001b[0m\u001b[0;34m)\u001b[0m\u001b[0;34m\u001b[0m\u001b[0m\n",
      "\u001b[0;32m//anaconda/lib/python2.7/site-packages/sympy/core/basic.pyc\u001b[0m in \u001b[0;36mrec_replace\u001b[0;34m(expr)\u001b[0m\n\u001b[1;32m   1334\u001b[0m             \u001b[0mresult\u001b[0m \u001b[0;34m=\u001b[0m \u001b[0m_query\u001b[0m\u001b[0;34m(\u001b[0m\u001b[0mexpr\u001b[0m\u001b[0;34m)\u001b[0m\u001b[0;34m\u001b[0m\u001b[0m\n\u001b[1;32m   1335\u001b[0m             \u001b[0;32mif\u001b[0m \u001b[0mresult\u001b[0m \u001b[0;32mor\u001b[0m \u001b[0mresult\u001b[0m \u001b[0;34m==\u001b[0m \u001b[0;34m{\u001b[0m\u001b[0;34m}\u001b[0m\u001b[0;34m:\u001b[0m\u001b[0;34m\u001b[0m\u001b[0m\n\u001b[0;32m-> 1336\u001b[0;31m                 \u001b[0mnew\u001b[0m \u001b[0;34m=\u001b[0m \u001b[0m_value\u001b[0m\u001b[0;34m(\u001b[0m\u001b[0mexpr\u001b[0m\u001b[0;34m,\u001b[0m \u001b[0mresult\u001b[0m\u001b[0;34m)\u001b[0m\u001b[0;34m\u001b[0m\u001b[0m\n\u001b[0m\u001b[1;32m   1337\u001b[0m                 \u001b[0;32mif\u001b[0m \u001b[0mnew\u001b[0m \u001b[0;32mis\u001b[0m \u001b[0;32mnot\u001b[0m \u001b[0mNone\u001b[0m \u001b[0;32mand\u001b[0m \u001b[0mnew\u001b[0m \u001b[0;34m!=\u001b[0m \u001b[0mexpr\u001b[0m\u001b[0;34m:\u001b[0m\u001b[0;34m\u001b[0m\u001b[0m\n\u001b[1;32m   1338\u001b[0m                     \u001b[0mmapping\u001b[0m\u001b[0;34m[\u001b[0m\u001b[0mexpr\u001b[0m\u001b[0;34m]\u001b[0m \u001b[0;34m=\u001b[0m \u001b[0mnew\u001b[0m\u001b[0;34m\u001b[0m\u001b[0m\n",
      "\u001b[0;32m//anaconda/lib/python2.7/site-packages/sympy/core/basic.pyc\u001b[0m in \u001b[0;36m<lambda>\u001b[0;34m(expr, result)\u001b[0m\n\u001b[1;32m   1278\u001b[0m                 \u001b[0m_value\u001b[0m \u001b[0;34m=\u001b[0m \u001b[0;32mlambda\u001b[0m \u001b[0mexpr\u001b[0m\u001b[0;34m,\u001b[0m \u001b[0mresult\u001b[0m\u001b[0;34m:\u001b[0m \u001b[0mvalue\u001b[0m\u001b[0;34m(\u001b[0m\u001b[0;34m*\u001b[0m\u001b[0mexpr\u001b[0m\u001b[0;34m.\u001b[0m\u001b[0margs\u001b[0m\u001b[0;34m)\u001b[0m\u001b[0;34m\u001b[0m\u001b[0m\n\u001b[1;32m   1279\u001b[0m             \u001b[0;32melif\u001b[0m \u001b[0mcallable\u001b[0m\u001b[0;34m(\u001b[0m\u001b[0mvalue\u001b[0m\u001b[0;34m)\u001b[0m\u001b[0;34m:\u001b[0m\u001b[0;34m\u001b[0m\u001b[0m\n\u001b[0;32m-> 1280\u001b[0;31m                 \u001b[0m_value\u001b[0m \u001b[0;34m=\u001b[0m \u001b[0;32mlambda\u001b[0m \u001b[0mexpr\u001b[0m\u001b[0;34m,\u001b[0m \u001b[0mresult\u001b[0m\u001b[0;34m:\u001b[0m \u001b[0mvalue\u001b[0m\u001b[0;34m(\u001b[0m\u001b[0;34m*\u001b[0m\u001b[0mexpr\u001b[0m\u001b[0;34m.\u001b[0m\u001b[0margs\u001b[0m\u001b[0;34m)\u001b[0m\u001b[0;34m\u001b[0m\u001b[0m\n\u001b[0m\u001b[1;32m   1281\u001b[0m             \u001b[0;32melse\u001b[0m\u001b[0;34m:\u001b[0m\u001b[0;34m\u001b[0m\u001b[0m\n\u001b[1;32m   1282\u001b[0m                 raise TypeError(\n",
      "\u001b[0;32m//anaconda/lib/python2.7/site-packages/sympy/simplify/hyperexpand.pyc\u001b[0m in \u001b[0;36mdo_meijer\u001b[0;34m(ap, bq, z)\u001b[0m\n\u001b[1;32m   2477\u001b[0m     \u001b[0;32mdef\u001b[0m \u001b[0mdo_meijer\u001b[0m\u001b[0;34m(\u001b[0m\u001b[0map\u001b[0m\u001b[0;34m,\u001b[0m \u001b[0mbq\u001b[0m\u001b[0;34m,\u001b[0m \u001b[0mz\u001b[0m\u001b[0;34m)\u001b[0m\u001b[0;34m:\u001b[0m\u001b[0;34m\u001b[0m\u001b[0m\n\u001b[1;32m   2478\u001b[0m         r = _meijergexpand(G_Function(ap[0], ap[1], bq[0], bq[1]), z,\n\u001b[0;32m-> 2479\u001b[0;31m                            allow_hyper, rewrite=rewrite)\n\u001b[0m\u001b[1;32m   2480\u001b[0m         \u001b[0;32mif\u001b[0m \u001b[0;32mnot\u001b[0m \u001b[0mr\u001b[0m\u001b[0;34m.\u001b[0m\u001b[0mhas\u001b[0m\u001b[0;34m(\u001b[0m\u001b[0mnan\u001b[0m\u001b[0;34m,\u001b[0m \u001b[0mzoo\u001b[0m\u001b[0;34m,\u001b[0m \u001b[0moo\u001b[0m\u001b[0;34m,\u001b[0m \u001b[0;34m-\u001b[0m\u001b[0moo\u001b[0m\u001b[0;34m)\u001b[0m\u001b[0;34m:\u001b[0m\u001b[0;34m\u001b[0m\u001b[0m\n\u001b[1;32m   2481\u001b[0m             \u001b[0;32mreturn\u001b[0m \u001b[0mr\u001b[0m\u001b[0;34m\u001b[0m\u001b[0m\n",
      "\u001b[0;32m//anaconda/lib/python2.7/site-packages/sympy/simplify/hyperexpand.pyc\u001b[0m in \u001b[0;36m_meijergexpand\u001b[0;34m(func, z0, allow_hyper, rewrite)\u001b[0m\n\u001b[1;32m   2373\u001b[0m         \u001b[0mop\u001b[0m\u001b[0;34m.\u001b[0m\u001b[0m_poly\u001b[0m \u001b[0;34m=\u001b[0m \u001b[0mPoly\u001b[0m\u001b[0;34m(\u001b[0m\u001b[0mop\u001b[0m\u001b[0;34m.\u001b[0m\u001b[0m_poly\u001b[0m\u001b[0;34m.\u001b[0m\u001b[0msubs\u001b[0m\u001b[0;34m(\u001b[0m\u001b[0;34m{\u001b[0m\u001b[0mz\u001b[0m\u001b[0;34m:\u001b[0m \u001b[0;36m1\u001b[0m\u001b[0;34m/\u001b[0m\u001b[0mt\u001b[0m\u001b[0;34m,\u001b[0m \u001b[0m_x\u001b[0m\u001b[0;34m:\u001b[0m \u001b[0;34m-\u001b[0m\u001b[0m_x\u001b[0m\u001b[0;34m}\u001b[0m\u001b[0;34m)\u001b[0m\u001b[0;34m,\u001b[0m \u001b[0m_x\u001b[0m\u001b[0;34m)\u001b[0m\u001b[0;34m\u001b[0m\u001b[0m\n\u001b[1;32m   2374\u001b[0m     slater2, cond2 = do_slater(tr(func.bm), tr(func.an), tr(func.bq), tr(func.ap),\n\u001b[0;32m-> 2375\u001b[0;31m                                t, 1/z0)\n\u001b[0m\u001b[1;32m   2376\u001b[0m \u001b[0;34m\u001b[0m\u001b[0m\n\u001b[1;32m   2377\u001b[0m     \u001b[0mslater1\u001b[0m \u001b[0;34m=\u001b[0m \u001b[0mpowdenest\u001b[0m\u001b[0;34m(\u001b[0m\u001b[0mslater1\u001b[0m\u001b[0;34m.\u001b[0m\u001b[0msubs\u001b[0m\u001b[0;34m(\u001b[0m\u001b[0mz\u001b[0m\u001b[0;34m,\u001b[0m \u001b[0mz0\u001b[0m\u001b[0;34m)\u001b[0m\u001b[0;34m,\u001b[0m \u001b[0mpolar\u001b[0m\u001b[0;34m=\u001b[0m\u001b[0mTrue\u001b[0m\u001b[0;34m)\u001b[0m\u001b[0;34m\u001b[0m\u001b[0m\n",
      "\u001b[0;32m//anaconda/lib/python2.7/site-packages/sympy/simplify/hyperexpand.pyc\u001b[0m in \u001b[0;36mdo_slater\u001b[0;34m(an, bm, ap, bq, z, zfinal)\u001b[0m\n\u001b[1;32m   2301\u001b[0m                 \u001b[0mpremult\u001b[0m \u001b[0;34m=\u001b[0m \u001b[0;34m(\u001b[0m\u001b[0mt\u001b[0m\u001b[0;34m/\u001b[0m\u001b[0mk\u001b[0m\u001b[0;34m)\u001b[0m\u001b[0;34m**\u001b[0m\u001b[0mbh\u001b[0m\u001b[0;34m\u001b[0m\u001b[0m\n\u001b[1;32m   2302\u001b[0m                 hyp = _hyperexpand(Hyper_Function(nap, nbq), harg, ops,\n\u001b[0;32m-> 2303\u001b[0;31m                                    t, premult, bh, rewrite=None)\n\u001b[0m\u001b[1;32m   2304\u001b[0m                 \u001b[0mres\u001b[0m \u001b[0;34m+=\u001b[0m \u001b[0mfac\u001b[0m \u001b[0;34m*\u001b[0m \u001b[0mhyp\u001b[0m\u001b[0;34m\u001b[0m\u001b[0m\n\u001b[1;32m   2305\u001b[0m             \u001b[0;32melse\u001b[0m\u001b[0;34m:\u001b[0m\u001b[0;34m\u001b[0m\u001b[0m\n",
      "\u001b[0;32m//anaconda/lib/python2.7/site-packages/sympy/simplify/hyperexpand.pyc\u001b[0m in \u001b[0;36m_hyperexpand\u001b[0;34m(func, z, ops0, z0, premult, prem, rewrite)\u001b[0m\n\u001b[1;32m   2061\u001b[0m \u001b[0;34m\u001b[0m\u001b[0m\n\u001b[1;32m   2062\u001b[0m     \u001b[0;31m# We need to find the operators that convert formula into func.\u001b[0m\u001b[0;34m\u001b[0m\u001b[0;34m\u001b[0m\u001b[0m\n\u001b[0;32m-> 2063\u001b[0;31m     \u001b[0mops\u001b[0m \u001b[0;34m+=\u001b[0m \u001b[0mdevise_plan\u001b[0m\u001b[0;34m(\u001b[0m\u001b[0mfunc\u001b[0m\u001b[0;34m,\u001b[0m \u001b[0mformula\u001b[0m\u001b[0;34m.\u001b[0m\u001b[0mfunc\u001b[0m\u001b[0;34m,\u001b[0m \u001b[0mz0\u001b[0m\u001b[0;34m)\u001b[0m\u001b[0;34m\u001b[0m\u001b[0m\n\u001b[0m\u001b[1;32m   2064\u001b[0m \u001b[0;34m\u001b[0m\u001b[0m\n\u001b[1;32m   2065\u001b[0m     \u001b[0;31m# Now carry out the plan.\u001b[0m\u001b[0;34m\u001b[0m\u001b[0;34m\u001b[0m\u001b[0m\n",
      "\u001b[0;32m//anaconda/lib/python2.7/site-packages/sympy/simplify/hyperexpand.pyc\u001b[0m in \u001b[0;36mdevise_plan\u001b[0;34m(target, origin, z)\u001b[0m\n\u001b[1;32m   1638\u001b[0m \u001b[0;34m\u001b[0m\u001b[0m\n\u001b[1;32m   1639\u001b[0m             \u001b[0;32mif\u001b[0m \u001b[0mnbk\u001b[0m\u001b[0;34m[\u001b[0m\u001b[0;36m0\u001b[0m\u001b[0;34m]\u001b[0m \u001b[0;34m<=\u001b[0m \u001b[0mnamax\u001b[0m \u001b[0;32mor\u001b[0m \u001b[0mbk\u001b[0m\u001b[0;34m[\u001b[0m\u001b[0;36m0\u001b[0m\u001b[0;34m]\u001b[0m \u001b[0;34m<=\u001b[0m \u001b[0mamax\u001b[0m\u001b[0;34m:\u001b[0m\u001b[0;34m\u001b[0m\u001b[0m\n\u001b[0;32m-> 1640\u001b[0;31m                 \u001b[0;32mraise\u001b[0m \u001b[0mValueError\u001b[0m\u001b[0;34m(\u001b[0m\u001b[0;34m'Non-suitable parameters.'\u001b[0m\u001b[0;34m)\u001b[0m\u001b[0;34m\u001b[0m\u001b[0m\n\u001b[0m\u001b[1;32m   1641\u001b[0m \u001b[0;34m\u001b[0m\u001b[0m\n\u001b[1;32m   1642\u001b[0m             \u001b[0;32mif\u001b[0m \u001b[0mnamax\u001b[0m \u001b[0;34m>\u001b[0m \u001b[0mamax\u001b[0m\u001b[0;34m:\u001b[0m\u001b[0;34m\u001b[0m\u001b[0m\n",
      "\u001b[0;31mValueError\u001b[0m: Non-suitable parameters."
     ]
    }
   ],
   "source": [
    "print bias_free\n",
    "print integrate(t*density(Y)(t), (t, 0, bias_free)).evalf()\n",
    "print integrate(t*density(Y)(t), (t, bias_free, 1)).evalf()"
   ]
  },
  {
   "cell_type": "code",
   "execution_count": 47,
   "metadata": {
    "collapsed": false
   },
   "outputs": [
    {
     "name": "stdout",
     "output_type": "stream",
     "text": [
      "0.141750000000000\n"
     ]
    }
   ],
   "source": [
    "Y = Beta('y', 1, 2)\n",
    "print integrate(t*density(Y)(t), (t, .55, 1)).evalf()\n",
    "#print integrate(density(Y)(t), (t, 1/3.0, 2/3.0)).evalf()\n",
    "#print integrate(density(Y)(t), (t, 2/3.0, 1)).evalf()"
   ]
  },
  {
   "cell_type": "code",
   "execution_count": 492,
   "metadata": {
    "collapsed": false
   },
   "outputs": [
    {
     "name": "stdout",
     "output_type": "stream",
     "text": [
      "0.666666666666667*t0**3*(2.0*a0*b - 2.0*a0 - 3.0*b**2 + 4.0*b - 1.0) - 0.666666666666667*t0**3*(2.0*a1*b - 2.0*a1 - 3.0*b**2 + 4.0*b - 1.0) + 1.0*t0**2*(a0**2 - 4.0*a0*b + 2.0*a0 + 3.0*b**2 - 2.0*b - 1.0) - 1.0*t0**2*(a1**2 - 4.0*a1*b + 2.0*a1 + 3.0*b**2 - 2.0*b - 1.0) - 2.0*t0*(a0**2 - 2.0*a0*b + b**2 - 1.0) + 2.0*t0*(a1**2 - 2.0*a1*b + b**2 - 1.0) + 0.666666666666667*t1**3*(2.0*a1*b - 2.0*a1 - 3.0*b**2 + 4.0*b - 1.0) - 0.666666666666667*t1**3*(2.0*a2*b - 2.0*a2 - 3.0*b**2 + 4.0*b - 1.0) + 1.0*t1**2*(a1**2 - 4.0*a1*b + 2.0*a1 + 3.0*b**2 - 2.0*b - 1.0) - 1.0*t1**2*(a2**2 - 4.0*a2*b + 2.0*a2 + 3.0*b**2 - 2.0*b - 1.0) - 2.0*t1*(a1**2 - 2.0*a1*b + b**2 - 1.0) + 2.0*t1*(a2**2 - 2.0*a2*b + b**2 - 1.0) + 0.5*t2**4*(b**2 - 2.0*b + 1.0) + 0.666666666666667*t2**3*(2.0*a2*b - 2.0*a2 - 3.0*b**2 + 4.0*b - 1.0) + 1.0*t2**2*(a2**2 - 4.0*a2*b + 2.0*a2 + 3.0*b**2 - 2.0*b - 1.0) - 2.0*t2*(a2**2 - 2.0*a2*b + b**2 - 1.0)\n"
     ]
    }
   ],
   "source": [
    "#\n",
    "part1 = integrate(U_S(t, actions[0], b)*density(Y)(t), (t, 0, states[0]))\n",
    "part2 = integrate(U_S(t, actions[1], b)*density(Y)(t), (t, states[0], states[1]))\n",
    "part3 = integrate(U_S(t, actions[2], b)*density(Y)(t), (t, states[1], states[2]))\n",
    "\n",
    "full = (part1 + part2 + part3).evalf()\n",
    "print full"
   ]
  },
  {
   "cell_type": "code",
   "execution_count": 475,
   "metadata": {
    "collapsed": false
   },
   "outputs": [
    {
     "data": {
      "text/plain": [
       "[0.25*(-a0 - a1 + 4.0*b - sqrt((a0 + a1 - 2.0)**2) - 2.0)/(b - 1.0),\n",
       " 0.25*(-a0 - a1 + 4.0*b + sqrt((a0 + a1 - 2.0)**2) - 2.0)/(b - 1.0)]"
      ]
     },
     "execution_count": 475,
     "metadata": {},
     "output_type": "execute_result"
    }
   ],
   "source": [
    "solve(diff(full, states[0]), states[0])"
   ]
  },
  {
   "cell_type": "code",
   "execution_count": 476,
   "metadata": {
    "collapsed": false
   },
   "outputs": [
    {
     "data": {
      "text/plain": [
       "[0.25*(-a1 - a2 + 4.0*b - sqrt((a1 + a2 - 2.0)**2) - 2.0)/(b - 1.0),\n",
       " 0.25*(-a1 - a2 + 4.0*b + sqrt((a1 + a2 - 2.0)**2) - 2.0)/(b - 1.0)]"
      ]
     },
     "execution_count": 476,
     "metadata": {},
     "output_type": "execute_result"
    }
   ],
   "source": [
    "solve(diff(full, states[1]), states[1])"
   ]
  },
  {
   "cell_type": "code",
   "execution_count": 477,
   "metadata": {
    "collapsed": false
   },
   "outputs": [
    {
     "data": {
      "text/plain": [
       "[1.00000000000000, -(a2 - b - 1.0)/(b - 1.0), -(a2 - b + 1.0)/(b - 1.0)]"
      ]
     },
     "execution_count": 477,
     "metadata": {},
     "output_type": "execute_result"
    }
   ],
   "source": [
    "solve(diff(full, states[2]), states[2])"
   ]
  },
  {
   "cell_type": "code",
   "execution_count": 484,
   "metadata": {
    "collapsed": false
   },
   "outputs": [
    {
     "name": "stdout",
     "output_type": "stream",
     "text": [
      "[0.333333333333333*t0*(2.0*t0 - 3.0)/(t0 - 2.0)]\n",
      "[(0.666666666666667*t0**2 + 0.666666666666667*t0*t1 - t0 + 0.666666666666667*t1**2 - t1)/(t0 + t1 - 2.0)]\n"
     ]
    }
   ],
   "source": [
    "full_R = full.subs(b, 0)\n",
    "print solve(diff(full_R, actions[0]), actions[0])\n",
    "print solve(diff(full_R, actions[1]), actions[1])\n",
    "test_sol = solve(diff(full_R, actions[2]), actions[2])"
   ]
  },
  {
   "cell_type": "code",
   "execution_count": 491,
   "metadata": {
    "collapsed": false
   },
   "outputs": [
    {
     "data": {
      "text/plain": [
       "0.666666666666667*t1**2 + 0.666666666666667*t1*t2 - t1 + 0.666666666666667*t2**2 - t2"
      ]
     },
     "execution_count": 491,
     "metadata": {},
     "output_type": "execute_result"
    }
   ],
   "source": [
    "fraction(test_sol[0])[0]"
   ]
  },
  {
   "cell_type": "code",
   "execution_count": 433,
   "metadata": {
    "collapsed": true
   },
   "outputs": [],
   "source": [
    "def solve_messages_dist(m, bias):\n",
    "    # Define sender symbols\n",
    "    sender_partition = list(states[:(m - 1)])\n",
    "    sender_points = [0] + list(states[:(m - 1)]) + [1]\n",
    "    # Define receiver symbols\n",
    "    receiver_partition = list(actions[:m])\n",
    "    # Define prior probability\n",
    "    Y = Beta('y', 1, 2)\n",
    "    # Define sender expected utility\n",
    "    EU_S = sum([integrate(U_S(t, item, bias)*density(Y)(t).evalf(), (t, sender_points[i], sender_points[i+1])) for i, item in enumerate(receiver_partition)])\n",
    "    print \"EU_S\"\n",
    "    print EU_S\n",
    "    EU_R = EU_S.subs(b,0)\n",
    "    \n",
    "    #for point in sender_partition:\n",
    "    #    print \n",
    "        #print point\n",
    "        #print solve(diff(EU_R, point), point)\n",
    "    \n",
    "    #for point in receiver_partition:\n",
    "    #    print \n",
    "        #print point\n",
    "        #print solve(diff(EU_R, point), point)\n",
    "    # Maximize sender expected utility\n",
    "    sender_solutions = [Eq(point, solve(diff(EU_S, point), point)[0]) for point in sender_partition]\n",
    "    #print sender_solutions\n",
    "    # Maximize receiver expected utility\n",
    "    receiver_solutions = [Eq(point, solve(diff(EU_R, point), point)[0]) for point in receiver_partition]    \n",
    "    #print receiver_solutions\n",
    "    #print tuple(sender_solutions + receiver_solutions)\n",
    "    #print tuple(sender_partition + receiver_partition)\n",
    "    print tuple(sender_partition + receiver_partition)\n",
    "    print nsolve(tuple(sender_solutions + receiver_solutions), tuple(sender_partition + receiver_partition), (0, 0, 0))\n",
    "    #print sender_partition + receiver_partition\n",
    "    #return solve(sender_solutions + receiver_solutions, sender_partition + receiver_partition)"
   ]
  },
  {
   "cell_type": "code",
   "execution_count": 434,
   "metadata": {
    "collapsed": false,
    "scrolled": true
   },
   "outputs": [
    {
     "name": "stdout",
     "output_type": "stream",
     "text": [
      "EU_S\n",
      "-1.0*a1**2 + 0.666666666666667*a1 + t0**3*(-1.33333333333333*a0 - 0.666666666666667) - t0**3*(-1.33333333333333*a1 - 0.666666666666667) + t0**2*(1.0*a0**2 + 2.0*a0 - 1.0) - t0**2*(1.0*a1**2 + 2.0*a1 - 1.0) + t0*(-2.0*a0**2 + 2.0) - t0*(-2.0*a1**2 + 2.0) + 0.833333333333333\n",
      "(t0, a0, a1)\n",
      "[0.381966011250105]\n",
      "[0.175954681666806]\n",
      "[0.587977340833403]\n",
      "EU_S\n",
      "-1.0*a1**2 + 0.933333333333333*a1 + t0**3*(-1.06666666666667*a0 - 0.213333333333333) - t0**3*(-1.06666666666667*a1 - 0.213333333333333) + t0**2*(1.0*a0**2 + 1.2*a0 - 1.28) - t0**2*(1.0*a1**2 + 1.2*a1 - 1.28) + t0*(-2.0*a0**2 + 0.8*a0 + 1.92) - t0*(-2.0*a1**2 + 0.8*a1 + 1.92) + 0.746666666666667\n",
      "(t0, a0, a1)\n",
      "[0.381966011250106]\n",
      "[0.340763745333446]\n",
      "[0.670381872666723]\n"
     ]
    }
   ],
   "source": [
    "dist_sol2 = solve_messages_dist(2, 0)\n",
    "dist_sol2 = solve_messages_dist(2, .2)\n",
    "#dist_sol2 = solve_messages_dist(2, Y, .2)\n",
    "#dist_sol2 = solve_messages_dist(2, Y, .25)\n",
    "#dist_sol2 = solve_messages_dist(2, Y, .4)\n",
    "#dist_sol3"
   ]
  },
  {
   "cell_type": "code",
   "execution_count": 31,
   "metadata": {
    "collapsed": true
   },
   "outputs": [],
   "source": [
    "x1, x2 = symbols('x1 x2')"
   ]
  },
  {
   "cell_type": "code",
   "execution_count": 40,
   "metadata": {
    "collapsed": true
   },
   "outputs": [],
   "source": [
    "expr1 = Eq(2, 2*x2 + x1)\n",
    "expr2 = Eq(5, x2 - x1)"
   ]
  },
  {
   "cell_type": "code",
   "execution_count": 41,
   "metadata": {
    "collapsed": false
   },
   "outputs": [
    {
     "data": {
      "text/plain": [
       "matrix(\n",
       "[['2.33333333333333'],\n",
       " ['-2.66666666666667']])"
      ]
     },
     "execution_count": 41,
     "metadata": {},
     "output_type": "execute_result"
    }
   ],
   "source": [
    "nsolve((expr1, expr2), (x2, x1), (.1, .1))"
   ]
  },
  {
   "cell_type": "code",
   "execution_count": 424,
   "metadata": {
    "collapsed": false
   },
   "outputs": [
    {
     "name": "stdout",
     "output_type": "stream",
     "text": [
      "[t0]\n",
      "1.00000000000000\n",
      "-1.0*a1**2 + 1.0*a1*b + 1.0*a1 - 0.333333333333333*b**2 - 0.333333333333333*b + t0**2*(-1.0*a0*b + 1.0*a0 + 1.0*b**2 - 1.0*b) - t0**2*(-1.0*a1*b + 1.0*a1 + 1.0*b**2 - 1.0*b) + t0*(-1.0*a0**2 + 2.0*a0*b - 1.0*b**2 + 1.0) - t0*(-1.0*a1**2 + 2.0*a1*b - 1.0*b**2 + 1.0) + 0.666666666666667\n",
      "[t0 == (-0.5*a0 - 0.5*a1 + b)/(b - 1.0)]\n",
      "[a0 == 0.5*t0, a1 == 0.5*t0 + 0.5]\n",
      "[t0, t1]\n",
      "1.00000000000000\n",
      "-1.0*a2**2 + 1.0*a2*b + 1.0*a2 - 0.333333333333333*b**2 - 0.333333333333333*b + t0**2*(-1.0*a0*b + 1.0*a0 + 1.0*b**2 - 1.0*b) - t0**2*(-1.0*a1*b + 1.0*a1 + 1.0*b**2 - 1.0*b) + t0*(-1.0*a0**2 + 2.0*a0*b - 1.0*b**2 + 1.0) - t0*(-1.0*a1**2 + 2.0*a1*b - 1.0*b**2 + 1.0) + t1**2*(-1.0*a1*b + 1.0*a1 + 1.0*b**2 - 1.0*b) - t1**2*(-1.0*a2*b + 1.0*a2 + 1.0*b**2 - 1.0*b) + t1*(-1.0*a1**2 + 2.0*a1*b - 1.0*b**2 + 1.0) - t1*(-1.0*a2**2 + 2.0*a2*b - 1.0*b**2 + 1.0) + 0.666666666666667\n",
      "[t0 == (-0.5*a0 - 0.5*a1 + b)/(b - 1.0), t1 == (-0.5*a1 - 0.5*a2 + b)/(b - 1.0)]\n",
      "[a0 == 0.5*t0, a1 == 0.5*t0 + 0.5*t1, a2 == 0.5*t1 + 0.5]\n",
      "[t0, t1, t2]\n",
      "1.00000000000000\n",
      "-1.0*a3**2 + 1.0*a3*b + 1.0*a3 - 0.333333333333333*b**2 - 0.333333333333333*b + t0**2*(-1.0*a0*b + 1.0*a0 + 1.0*b**2 - 1.0*b) - t0**2*(-1.0*a1*b + 1.0*a1 + 1.0*b**2 - 1.0*b) + t0*(-1.0*a0**2 + 2.0*a0*b - 1.0*b**2 + 1.0) - t0*(-1.0*a1**2 + 2.0*a1*b - 1.0*b**2 + 1.0) + t1**2*(-1.0*a1*b + 1.0*a1 + 1.0*b**2 - 1.0*b) - t1**2*(-1.0*a2*b + 1.0*a2 + 1.0*b**2 - 1.0*b) + t1*(-1.0*a1**2 + 2.0*a1*b - 1.0*b**2 + 1.0) - t1*(-1.0*a2**2 + 2.0*a2*b - 1.0*b**2 + 1.0) + t2**2*(-1.0*a2*b + 1.0*a2 + 1.0*b**2 - 1.0*b) - t2**2*(-1.0*a3*b + 1.0*a3 + 1.0*b**2 - 1.0*b) + t2*(-1.0*a2**2 + 2.0*a2*b - 1.0*b**2 + 1.0) - t2*(-1.0*a3**2 + 2.0*a3*b - 1.0*b**2 + 1.0) + 0.666666666666667\n",
      "[t0 == (-0.5*a0 - 0.5*a1 + b)/(b - 1.0), t1 == (-0.5*a1 - 0.5*a2 + b)/(b - 1.0), t2 == (-0.5*a2 - 0.5*a3 + b)/(b - 1.0)]\n",
      "[a0 == 0.5*t0, a1 == 0.5*t0 + 0.5*t1, a2 == 0.5*t1 + 0.5*t2, a3 == 0.5*t2 + 0.5]\n"
     ]
    },
    {
     "data": {
      "text/plain": [
       "0.25*(64.0*b**3 - 80.0*b**2 + 24.0*b - 1.0)/(16.0*b**3 - 24.0*b**2 + 10.0*b - 1.0)"
      ]
     },
     "execution_count": 424,
     "metadata": {},
     "output_type": "execute_result"
    }
   ],
   "source": [
    "dist_sol3 = solve_messages_dist(3, Y)\n",
    "solve(dist_sol3[states[0]])\n",
    "dist_sol4 = solve_messages_dist(4, Y)\n",
    "dist_sol4[states[0]]"
   ]
  },
  {
   "cell_type": "code",
   "execution_count": 357,
   "metadata": {
    "collapsed": false
   },
   "outputs": [
    {
     "data": {
      "image/png": "[encoded data removed]",
      "text/plain": [
       "<matplotlib.figure.Figure at 0x10a1fbc10>"
      ]
     },
     "metadata": {},
     "output_type": "display_data"
    }
   ],
   "source": [
    "x = np.linspace(0,1, num=50)\n",
    "#print [dist_sol2[0][0].subs(b,value) for value in x]\n",
    "\n",
    "for solution in dist_sol2:\n",
    "    for item in solution:\n",
    "        plt.plot(x, [item.subs(b, value) for value in x])\n",
    "\n",
    "plt.ylim(0,1)\n",
    "plt.xlim(0,1)\n",
    "plt.show()\n",
    "\n",
    "    #plt.plot(x, [item.subs(b, value) for value in x])\n",
    "    #plt.xlabel(\"Bias\")\n",
    "    #plt.show()"
   ]
  },
  {
   "cell_type": "code",
   "execution_count": 189,
   "metadata": {
    "collapsed": true
   },
   "outputs": [],
   "source": [
    "dist_sol3 = solve_messages_dist(3, Y)\n",
    "dist_sol4 = solve_messages_dist(4, Y)\n",
    "dist_sol5 = solve_messages_dist(5, Y)"
   ]
  },
  {
   "cell_type": "code",
   "execution_count": null,
   "metadata": {
    "collapsed": true
   },
   "outputs": [],
   "source": [
    "def convert_to_integer(expr):\n",
    "    return sum([key*int(value) for key, value in expr.as_coefficients_dict().iteritems()])\n",
    "\n",
    "        \n",
    "    #min_state = this_sol[states[0]]\n",
    "    #print min_state\n",
    "    #print factor(expand(min_state), b)\n",
    "    #expr = fraction(min_state)[0]\n",
    "    #print expr\n",
    "    #expr_dict = expr.as_coefficients_dict()\n",
    "    #print expr_dict\n",
    "    #print abs(expr_dict[1])\n",
    "    #test = sum([key*int(value/abs(expr_dict[1])) for key, value in expr.as_coefficients_dict().iteritems()])\n",
    "    #print test\n",
    "    \n",
    "    \n",
    "    #print solve(fraction(min_state)[0])\n",
    "    #print convert_to_integer(fraction(min_state)[0]) # misses some things\n",
    "    #symbolic_solutions = [re(item.evalf()) for item in solve(this_sol[states[0]], b)]\n",
    "    #if symbolic_solutions:\n",
    "    #    print \"Symbolic solution: \" + str(min(symbolic_solutions))\n",
    "    #else:\n",
    "    #    print \"Numerical solution: \" + str(nsolve(this_sol[states[0]], b, 0))        \n",
    "    #print \"Numerical solution: \" + str(nsolve(this_sol[states[0]], b, 0))\n",
    "    #print \"Symbolic solution: \" + str(min([re(item.evalf()) for item in solve(this_sol[states[0]], b)]))\n",
    "    #return nsolve(this_sol[states[0]], b, 0)\n",
    "    #return min([re(item.evalf()) for item in nsolve(this_sol[states[0]], b, 0)])"
   ]
  },
  {
   "cell_type": "code",
   "execution_count": 183,
   "metadata": {
    "collapsed": false
   },
   "outputs": [
    {
     "name": "stdout",
     "output_type": "stream",
     "text": [
      "(256*b**4 - 448*b**3 + 240*b**2 - 40*b + 1)/(256*b**4 - 512*b**3 + 336*b**2 - 80*b + 5)\n",
      "(256.0*b**4 - 448.0*b**3 + 240.0*b**2 - 40.0*b + 1.0)/(256.0*b**4 - 512.0*b**3 + 336.0*b**2 - 80.0*b + 5.0)\n",
      "[0.250000000000000, 0.586824088833465, 0.883022221559489, 0.0301536896070458]\n",
      "[0.250000000000000]\n",
      "[0.250000000000000]\n"
     ]
    }
   ],
   "source": [
    "print sol5[states[0]]\n",
    "print dist_sol5[states[0]]\n",
    "print [re(item.evalf()) for item in solve(sol5[states[0]])]\n",
    "print solve(sol5[states[0]].evalf())\n",
    "print solve(dist_sol5[states[0]])"
   ]
  },
  {
   "cell_type": "code",
   "execution_count": 273,
   "metadata": {
    "collapsed": false
   },
   "outputs": [
    {
     "name": "stdout",
     "output_type": "stream",
     "text": [
      "1.2*t**0.2\n",
      "[a0, a1]\n",
      "nan\n",
      "nan\n"
     ]
    },
    {
     "ename": "IndexError",
     "evalue": "list index out of range",
     "output_type": "error",
     "traceback": [
      "\u001b[0;31m---------------------------------------------------------------------------\u001b[0m",
      "\u001b[0;31mIndexError\u001b[0m                                Traceback (most recent call last)",
      "\u001b[0;32m<ipython-input-273-e5d8ea70f862>\u001b[0m in \u001b[0;36m<module>\u001b[0;34m()\u001b[0m\n\u001b[1;32m      1\u001b[0m \u001b[0mZ\u001b[0m \u001b[0;34m=\u001b[0m \u001b[0mBeta\u001b[0m\u001b[0;34m(\u001b[0m\u001b[0;34m\"z\"\u001b[0m\u001b[0;34m,\u001b[0m \u001b[0;36m1.2\u001b[0m \u001b[0;34m,\u001b[0m \u001b[0;36m1\u001b[0m\u001b[0;34m)\u001b[0m\u001b[0;34m\u001b[0m\u001b[0m\n\u001b[0;32m----> 2\u001b[0;31m \u001b[0mtest_sol2\u001b[0m \u001b[0;34m=\u001b[0m \u001b[0msolve_messages_dist\u001b[0m\u001b[0;34m(\u001b[0m\u001b[0;36m2\u001b[0m\u001b[0;34m,\u001b[0m \u001b[0mZ\u001b[0m\u001b[0;34m)\u001b[0m\u001b[0;34m\u001b[0m\u001b[0m\n\u001b[0m\u001b[1;32m      3\u001b[0m \u001b[0;32mprint\u001b[0m \u001b[0mtest_sol2\u001b[0m\u001b[0;34m\u001b[0m\u001b[0m\n",
      "\u001b[0;32m<ipython-input-272-fe9448273755>\u001b[0m in \u001b[0;36msolve_messages_dist\u001b[0;34m(m, dist)\u001b[0m\n\u001b[1;32m     15\u001b[0m     \u001b[0mEU_R\u001b[0m \u001b[0;34m=\u001b[0m \u001b[0mEU_S\u001b[0m\u001b[0;34m.\u001b[0m\u001b[0msubs\u001b[0m\u001b[0;34m(\u001b[0m\u001b[0mb\u001b[0m\u001b[0;34m,\u001b[0m\u001b[0;36m0\u001b[0m\u001b[0;34m)\u001b[0m\u001b[0;34m\u001b[0m\u001b[0m\n\u001b[1;32m     16\u001b[0m     \u001b[0;31m# Maximize sender expected utility\u001b[0m\u001b[0;34m\u001b[0m\u001b[0;34m\u001b[0m\u001b[0m\n\u001b[0;32m---> 17\u001b[0;31m     \u001b[0msender_solutions\u001b[0m \u001b[0;34m=\u001b[0m \u001b[0;34m[\u001b[0m\u001b[0mEq\u001b[0m\u001b[0;34m(\u001b[0m\u001b[0mpoint\u001b[0m\u001b[0;34m,\u001b[0m \u001b[0msolve\u001b[0m\u001b[0;34m(\u001b[0m\u001b[0mdiff\u001b[0m\u001b[0;34m(\u001b[0m\u001b[0mEU_S\u001b[0m\u001b[0;34m,\u001b[0m \u001b[0mpoint\u001b[0m\u001b[0;34m)\u001b[0m\u001b[0;34m,\u001b[0m \u001b[0mpoint\u001b[0m\u001b[0;34m)\u001b[0m\u001b[0;34m[\u001b[0m\u001b[0;36m0\u001b[0m\u001b[0;34m]\u001b[0m\u001b[0;34m)\u001b[0m \u001b[0;32mfor\u001b[0m \u001b[0mpoint\u001b[0m \u001b[0;32min\u001b[0m \u001b[0msender_partition\u001b[0m\u001b[0;34m]\u001b[0m\u001b[0;34m\u001b[0m\u001b[0m\n\u001b[0m\u001b[1;32m     18\u001b[0m     \u001b[0;31m#print sender_solutions\u001b[0m\u001b[0;34m\u001b[0m\u001b[0;34m\u001b[0m\u001b[0m\n\u001b[1;32m     19\u001b[0m     \u001b[0;31m# Maximize receiver expected utility\u001b[0m\u001b[0;34m\u001b[0m\u001b[0;34m\u001b[0m\u001b[0m\n",
      "\u001b[0;31mIndexError\u001b[0m: list index out of range"
     ]
    }
   ],
   "source": [
    "Z = Beta(\"z\", 1.2 , 1)\n",
    "test_sol2 = solve_messages_dist(2, Z)\n",
    "print test_sol2"
   ]
  },
  {
   "cell_type": "code",
   "execution_count": 179,
   "metadata": {
    "collapsed": false
   },
   "outputs": [
    {
     "name": "stdout",
     "output_type": "stream",
     "text": [
      "{t2: 0.25*(64.0*b**3 - 96.0*b**2 + 40.0*b - 3.0)/(16.0*b**3 - 24.0*b**2 + 10.0*b - 1.0), t0: 0.25*(64.0*b**3 - 80.0*b**2 + 24.0*b - 1.0)/(16.0*b**3 - 24.0*b**2 + 10.0*b - 1.0), a1: 0.125*(128.0*b**3 - 176.0*b**2 + 60.0*b - 3.0)/(16.0*b**3 - 24.0*b**2 + 10.0*b - 1.0), t1: 0.5*(16.0*b**2 - 16.0*b + 1.0)/(8.0*b**2 - 8.0*b + 1.0), a2: 0.125*(128.0*b**3 - 192.0*b**2 + 76.0*b - 5.0)/(16.0*b**3 - 24.0*b**2 + 10.0*b - 1.0), a3: 0.125*(128.0*b**3 - 192.0*b**2 + 80.0*b - 7.0)/(16.0*b**3 - 24.0*b**2 + 10.0*b - 1.0), a0: 0.125*(64.0*b**3 - 80.0*b**2 + 24.0*b - 1.0)/(16.0*b**3 - 24.0*b**2 + 10.0*b - 1.0)}\n"
     ]
    }
   ],
   "source": [
    "print dist_sol4"
   ]
  },
  {
   "cell_type": "code",
   "execution_count": 425,
   "metadata": {
    "collapsed": false
   },
   "outputs": [],
   "source": [
    "    #for i, item in enumerate(receiver_partition):\n",
    "    #    print density(dist)(t)\n",
    "    #    print density(dist)(t).evalf()\n",
    "    #    print U_S(t, item, b)*(density(dist)(t).evalf())\n",
    "    #    #print U_S(t, item, b)*(density(X)(t).args[0][0])\n",
    "    #    print integrate(U_S(t, item, b)*(density(X)(t).evalf()), (t, sender_points[i], sender_points[i+1]))\n",
    "    # Define sender expected utility\n"
   ]
  },
  {
   "cell_type": "code",
   "execution_count": 181,
   "metadata": {
    "collapsed": false
   },
   "outputs": [
    {
     "name": "stdout",
     "output_type": "stream",
     "text": [
      "(256*b**4 - 448*b**3 + 240*b**2 - 40*b + 1)/(256*b**4 - 512*b**3 + 336*b**2 - 80*b + 5)\n",
      "(256.0*b**4 - 448.0*b**3 + 240.0*b**2 - 40.0*b + 1.0)/(256.0*b**4 - 512.0*b**3 + 336.0*b**2 - 80.0*b + 5.0)\n",
      "256*b**4 - 448*b**3 + 240*b**2 - 40*b + 1\n"
     ]
    }
   ],
   "source": [
    "print sol5[states[0]]\n",
    "print sol5[states[0]].evalf()\n",
    "\n",
    "expr = dist_sol5[states[0]]\n",
    "new_expr = sum([key*int(value) for key, value in fraction(expr)[0].as_coefficients_dict().iteritems()])\n",
    "print new_expr\n",
    "#fraction(2*x)\n",
    "#print test\n",
    "\n",
    "#for key, value in test.iteritems():\n",
    "#    print key*int(value)\n",
    "\n"
   ]
  },
  {
   "cell_type": "code",
   "execution_count": 78,
   "metadata": {
    "collapsed": false
   },
   "outputs": [
    {
     "data": {
      "text/plain": [
       "mpf('0.049515566048790437')"
      ]
     },
     "execution_count": 78,
     "metadata": {},
     "output_type": "execute_result"
    }
   ],
   "source": [
    "nsolve(dist_sol4[states[0]], b, 0)\n",
    "#min([re(item.evalf()) for item in solve(this_sol[states[0]], b)])"
   ]
  },
  {
   "cell_type": "code",
   "execution_count": 55,
   "metadata": {
    "collapsed": false
   },
   "outputs": [
    {
     "data": {
      "text/plain": [
       "0.0954915028125263"
      ]
     },
     "execution_count": 55,
     "metadata": {},
     "output_type": "execute_result"
    }
   ],
   "source": [
    "#X = Beta(\"x\", 1 , 2)\n",
    "#print solve_messages_dist(3, X)\n",
    "\n",
    "#for i, item in enumerate(receiver_partition):\n",
    "    #    print density(X)(t).evalf()\n",
    "    #    print U_S(t, item, b)*(density(X)(t).evalf())\n",
    "        #print U_S(t, item, b)*(density(X)(t).args[0][0])\n",
    "        #print integrate(U_S(t, item, b)*(density(X)(t).args[0][0]), (t, sender_points[i], sender_points[i+1]))   \n",
    "        \n",
    "            #EU_S = sum([integrate(U_S(t, item, b)*(density(X)(t).args[0][0]), (t, sender_points[i], sender_points[i+1])) for i, item in enumerate(receiver_partition)])\n",
    "    #EU_S_test = sum([integrate(U_S(t, item, b), (t, sender_points[i], sender_points[i+1])) for i, item in enumerate(receiver_partition)])\n",
    "    #print EU_S\n",
    "    #print EU_S_test"
   ]
  },
  {
   "cell_type": "code",
   "execution_count": 292,
   "metadata": {
    "collapsed": false
   },
   "outputs": [
    {
     "name": "stdout",
     "output_type": "stream",
     "text": [
      "1.00000000000000\n",
      "-1.0*(a0 - b*(-t + 1) - t)**2 + 1.0\n",
      "1.00000000000000\n",
      "-1.0*(a1 - b*(-t + 1) - t)**2 + 1.0\n",
      "{a0: 0.25*(4.0*b - 1.0)/(2.0*b - 1.0), t0: 0.5*(4.0*b - 1.0)/(2.0*b - 1.0), a1: 0.25*(8.0*b - 3.0)/(2.0*b - 1.0)}\n"
     ]
    }
   ],
   "source": [
    "Y = Beta(\"x\", 1, 1)\n",
    "print solve_messages_dist(2, Y)"
   ]
  },
  {
   "cell_type": "markdown",
   "metadata": {},
   "source": [
    "# OLD"
   ]
  },
  {
   "cell_type": "code",
   "execution_count": 2,
   "metadata": {
    "collapsed": false
   },
   "outputs": [],
   "source": [
    "from sympy import *\n",
    "t, m, a, a_0, a_1, m_0, m_1, b = symbols('t m a a_0 a_1 m_0 m_1 b')\n",
    "t_star = symbols('t_star')"
   ]
  },
  {
   "cell_type": "code",
   "execution_count": 28,
   "metadata": {
    "collapsed": false
   },
   "outputs": [
    {
     "name": "stdout",
     "output_type": "stream",
     "text": [
      "(-a_1 - a_2 + 2*b)/(2*(b - 1))\n"
     ]
    },
    {
     "data": {
      "text/plain": [
       "{t_star: (4*b - 1)/(2*(2*b - 1)),\n",
       " a_1: (4*b - 1)/(4*(2*b - 1)),\n",
       " a_2: (8*b - 3)/(4*(2*b - 1))}"
      ]
     },
     "execution_count": 28,
     "metadata": {},
     "output_type": "execute_result"
    }
   ],
   "source": [
    "##### This works\n",
    "##### DO NOT CHANGE!\n",
    "##### Copy and modify only\n",
    "X = Uniform(\"x\", 0,1)\n",
    "\n",
    "part1 = -(a_1 - t - (1-t)*b)**2\n",
    "part2 = -(a_2 - t - (1-t)*b)**2\n",
    "\n",
    "EU_S = integrate(part1*density(X)(t), (t, 0, t_star)) + integrate(part2*density(X)(t), (t, t_star, 1))\n",
    "t_diff = diff(EU_S, t_star)\n",
    "t_sol = solve(t_diff, t_star)\n",
    "t_sol_f = t_sol[0].args[0][0]\n",
    "print t_sol_f\n",
    "EU_R = EU_S.subs(b, 0)\n",
    "a1_diff = diff(EU_R, a_1)\n",
    "a1_sol = solve(a1_diff, a_1)\n",
    "a1_sol_f = a1_sol[1].args[0][0]\n",
    "a2_diff = diff(EU_R, a_2)\n",
    "a2_sol = solve(a2_diff, a_2)\n",
    "a2_sol_f = a2_sol[1].args[0][0]\n",
    "# Solve system of equations\n",
    "solve([Eq(t_star, t_sol_f), Eq(a_1, a1_sol_f), Eq(a_2, a2_sol_f)], [t_star, a_1, a_2])"
   ]
  },
  {
   "cell_type": "code",
   "execution_count": 1,
   "metadata": {
    "collapsed": true
   },
   "outputs": [],
   "source": [
    "from sympy import *\n",
    "from sympy.stats import Uniform, density, Beta, E\n",
    "X = Beta(\"x\", 1,2)"
   ]
  },
  {
   "cell_type": "code",
   "execution_count": 5,
   "metadata": {
    "collapsed": true
   },
   "outputs": [],
   "source": [
    "part1 = 1 - (actions[0] - t - (1-t)*b)**2\n",
    "part2 = 1 - (actions[1] - t - (1-t)*b)**2\n",
    "\n",
    "full_S = integrate(part1*density(X)(t).evalf(), (t, 0, states[0])) + integrate(part2*density(X)(t).evalf(), (t, states[0], 1))\n",
    "full_R = full_S.subs(b, 0)"
   ]
  },
  {
   "cell_type": "code",
   "execution_count": 13,
   "metadata": {
    "collapsed": true
   },
   "outputs": [],
   "source": [
    "init_printing(use_latex='mathjax')"
   ]
  },
  {
   "cell_type": "code",
   "execution_count": 6,
   "metadata": {
    "collapsed": false
   },
   "outputs": [
    {
     "name": "stdout",
     "output_type": "stream",
     "text": [
      "0.25*(-a0 - a1 + 4.0*b - sqrt((a0 + a1 - 2.0)**2) - 2.0)/(b - 1.0) == t0\n"
     ]
    }
   ],
   "source": [
    "t0_sol = Eq(solve(diff(full_S, states[0]), states[0])[0], states[0])\n",
    "print t0_sol"
   ]
  },
  {
   "cell_type": "code",
   "execution_count": 14,
   "metadata": {
    "collapsed": false
   },
   "outputs": [
    {
     "data": {
      "text/latex": [
       "$$\\frac{1}{b - 1.0} \\left(- 0.25 a_{0} - 0.25 a_{1} + 1.0 b - 0.25 \\sqrt{\\left(a_{0} + a_{1} - 2.0\\right)^{2}} - 0.5\\right) = t_{0}$$"
      ],
      "text/plain": [
       "     ⎛                      __________________      ⎞     \n",
       "     ⎜                     ╱                2       ⎟     \n",
       "0.25⋅⎝-a₀ - a₁ + 4.0⋅b - ╲╱  (a₀ + a₁ - 2.0)   - 2.0⎠     \n",
       "───────────────────────────────────────────────────── = t₀\n",
       "                       b - 1.0                            "
      ]
     },
     "execution_count": 14,
     "metadata": {},
     "output_type": "execute_result"
    }
   ],
   "source": [
    "t0_sol"
   ]
  },
  {
   "cell_type": "code",
   "execution_count": 7,
   "metadata": {
    "collapsed": false
   },
   "outputs": [
    {
     "name": "stdout",
     "output_type": "stream",
     "text": [
      "0.333333333333333*t0*(2.0*t0 - 3.0)/(t0 - 2.0) == a0\n"
     ]
    }
   ],
   "source": [
    "a0_sol = Eq(solve(diff(full_R, actions[0]), actions[0])[0], actions[0])\n",
    "print a0_sol"
   ]
  },
  {
   "cell_type": "code",
   "execution_count": 8,
   "metadata": {
    "collapsed": false
   },
   "outputs": [
    {
     "name": "stdout",
     "output_type": "stream",
     "text": [
      "0.666666666666667*t0 + 0.333333333333333 == a1\n"
     ]
    }
   ],
   "source": [
    "a1_sol = Eq(solve(diff(full_R, actions[1]), actions[1])[0], actions[1])\n",
    "print a1_sol"
   ]
  },
  {
   "cell_type": "code",
   "execution_count": 17,
   "metadata": {
    "collapsed": false
   },
   "outputs": [],
   "source": [
    "result = solve([t0_sol, a0_sol, a1_sol], [states[0], actions[0], actions[1]])"
   ]
  },
  {
   "cell_type": "code",
   "execution_count": 18,
   "metadata": {
    "collapsed": false
   },
   "outputs": [
    {
     "name": "stdout",
     "output_type": "stream",
     "text": [
      "[((9.0*b - sqrt(9.0*b**2 - 18.0*b + 5.0) - 3.0)/(6.0*b - 2.0), 0.333333333333333*(-3.0 + 2.0*(9.0*b - sqrt(9.0*b**2 - 18.0*b + 5.0) - 3.0)/(6.0*b - 2.0))*(9.0*b - sqrt(9.0*b**2 - 18.0*b + 5.0) - 3.0)/((-2.0 + (9.0*b - (9.0*b**2 - 18.0*b + 5.0)**0.5 - 3.0)/(6.0*b - 2.0))*(6.0*b - 2.0)), 0.333333333333333 + 0.666666666666667*(9.0*b - sqrt(9.0*b**2 - 18.0*b + 5.0) - 3.0)/(6.0*b - 2.0)), ((9.0*b + sqrt(9.0*b**2 - 18.0*b + 5.0) - 3.0)/(6.0*b - 2.0), 0.333333333333333*(-3.0 + 2.0*(9.0*b + sqrt(9.0*b**2 - 18.0*b + 5.0) - 3.0)/(6.0*b - 2.0))*(9.0*b + sqrt(9.0*b**2 - 18.0*b + 5.0) - 3.0)/((-2.0 + (9.0*b + (9.0*b**2 - 18.0*b + 5.0)**0.5 - 3.0)/(6.0*b - 2.0))*(6.0*b - 2.0)), 0.333333333333333 + 0.666666666666667*(9.0*b + sqrt(9.0*b**2 - 18.0*b + 5.0) - 3.0)/(6.0*b - 2.0))]\n"
     ]
    }
   ],
   "source": [
    "print result"
   ]
  },
  {
   "cell_type": "code",
   "execution_count": 54,
   "metadata": {
    "collapsed": true
   },
   "outputs": [],
   "source": [
    "#result = [((9.0*b - sqrt(9.0*b**2 - 18.0*b + 5.0) - 3.0)/(6.0*b - 2.0), 0.333333333333333*(-3.0 + 2.0*(9.0*b - sqrt(9.0*b**2 - 18.0*b + 5.0) - 3.0)/(6.0*b - 2.0))*(9.0*b - sqrt(9.0*b**2 - 18.0*b + 5.0) - 3.0)/((-2.0 + (9.0*b - (9.0*b**2 - 18.0*b + 5.0)**0.5 - 3.0)/(6.0*b - 2.0))*(6.0*b - 2.0)), 0.333333333333333 + 0.666666666666667*(9.0*b - sqrt(9.0*b**2 - 18.0*b + 5.0) - 3.0)/(6.0*b - 2.0)), ((9.0*b + sqrt(9.0*b**2 - 18.0*b + 5.0) - 3.0)/(6.0*b - 2.0), 0.333333333333333*(-3.0 + 2.0*(9.0*b + sqrt(9.0*b**2 - 18.0*b + 5.0) - 3.0)/(6.0*b - 2.0))*(9.0*b + sqrt(9.0*b**2 - 18.0*b + 5.0) - 3.0)/((-2.0 + (9.0*b + (9.0*b**2 - 18.0*b + 5.0)**0.5 - 3.0)/(6.0*b - 2.0))*(6.0*b - 2.0)), 0.333333333333333 + 0.666666666666667*(9.0*b + sqrt(9.0*b**2 - 18.0*b + 5.0) - 3.0)/(6.0*b - 2.0))]"
   ]
  },
  {
   "cell_type": "code",
   "execution_count": 25,
   "metadata": {
    "collapsed": false
   },
   "outputs": [
    {
     "data": {
      "text/latex": [
       "$$\\left ( \\frac{1}{6.0 b - 2.0} \\left(9.0 b + \\sqrt{9.0 b^{2} - 18.0 b + 5.0} - 3.0\\right), \\quad \\frac{0.333333333333333 \\left(-3.0 + \\frac{1}{6.0 b - 2.0} \\left(18.0 b + 2.0 \\sqrt{9.0 b^{2} - 18.0 b + 5.0} - 6.0\\right)\\right) \\left(9.0 b + \\sqrt{9.0 b^{2} - 18.0 b + 5.0} - 3.0\\right)}{\\left(-2.0 + \\frac{1}{6.0 b - 2.0} \\left(9.0 b + \\left(9.0 b^{2} - 18.0 b + 5.0\\right)^{0.5} - 3.0\\right)\\right) \\left(6.0 b - 2.0\\right)}, \\quad 0.333333333333333 + \\frac{1}{6.0 b - 2.0} \\left(6.0 b + 0.666666666666667 \\sqrt{9.0 b^{2} - 18.0 b + 5.0} - 2.0\\right)\\right )$$"
      ],
      "text/plain": [
       "⎛                                                                  ⎛          \n",
       "⎜                                                                  ⎜          \n",
       "⎜           _____________________________                          ⎜       2.0\n",
       "⎜          ╱      2                              0.333333333333333⋅⎜-3.0 + ───\n",
       "⎜9.0⋅b + ╲╱  9.0⋅b  - -18.0⋅(-1)⋅b + 5.0  - 3.0                    ⎝          \n",
       "⎜──────────────────────────────────────────────, ─────────────────────────────\n",
       "⎜                 6.0⋅b - 2.0                                                 \n",
       "⎜                                                                             \n",
       "⎜                                                                             \n",
       "⎜                                                                             \n",
       "⎝                                                                             \n",
       "\n",
       " ⎛           _____________________________      ⎞⎞                            \n",
       " ⎜          ╱      2                            ⎟⎟ ⎛           _______________\n",
       "⋅⎝9.0⋅b + ╲╱  9.0⋅b  - -18.0⋅(-1)⋅b + 5.0  - 3.0⎠⎟ ⎜          ╱      2        \n",
       "─────────────────────────────────────────────────⎟⋅⎝9.0⋅b + ╲╱  9.0⋅b  - -18.0\n",
       "                 6.0⋅b - 2.0                     ⎠                            \n",
       "──────────────────────────────────────────────────────────────────────────────\n",
       "⎛                                            0.5      ⎞                       \n",
       "⎜               ⎛     2                     ⎞         ⎟                       \n",
       "⎜       9.0⋅b + ⎝9.0⋅b  - -18.0⋅(-1)⋅b + 5.0⎠    - 3.0⎟                       \n",
       "⎜-2.0 + ──────────────────────────────────────────────⎟⋅(6.0⋅b - 2.0)         \n",
       "⎝                        6.0⋅b - 2.0                  ⎠                       \n",
       "\n",
       "                                                                              \n",
       "______________      ⎞                                                         \n",
       "                    ⎟                                        ⎛           _____\n",
       "⋅(-1)⋅b + 5.0  - 3.0⎠                                        ⎜          ╱     \n",
       "                                           0.666666666666667⋅⎝9.0⋅b + ╲╱  9.0⋅\n",
       "─────────────────────, 0.333333333333333 + ───────────────────────────────────\n",
       "                                                                      6.0⋅b - \n",
       "                                                                              \n",
       "                                                                              \n",
       "                                                                              \n",
       "                                                                              \n",
       "\n",
       "                               ⎞\n",
       "                               ⎟\n",
       "________________________      ⎞⎟\n",
       " 2                            ⎟⎟\n",
       "b  - -18.0⋅(-1)⋅b + 5.0  - 3.0⎠⎟\n",
       "───────────────────────────────⎟\n",
       "2.0                            ⎟\n",
       "                               ⎟\n",
       "                               ⎟\n",
       "                               ⎟\n",
       "                               ⎠"
      ]
     },
     "execution_count": 25,
     "metadata": {},
     "output_type": "execute_result"
    }
   ],
   "source": [
    "result[1]"
   ]
  },
  {
   "cell_type": "code",
   "execution_count": 23,
   "metadata": {
    "collapsed": false
   },
   "outputs": [
    {
     "data": {
      "text/latex": [
       "$$\\left [ 0.166666666666667\\right ]$$"
      ],
      "text/plain": [
       "[0.166666666666667]"
      ]
     },
     "execution_count": 23,
     "metadata": {},
     "output_type": "execute_result"
    }
   ],
   "source": [
    "solve(result[1][0], b)"
   ]
  },
  {
   "cell_type": "code",
   "execution_count": 58,
   "metadata": {
    "collapsed": false
   },
   "outputs": [
    {
     "name": "stdout",
     "output_type": "stream",
     "text": [
      "2.61803398874989\n",
      "\n",
      "3.15737865166652\n",
      "\n",
      "2.07868932583326\n",
      "\n",
      "\n",
      "0.381966011250105\n",
      "\n",
      "0.175954681666807\n",
      "\n",
      "0.587977340833403\n",
      "\n",
      "\n"
     ]
    }
   ],
   "source": [
    "for item in result:\n",
    "    print item[0].subs(b,0)\n",
    "    print\n",
    "    print item[1].subs(b,0)\n",
    "    print\n",
    "    print item[2].subs(b,0)\n",
    "    print\n",
    "    print"
   ]
  },
  {
   "cell_type": "code",
   "execution_count": 504,
   "metadata": {
    "collapsed": false
   },
   "outputs": [
    {
     "data": {
      "text/plain": [
       "0.333333333333333"
      ]
     },
     "execution_count": 504,
     "metadata": {},
     "output_type": "execute_result"
    }
   ],
   "source": [
    "X = Beta(\"x\", 1,2)\n",
    "E(X).evalf()"
   ]
  },
  {
   "cell_type": "code",
   "execution_count": 498,
   "metadata": {
    "collapsed": false
   },
   "outputs": [
    {
     "data": {
      "text/plain": [
       "[0.166666666666667]"
      ]
     },
     "execution_count": 498,
     "metadata": {},
     "output_type": "execute_result"
    }
   ],
   "source": [
    "solve(result[1][0], b)"
   ]
  },
  {
   "cell_type": "code",
   "execution_count": 506,
   "metadata": {
    "collapsed": false
   },
   "outputs": [
    {
     "data": {
      "image/png": "[encoded data removed]",
      "text/plain": [
       "<matplotlib.figure.Figure at 0x10ca044d0>"
      ]
     },
     "metadata": {},
     "output_type": "display_data"
    }
   ],
   "source": [
    "\n",
    "x = np.linspace(0,1/6.0, num=100)\n",
    "\n",
    "plt.plot(x, [result[1][0].subs(b, value).evalf() for value in x], 'k')\n",
    "plt.plot(x, [result[1][1].subs(b, value).evalf() for value in x], 'k', linestyle='--')\n",
    "plt.plot(x, [result[1][2].subs(b, value).evalf() for value in x], 'k', linestyle='--')\n",
    "plt.axhline(1/3.0, 1/6.0, 1, color='k', ls='--')\n",
    "plt.ylim(0,1)\n",
    "plt.xlim(0,1)\n",
    "plt.xlabel(\"Bias\")\n",
    "plt.ylabel(\"Actions and States\")\n",
    "plt.savefig(\"sol2-beta.png\")\n",
    "plt.show()"
   ]
  },
  {
   "cell_type": "code",
   "execution_count": 42,
   "metadata": {
    "collapsed": false
   },
   "outputs": [
    {
     "name": "stdout",
     "output_type": "stream",
     "text": [
      "[0.0, 0.5*(-a0 - a1 + 2.0*b)/(b - 1.0)]\n",
      "0.5*(-a0 - a1 + 2.0*b)/(b - 1.0) == t0\n",
      "[0.666666666666667*t0]\n",
      "0.666666666666667*t0 == a0\n",
      "[0.666666666666667*(t0**3 - 1.0)/(t0**2 - 1.0)]\n",
      "0.666666666666667*(t0**3 - 1.0)/(t0**2 - 1.0) == a1\n"
     ]
    }
   ],
   "source": [
    "from sympy.stats import Uniform, density, Beta\n",
    "X = Beta(\"x\", 2,1)\n",
    "\n",
    "part1 = 1 - (actions[0] - t - (1-t)*b)**2\n",
    "part2 = 1 - (actions[1] - t - (1-t)*b)**2\n",
    "\n",
    "full_S = integrate(part1*density(X)(t).evalf(), (t, 0, states[0])) + integrate(part2*density(X)(t).evalf(), (t, states[0], 1))\n",
    "full_R = full_S.subs(b, 0)\n",
    "\n",
    "#print full_S\n",
    "t0_sol = Eq(solve(diff(full_S, states[0]), states[0])[1], states[0])\n",
    "print solve(diff(full_S, states[0]), states[0])\n",
    "print t0_sol\n",
    "a0_sol = Eq(solve(diff(full_R, actions[0]), actions[0])[0], actions[0])\n",
    "print solve(diff(full_R, actions[0]), actions[0])\n",
    "print a0_sol\n",
    "a1_sol = Eq(solve(diff(full_R, actions[1]), actions[1])[0], actions[1])\n",
    "print solve(diff(full_R, actions[1]), actions[1])\n",
    "print a1_sol\n",
    "\n",
    "result_sym = solve([t0_sol, a0_sol, a1_sol], [states[0], actions[0], actions[1]])"
   ]
  },
  {
   "cell_type": "code",
   "execution_count": 43,
   "metadata": {
    "collapsed": false
   },
   "outputs": [
    {
     "name": "stdout",
     "output_type": "stream",
     "text": [
      "[(0.5*(3.0*b - sqrt(36.0*b**2 - 24.0*b + 5.0)*Abs(3.0*b - 2.0) - 2.0)/(9.0*b**2 - 9.0*b + 2.0), 0.333333333333333*(3.0*b - sqrt(36.0*b**2 - 24.0*b + 5.0)*Abs(3.0*b - 2.0) - 2.0)/(9.0*b**2 - 9.0*b + 2.0), 0.333333333333333*(18.0*b**2 - 9.0*b + sqrt(36.0*b**2 - 24.0*b + 5.0)*Abs(3.0*b - 2.0) + 2.0)/(3.0*b - 1.0)), (0.5*(3.0*b + sqrt(36.0*b**2 - 24.0*b + 5.0)*Abs(3.0*b - 2.0) - 2.0)/(9.0*b**2 - 9.0*b + 2.0), 0.333333333333333*(3.0*b + sqrt(36.0*b**2 - 24.0*b + 5.0)*Abs(3.0*b - 2.0) - 2.0)/(9.0*b**2 - 9.0*b + 2.0), 0.333333333333333*(18.0*b**2 - 9.0*b - sqrt(36.0*b**2 - 24.0*b + 5.0)*Abs(3.0*b - 2.0) + 2.0)/(3.0*b - 1.0))]\n"
     ]
    }
   ],
   "source": [
    "print result_sym"
   ]
  },
  {
   "cell_type": "code",
   "execution_count": 44,
   "metadata": {
    "collapsed": false
   },
   "outputs": [
    {
     "data": {
      "image/png": "[encoded data removed]",
      "text/plain": [
       "<matplotlib.figure.Figure at 0x10e0a5b50>"
      ]
     },
     "metadata": {},
     "output_type": "display_data"
    }
   ],
   "source": [
    "x = np.linspace(0,1/3.0, num=100)\n",
    "\n",
    "plt.plot(x, [result_sym[1][0].subs(b, value).evalf() for value in x], 'k') #, linestyle='--')\n",
    "plt.plot(x, [result_sym[1][1].subs(b, value).evalf() for value in x], 'k', linestyle='--')\n",
    "plt.plot(x, [result_sym[1][2].subs(b, value).evalf() for value in x], 'k', linestyle='--')\n",
    "plt.axhline(2/3.0, 1/3.0, 1, color='k', ls='--')\n",
    "plt.ylim(0,1) \n",
    "plt.xlim(0,1)\n",
    "plt.show()"
   ]
  },
  {
   "cell_type": "code",
   "execution_count": 35,
   "metadata": {
    "collapsed": false
   },
   "outputs": [
    {
     "name": "stdout",
     "output_type": "stream",
     "text": [
      "0.666666666666667\n"
     ]
    }
   ],
   "source": [
    "X = Beta('x', 2, 1)\n",
    "print E(X).evalf()"
   ]
  },
  {
   "cell_type": "code",
   "execution_count": 27,
   "metadata": {
    "collapsed": false
   },
   "outputs": [
    {
     "name": "stdout",
     "output_type": "stream",
     "text": [
      "0.333333333333333*(3.0*b + sqrt(36.0*b**2 - 24.0*b + 5.0)*Abs(3.0*b - 2.0) - 2.0)/(9.0*b**2 - 9.0*b + 2.0)\n"
     ]
    },
    {
     "data": {
      "text/plain": [
       "mpf('0.33333327100519195')"
      ]
     },
     "execution_count": 27,
     "metadata": {},
     "output_type": "execute_result"
    }
   ],
   "source": [
    "print result_sym[1][1]\n",
    "nsolve(result_sym[1][1], b, 0)"
   ]
  },
  {
   "cell_type": "code",
   "execution_count": null,
   "metadata": {
    "collapsed": true
   },
   "outputs": [],
   "source": [
    "##### This works\n",
    "##### DO NOT CHANGE!\n",
    "##### Copy and modify only\n",
    "from sympy.stats import Uniform, density\n",
    "X = Uniform(\"x\", 0,1)\n",
    "\n",
    "from sympy import *\n",
    "t, a_0, a_1 = symbols('t a_0 a_1', positive=True)\n",
    "b = symbols('b', positive=True)\n",
    "t_star = symbols('t_star', positive=True)\n",
    "\n",
    "part1 = 1 - (a_0 - t - (1-t)*b)**2\n",
    "part2 = 1 - (a_1 - t - (1-t)*b)**2\n",
    "\n",
    "t_sol = solve(diff(integrate(part1*density(X)(t), (t, 0, t_star)) +\\\n",
    "                   integrate(part2*density(X)(t), (t, t_star, 1)), t_star), t_star)\n",
    "print t_sol[0].args[0][0]"
   ]
  },
  {
   "cell_type": "code",
   "execution_count": 23,
   "metadata": {
    "collapsed": true
   },
   "outputs": [],
   "source": [
    "from sympy.mpmath import *"
   ]
  },
  {
   "cell_type": "code",
   "execution_count": 24,
   "metadata": {
    "collapsed": true
   },
   "outputs": [],
   "source": [
    "X = Beta('x', 1, 2)\n",
    "t = symbols('t')"
   ]
  },
  {
   "cell_type": "code",
   "execution_count": 31,
   "metadata": {
    "collapsed": false
   },
   "outputs": [
    {
     "data": {
      "text/plain": [
       "mpf('-0.5')"
      ]
     },
     "execution_count": 31,
     "metadata": {},
     "output_type": "execute_result"
    }
   ],
   "source": [
    "f = lambda t : (density(X)(t)/P(X > .5))*log((density(X)(t)/P(X > .5)))\n",
    "g = lambda t : (density(X)(t)/P(X > .5))*log(density(X)(t).evalf())\n",
    "quad(f, [.5,1])\n",
    "quad(g, [.5,1])"
   ]
  },
  {
   "cell_type": "code",
   "execution_count": 25,
   "metadata": {
    "collapsed": false
   },
   "outputs": [
    {
     "data": {
      "text/plain": [
       "mpf('0.69314718055994529')"
      ]
     },
     "execution_count": 25,
     "metadata": {},
     "output_type": "execute_result"
    }
   ],
   "source": [
    "log(2)"
   ]
  }
 ],
 "metadata": {
  "kernelspec": {
   "display_name": "Python 2",
   "language": "python",
   "name": "python2"
  },
  "language_info": {
   "codemirror_mode": {
    "name": "ipython",
    "version": 2
   },
   "file_extension": ".py",
   "mimetype": "text/x-python",
   "name": "python",
   "nbconvert_exporter": "python",
   "pygments_lexer": "ipython2",
   "version": "2.7.10"
  }
 },
 "nbformat": 4,
 "nbformat_minor": 0
}
