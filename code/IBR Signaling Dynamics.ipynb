{
 "cells": [
  {
   "cell_type": "markdown",
   "metadata": {},
   "source": [
    "This is the continuous-time dynamics of an IBR like system."
   ]
  },
  {
   "cell_type": "code",
   "execution_count": 1,
   "metadata": {
    "collapsed": true
   },
   "outputs": [],
   "source": [
    "from scipy.integrate import quad\n",
    "from scipy.stats import beta"
   ]
  },
  {
   "cell_type": "code",
   "execution_count": 2,
   "metadata": {
    "collapsed": true
   },
   "outputs": [],
   "source": [
    "def expectation(start, stop):\n",
    "    if start <=0:\n",
    "        return quad(lambda x : beta.pdf(x, 1, 2)*x, 0, stop)[0]/quad(lambda x : beta.pdf(x, 1, 2), 0, stop)[0]\n",
    "    else:\n",
    "        return quad(lambda x : beta.pdf(x, 1, 2)*x, start, stop)[0]/quad(lambda x : beta.pdf(x, 1, 2), start, stop)[0]"
   ]
  },
  {
   "cell_type": "code",
   "execution_count": 3,
   "metadata": {
    "collapsed": true
   },
   "outputs": [],
   "source": [
    "def Y_discrete(Y0, n, b):\n",
    "    # Unpack the position vector\n",
    "    s, r1, r2 = Y0\n",
    "    # Create vectors\n",
    "    s_list = []\n",
    "    s_list.append(s)\n",
    "    r1_list = []\n",
    "    r1_list.append(r1)\n",
    "    r2_list = []\n",
    "    r2_list.append(r2)\n",
    "    # Iterate\n",
    "    for i in range(1,n):\n",
    "        s_move = (.5*(r1_list[i-1] + r2_list[i-1]) - b)/(1-b)\n",
    "        # Calculate next values\n",
    "        if s_move < 0:\n",
    "            s_list.append(0)\n",
    "            r1_list.append(0)\n",
    "            r2_list.append(expectation(0,1))\n",
    "        else:\n",
    "            s_list.append(s_move)\n",
    "            r1_list.append(expectation(0, s_list[i]))\n",
    "            r2_list.append(expectation(s_list[i], 1))\n",
    "    \n",
    "                          \n",
    "    return [s_list, r1_list, r2_list]"
   ]
  },
  {
   "cell_type": "code",
   "execution_count": null,
   "metadata": {
    "collapsed": true
   },
   "outputs": [],
   "source": [
    "s0 = .999\n",
    "r20 = expectation(s0,1)\n",
    "r10 = expectation(0,s0)\n",
    "s, r1, r2 = Y_discrete([s0, r10, r20], 15, .1666)\n",
    "plt.plot(range(15), r1, 'o-', color='.5')\n",
    "plt.plot(range(15), r2, 'o-', color='.5')\n",
    "plt.plot(range(15), s, 'ko-')\n",
    "plt.ylim(-.05,1.05)\n",
    "plt.xlim(-.05,14.05)\n",
    "plt.ylabel(\"States and actions\", fontsize=15)\n",
    "plt.xlabel(\"Iterations\", fontsize=15)\n",
    "plt.savefig('IBR-discrete.png')\n",
    "plt.show()"
   ]
  },
  {
   "cell_type": "code",
   "execution_count": null,
   "metadata": {
    "collapsed": true
   },
   "outputs": [],
   "source": [
    "plt.plot(range(15), [1 - beta.cdf(item, 1,2) for item in s], 'o-')\n",
    "plt.ylim(-.05,1.05)\n",
    "plt.xlim(-.05,14.05)\n",
    "plt.ylabel(r'Proportion of $m_2$', fontsize=15)\n",
    "plt.xlabel(\"Iterations\", fontsize=15)\n",
    "plt.savefig('IBR-ne-not.png')\n",
    "plt.show()"
   ]
  },
  {
   "cell_type": "code",
   "execution_count": null,
   "metadata": {
    "collapsed": true
   },
   "outputs": [],
   "source": [
    "for i in np.linspace(0, .5, num=4):\n",
    "    s, r1, r2 = Y_discrete([s0, r10, r20], 15, i)\n",
    "    plt.plot(range(15), [1 - beta.cdf(item, 1,2) for item in s], 'bo-')\n",
    "    \n",
    "plt.ylim(-.05,1.05)\n",
    "plt.xlim(-.05,14.05)\n",
    "plt.ylabel(r'Proportion of $m_2$', fontsize=15)\n",
    "plt.xlabel(\"Iterations\", fontsize=15)\n",
    "plt.savefig('IBR-mult.png')\n",
    "plt.show()"
   ]
  },
  {
   "cell_type": "code",
   "execution_count": null,
   "metadata": {
    "collapsed": true
   },
   "outputs": [],
   "source": [
    "def Y_diff(Y0, t, params):\n",
    "    # Unpack the position vector\n",
    "    s, r1, r2 = Y0\n",
    "    b_value = params[0]\n",
    "    # Calculate next values\n",
    "    if .5*(r1 + r2) < b_value:\n",
    "        s_next = 0\n",
    "        s_diff = -s\n",
    "        #r1_next = expectation\n",
    "        r1_diff = -r1\n",
    "        r2_next = expectation(0,1)\n",
    "        r2_diff = r2_next - r2\n",
    "        return [s_diff, r1_diff, r2_diff]\n",
    "    else:\n",
    "        s_next = (.5*(r1 + r2) - b_value)/(1-b_value)\n",
    "        s_diff = s_next - s\n",
    "        r1_next = expectation(0,s_next)\n",
    "        r2_next = expectation(s_next, 1)\n",
    "        r1_diff = r1_next - r1\n",
    "        r2_diff = r2_next - r2\n",
    "        return [s_diff, r1_diff, r2_diff]"
   ]
  },
  {
   "cell_type": "code",
   "execution_count": null,
   "metadata": {
    "collapsed": true
   },
   "outputs": [],
   "source": [
    "Y0 = [.9999, expectation(0,.9999), expectation(.9999, 1)]\n",
    "t = np.linspace(0, 10, num=50)\n",
    "Y0_sol = odeint(Y_diff, Y0, t, args=([.3],))"
   ]
  },
  {
   "cell_type": "code",
   "execution_count": null,
   "metadata": {
    "collapsed": true
   },
   "outputs": [],
   "source": [
    "plt.plot(Y0_sol)\n",
    "plt.ylim(0,1)\n",
    "plt.show()"
   ]
  },
  {
   "cell_type": "code",
   "execution_count": null,
   "metadata": {
    "collapsed": true
   },
   "outputs": [],
   "source": [
    "M_sol = [1 - beta.cdf(item, 1, 2) for item in Y0_sol[:,0]]\n",
    "plt.plot(M_sol)\n",
    "plt.ylim(0,1)\n",
    "plt.show()"
   ]
  },
  {
   "cell_type": "code",
   "execution_count": null,
   "metadata": {
    "collapsed": true
   },
   "outputs": [],
   "source": [
    "Y0 = [.9999, expectation(0,.9999), expectation(.9999, 1)]\n",
    "t = np.linspace(0, 10, num=50)\n",
    "for i in  [n/6.0 for n in range(1,6)]: #np.linspace(.1666,1, num=4):\n",
    "    Y_sol = odeint(Y_diff, Y0, t, args=([i],))\n",
    "    M_sol = [1 - beta.cdf(item, 1, 2) for item in Y_sol[:,0]]\n",
    "    plt.plot(t, M_sol, color='b')\n",
    "plt.ylim(0,1)\n",
    "plt.show()"
   ]
  },
  {
   "cell_type": "code",
   "execution_count": null,
   "metadata": {
    "collapsed": true
   },
   "outputs": [],
   "source": [
    "Y0 = [.9999, expectation(0,.9999), expectation(.9999, 1)]\n",
    "t = np.linspace(0, 10, num=50)\n",
    "for i in np.linspace(0, .1666, num=4):\n",
    "    Y_sol = odeint(Y_diff, Y0, t, args=([i],))\n",
    "    M_sol = [1 - beta.cdf(item, 1, 2) for item in Y_sol[:,0]]\n",
    "    plt.plot(t, M_sol, color='k')\n",
    "plt.ylim(0,1)\n",
    "plt.show()"
   ]
  },
  {
   "cell_type": "code",
   "execution_count": null,
   "metadata": {
    "collapsed": true
   },
   "outputs": [],
   "source": []
  },
  {
   "cell_type": "code",
   "execution_count": null,
   "metadata": {
    "collapsed": true
   },
   "outputs": [],
   "source": []
  },
  {
   "cell_type": "code",
   "execution_count": null,
   "metadata": {
    "collapsed": true
   },
   "outputs": [],
   "source": []
  }
 ],
 "metadata": {
  "kernelspec": {
   "display_name": "Python 2",
   "language": "python",
   "name": "python2"
  },
  "language_info": {
   "codemirror_mode": {
    "name": "ipython",
    "version": 2
   },
   "file_extension": ".py",
   "mimetype": "text/x-python",
   "name": "python",
   "nbconvert_exporter": "python",
   "pygments_lexer": "ipython2",
   "version": "2.7.10"
  }
 },
 "nbformat": 4,
 "nbformat_minor": 0
}
