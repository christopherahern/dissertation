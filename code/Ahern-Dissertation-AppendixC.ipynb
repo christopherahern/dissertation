{
 "cells": [
  {
   "cell_type": "markdown",
   "metadata": {},
   "source": [
    "# Acquisition "
   ]
  },
  {
   "cell_type": "markdown",
   "metadata": {},
   "source": [
    "This section details the simulations of the variational learning model. We begin by defining the parameters of the linguistic environment. We then define the other components of the model and simulate individual trajectories."
   ]
  },
  {
   "cell_type": "markdown",
   "metadata": {},
   "source": [
    "The linguistic environment is defined by the distribution over grammars, and their relative independent evidence."
   ]
  },
  {
   "cell_type": "code",
   "execution_count": 1,
   "metadata": {
    "collapsed": true
   },
   "outputs": [],
   "source": [
    "# Set parameters for linguistic environment\n",
    "p = 0.5  # Probability of grammar G_2\n",
    "a1 = .1  # Independent evidence for G1\n",
    "a2 = .5  # Independent evidence for G2\n",
    "# Expected probability of G_2 in the limit\n",
    "E_p = p*a2/((1-p)*a1 + p*a2)"
   ]
  },
  {
   "cell_type": "markdown",
   "metadata": {},
   "source": [
    "The "
   ]
  },
  {
   "cell_type": "code",
   "execution_count": 2,
   "metadata": {
    "collapsed": false
   },
   "outputs": [],
   "source": [
    "# Import models\n",
    "import numpy as np\n",
    "import random\n",
    "from scipy import stats\n",
    "\n",
    "# Create randomv variable to simulate environment\n",
    "xk = np.arange(3) # There are three potential outcomes\n",
    "# 1. s_0 : token is comptable with G1 only\n",
    "# 2. s_1 : token is compatibile with G1 and G2\n",
    "# 3. s_2 : token is compatible with G2 onle\n",
    "pk = ((1-p)*a1, (1-p)*(1-a1) + p*(1-a2), p*a2)\n",
    "custm = stats.rv_discrete(name='custm', values=(xk, pk))\n",
    "# Run simulation for number of steps\n",
    "Nturns=10000\n",
    "Nagents=2000\n",
    "p=np.zeros((Nturns, Nagents))\n",
    "# Construct vector to hold probability\n",
    "gamma=0.005 # Set learning parameter\n",
    "p[0,:] = .1 * np.ones((1, Nagents))\n",
    "# Generate token from environment\n",
    "s_env = custm.rvs(size=Nturns)"
   ]
  },
  {
   "cell_type": "code",
   "execution_count": 3,
   "metadata": {
    "collapsed": false
   },
   "outputs": [],
   "source": [
    "for i in range(Nagents):\n",
    "    #print s_env\n",
    "    s_env = custm.rvs(size=Nturns)\n",
    "    for n in range(1,Nturns):\n",
    "        if random.random() < p[n-1, i]:\n",
    "            # Learner picks G2\n",
    "            if s_env[n] == 0:\n",
    "                # Token is only compatible with G1\n",
    "                # ---> Punish G2\n",
    "                p[n, i] = (1-gamma)*p[n-1, i]\n",
    "            else:\n",
    "                # Token in compatbile with G2\n",
    "                # ---> Reward G2\n",
    "                p[n, i] = p[n-1, i] + (1 - p[n-1, i])*gamma\n",
    "        else:\n",
    "            # Learner picks G1\n",
    "            if s_env[n] == 2:\n",
    "                # Token is only compatible with G2\n",
    "                # ---> Punish G1\n",
    "                p[n, i] = p[n-1, i] + (1 - p[n-1, i])*gamma\n",
    "            else:\n",
    "                # Token is compatible with G1\n",
    "                p[n, i] = (1-gamma)*p[n-1, i]"
   ]
  },
  {
   "cell_type": "code",
   "execution_count": 6,
   "metadata": {
    "collapsed": false
   },
   "outputs": [
    {
     "data": {
      "image/png": "[encoded data removed]",
      "text/plain": [
       "<matplotlib.figure.Figure at 0x110457dd0>"
      ]
     },
     "metadata": {},
     "output_type": "display_data"
    }
   ],
   "source": [
    "plt.plot(p[:,4])\n",
    "plt.ylim(0,1)\n",
    "plt.show()"
   ]
  },
  {
   "cell_type": "code",
   "execution_count": 7,
   "metadata": {
    "collapsed": false
   },
   "outputs": [
    {
     "data": {
      "text/plain": [
       "array([ 0.69067061,  0.69567061,  0.70067061,  0.70567061,  0.71067061,\n",
       "        0.71567061,  0.72067061,  0.72567061,  0.73067061,  0.73567061,\n",
       "        0.74067061,  0.74567061,  0.75067061,  0.75567061,  0.76067061,\n",
       "        0.76567061,  0.77067061,  0.77567061,  0.78067061,  0.78567061,\n",
       "        0.79067061,  0.79567061,  0.80067061,  0.80567061,  0.81067061,\n",
       "        0.81567061,  0.82067061,  0.82567061,  0.83067061,  0.83567061,\n",
       "        0.84067061,  0.84567061,  0.85067061,  0.85567061,  0.86067061,\n",
       "        0.86567061,  0.87067061,  0.87567061,  0.88067061,  0.88567061,\n",
       "        0.89067061,  0.89567061,  0.90067061,  0.90567061,  0.91067061,\n",
       "        0.91567061,  0.92067061,  0.92567061,  0.93067061])"
      ]
     },
     "execution_count": 7,
     "metadata": {},
     "output_type": "execute_result"
    }
   ],
   "source": [
    "final = p[-1,:]\n",
    "np.arange(min(final), max(final), gamma)"
   ]
  },
  {
   "cell_type": "code",
   "execution_count": 8,
   "metadata": {
    "collapsed": false
   },
   "outputs": [],
   "source": [
    "from scipy.stats import norm"
   ]
  },
  {
   "cell_type": "code",
   "execution_count": 9,
   "metadata": {
    "collapsed": false
   },
   "outputs": [
    {
     "data": {
      "image/png": "[encoded data removed]",
      "text/plain": [
       "<matplotlib.figure.Figure at 0x1105de050>"
      ]
     },
     "metadata": {},
     "output_type": "display_data"
    }
   ],
   "source": [
    "final = p[-1,:]\n",
    "plt.hist(final, bins=35, normed=True, align='left')\n",
    "xmin, xmax = plt.xlim(2*E_p-1, 1)\n",
    "mu, std = norm.fit(final)\n",
    "x = np.linspace(xmin, xmax, 100)\n",
    "pr = norm.pdf(x, mu, std)\n",
    "plt.plot(x, pr, 'k', linewidth=2)\n",
    "#\n",
    "plt.xlabel(r'$p_2$', fontsize=15)\n",
    "plt.savefig(\"lrp-dist.png\", format='png', dpi=1000)\n",
    "plt.show()"
   ]
  },
  {
   "cell_type": "code",
   "execution_count": 10,
   "metadata": {
    "collapsed": false
   },
   "outputs": [
    {
     "data": {
      "text/plain": [
       "0.83375415816186615"
      ]
     },
     "execution_count": 10,
     "metadata": {},
     "output_type": "execute_result"
    }
   ],
   "source": [
    "p_mean = np.mean(p, axis=1)\n",
    "final.mean()"
   ]
  },
  {
   "cell_type": "code",
   "execution_count": 5,
   "metadata": {
    "collapsed": true
   },
   "outputs": [],
   "source": [
    "import matplotlib.pyplot as plt\n",
    "%matplotlib inline"
   ]
  },
  {
   "cell_type": "code",
   "execution_count": 11,
   "metadata": {
    "collapsed": false
   },
   "outputs": [
    {
     "name": "stderr",
     "output_type": "stream",
     "text": [
      "//anaconda/lib/python2.7/site-packages/matplotlib/font_manager.py:1282: UserWarning: findfont: Font family [u'Helvetica'] not found. Falling back to Bitstream Vera Sans\n",
      "  (prop.get_family(), self.defaultFamily[fontext]))\n"
     ]
    },
    {
     "data": {
      "image/png": "[encoded data removed]",
      "text/plain": [
       "<matplotlib.figure.Figure at 0x110543a50>"
      ]
     },
     "metadata": {},
     "output_type": "display_data"
    }
   ],
   "source": [
    "hfont = {'fontname':'Helvetica'}\n",
    "plt.plot(p_mean, linewidth=3, color='b')\n",
    "for i in range(5):\n",
    "    plt.plot(p[:,i], color='k', alpha=.2)\n",
    "plt.ylim(0,1)\n",
    "plt.axhline(y=E_p, ls='dashed', color='k')\n",
    "plt.ylabel(r\"$p_2$\", fontsize=15, **hfont)\n",
    "plt.xlabel(\"Time\", fontsize=15, **hfont)\n",
    "plt.savefig(\"lrp-learning.png\", format='png', dpi=1000)\n",
    "plt.show()"
   ]
  },
  {
   "cell_type": "markdown",
   "metadata": {},
   "source": [
    "# Dynamics"
   ]
  },
  {
   "cell_type": "code",
   "execution_count": 5,
   "metadata": {
    "collapsed": false
   },
   "outputs": [],
   "source": [
    "from sympy import symbols, diff"
   ]
  },
  {
   "cell_type": "code",
   "execution_count": 6,
   "metadata": {
    "collapsed": false
   },
   "outputs": [
    {
     "name": "stdout",
     "output_type": "stream",
     "text": [
      "s/(-s + 1)\n",
      "-s\n"
     ]
    }
   ],
   "source": [
    "p, r, s = symbols('p r s')\n",
    "lrp_diff = p*(1-p)*s/(1 - s*(1-p))\n",
    "\n",
    "print diff(lrp_diff, p).subs(p,0)\n",
    "print diff(lrp_diff, p).subs(p,1)"
   ]
  },
  {
   "cell_type": "markdown",
   "metadata": {},
   "source": [
    "The first model we want to fit is derived from Yang's (2002) variational model of syntactic learning. The form is logistic-like, where $r$ acts as the growth parameter. In reality, it represents the ratio of evidence a child learner has for two competing grammars. In this case, these are the grammars underlying the forms of negation \"ne\" and \"ne...not\"."
   ]
  },
  {
   "cell_type": "markdown",
   "metadata": {},
   "source": [
    "\n",
    "\\begin{equation}\n",
    "\\dot{y} = y(1-y)\\frac{1 - r}{(1-y)r + y}\n",
    "\\end{equation}"
   ]
  },
  {
   "cell_type": "code",
   "execution_count": 97,
   "metadata": {
    "collapsed": true
   },
   "outputs": [],
   "source": [
    "def y_diff(y, t, params):\n",
    "    s = params[0] # unpack parameters\n",
    "    return y*(1-y)*s/(1 - s*(1-y))"
   ]
  },
  {
   "cell_type": "markdown",
   "metadata": {},
   "source": [
    "We can solve this equation numerically for any initial condition $y_0$ and rate of growth $r$."
   ]
  },
  {
   "cell_type": "code",
   "execution_count": 98,
   "metadata": {
    "collapsed": true
   },
   "outputs": [],
   "source": [
    "from scipy.integrate import odeint"
   ]
  },
  {
   "cell_type": "code",
   "execution_count": 99,
   "metadata": {
    "collapsed": true
   },
   "outputs": [],
   "source": [
    "import matplotlib.pyplot as plt\n",
    "%matplotlib inline"
   ]
  },
  {
   "cell_type": "code",
   "execution_count": 100,
   "metadata": {
    "collapsed": false
   },
   "outputs": [
    {
     "data": {
      "image/png": "[encoded data removed]",
      "text/plain": [
       "<matplotlib.figure.Figure at 0x11c0b1150>"
      ]
     },
     "metadata": {},
     "output_type": "display_data"
    }
   ],
   "source": [
    "t = np.linspace(0, 5, num=376)\n",
    "y_sol = odeint(y_diff, 0.01, t, args=([.8],))\n",
    "plt.plot(t, y_sol)\n",
    "plt.ylim(0,1)\n",
    "plt.show()"
   ]
  },
  {
   "cell_type": "markdown",
   "metadata": {},
   "source": [
    "In fact, we can vary $r$ and see the result. As $r \\rightarrow 0$ the curve gets steeper and as $r \\rightarrow 1$ it flattens out."
   ]
  },
  {
   "cell_type": "code",
   "execution_count": 116,
   "metadata": {
    "collapsed": false
   },
   "outputs": [
    {
     "data": {
      "text/plain": [
       "array([ 0.1  ,  0.325,  0.55 ,  0.775,  1.   ])"
      ]
     },
     "execution_count": 116,
     "metadata": {},
     "output_type": "execute_result"
    }
   ],
   "source": [
    "np.linspace(.1,1, num=5)"
   ]
  },
  {
   "cell_type": "code",
   "execution_count": 138,
   "metadata": {
    "collapsed": false
   },
   "outputs": [
    {
     "data": {
      "image/png": "[encoded data removed]",
      "text/plain": [
       "<matplotlib.figure.Figure at 0x109f542d0>"
      ]
     },
     "metadata": {},
     "output_type": "display_data"
    }
   ],
   "source": [
    "hfont = {'fontname':'Helvetica'}\n",
    "t = np.linspace(0, 20, num=376)\n",
    "for i in np.linspace(.1,1, num=5):#, endpoint=False):\n",
    "    y_sol = odeint(y_diff, .01, t, args=([i],))\n",
    "    plt.plot(t, y_sol, 'b')\n",
    "plt.ylim(0,1)\n",
    "plt.xlabel('Time', fontsize=15, **hfont)\n",
    "plt.ylabel(r'$p$', fontsize=15, **hfont)\n",
    "plt.text(.3, .9, r'$s=1$')\n",
    "plt.text(10, .7, r'$s=.325$')\n",
    "plt.text(15, .1, r'$s=.1$')\n",
    "plt.savefig(\"lrp-gain.eps\", format='eps', dpi=1000)\n",
    "plt.show()"
   ]
  },
  {
   "cell_type": "code",
   "execution_count": 125,
   "metadata": {
    "collapsed": true
   },
   "outputs": [],
   "source": [
    "def log_diff(y, t, params):\n",
    "    s = params[0] # unpack parameters\n",
    "    return y*(1-y)*s"
   ]
  },
  {
   "cell_type": "code",
   "execution_count": 142,
   "metadata": {
    "collapsed": false
   },
   "outputs": [
    {
     "data": {
      "image/png": "[encoded data removed]",
      "text/plain": [
       "<matplotlib.figure.Figure at 0x109c0a650>"
      ]
     },
     "metadata": {},
     "output_type": "display_data"
    }
   ],
   "source": [
    "hfont = {'fontname':'Helvetica'}\n",
    "t = np.linspace(0, 20, num=376)\n",
    "s = .4\n",
    "y1_sol = odeint(y_diff, .01, t, args=([s],))\n",
    "y2_sol = odeint(log_diff, .01, t, args=([s],))\n",
    "plt.plot(t, y1_sol)\n",
    "plt.plot(t, y2_sol, 'g--')\n",
    "plt.ylim(0,1)\n",
    "plt.xlabel('Time', fontsize=15, **hfont)\n",
    "plt.ylabel(r'$p$', fontsize=15, **hfont)\n",
    "plt.savefig(\"lrp-log.png\", format='png', dpi=1000)\n",
    "plt.show()"
   ]
  },
  {
   "cell_type": "markdown",
   "metadata": {},
   "source": [
    "# Modeling"
   ]
  },
  {
   "cell_type": "markdown",
   "metadata": {},
   "source": [
    "Now that we have defined the differential equation and know that we can solve it, we'd like to fit it to the data we described above. We want to fit three parameters:\n",
    "\n",
    "* $y_0$ : the initial state of the differential equation\n",
    "* $r$ : the growth rate of the differentital equation\n",
    "* $t$ : the time scale of the equation\n",
    "\n",
    "While, the first two parameters have clear interpretations, the last is equally as important. Since the solution to the differential equation evolves along an arbitrary time scale. Fitting the solution to data requires a specification of how those arbitrary units map to years, months, or days. In fact, we can fit this parameter to the data along with the other ones, but we have to be careful that there aren't multiple solutions."
   ]
  },
  {
   "cell_type": "code",
   "execution_count": 13,
   "metadata": {
    "collapsed": true
   },
   "outputs": [],
   "source": [
    "import pandas as pd\n",
    "import numpy as np"
   ]
  },
  {
   "cell_type": "code",
   "execution_count": 14,
   "metadata": {
    "collapsed": false
   },
   "outputs": [],
   "source": [
    "df1 = pd.read_csv(\"./first_curve_data.csv\")"
   ]
  },
  {
   "cell_type": "code",
   "execution_count": 15,
   "metadata": {
    "collapsed": true
   },
   "outputs": [],
   "source": [
    "def error_function1(params):\n",
    "    \"\"\"Find the SSE of model\"\"\"\n",
    "    # Unpack the parameters\n",
    "    y0 = params[0]\n",
    "    s = params[1]\n",
    "    #k = params[2]\n",
    "    # Solve y_diff given y0, r, k\n",
    "    y_sol = odeint(y_diff, y0, np.linspace(0, 75, num=376), args=([s],))\n",
    "    # Get data indices\n",
    "    indices = np.subtract(df1.year.unique(), min(df1.year))\n",
    "    # Get count of tokens for indices\n",
    "    counts = df1.groupby('year').size() #.loc[index + 1125]\n",
    "    # Get count of value==1 for indices\n",
    "    values = df1.groupby('year').aggregate(np.sum)\n",
    "    # Initialize RSS value\n",
    "    RSS = 0\n",
    "    # Loop over indices\n",
    "    for index in indices:\n",
    "        zero_count = counts.loc[index + min(df1.year)] - values.loc[index + min(df1.year), 'value']\n",
    "        one_count = values.loc[index + min(df1.year), 'value']\n",
    "        #\n",
    "        RSS += zero_count*(0 - y_sol[index])**2 + one_count*(1 - y_sol[index])**2\n",
    "    return RSS\n",
    "    "
   ]
  },
  {
   "cell_type": "code",
   "execution_count": 16,
   "metadata": {
    "collapsed": false
   },
   "outputs": [],
   "source": [
    "df2 = pd.read_csv(\"./second_curve_data.csv\")\n",
    "df2 = df2[df2.year >= 1300]"
   ]
  },
  {
   "cell_type": "code",
   "execution_count": 17,
   "metadata": {
    "collapsed": true
   },
   "outputs": [],
   "source": [
    "def error_function2(params):\n",
    "    \"\"\"Find the RSS of model\"\"\"\n",
    "    # Unpack the parameters\n",
    "    y0 = params[0]\n",
    "    r = params[1]\n",
    "    #k = params[2]\n",
    "    # Solve y_diff given y0, r, k\n",
    "    y_sol = odeint(y_diff, y0, np.linspace(0, 40, num=201), args=([r],))\n",
    "    # Get data indices\n",
    "    indices = np.subtract(df2.year.unique(), min(df2.year))\n",
    "    # Get count of tokens for indices\n",
    "    counts = df2.groupby('year').size() #.loc[index + 1125]\n",
    "    # Get count of value==1 for indices\n",
    "    values = df2.groupby('year').aggregate(np.sum)\n",
    "    # Initialize RSS value\n",
    "    RSS = 0\n",
    "    # Loop over indices\n",
    "    for index in indices:\n",
    "        zero_count = counts.loc[index + min(df2.year)] - values.loc[index + min(df2.year), 'value']\n",
    "        one_count = values.loc[index + min(df2.year), 'value']\n",
    "        #\n",
    "        RSS += zero_count*(0 - y_sol[index])**2 + one_count*(1 - y_sol[index])**2\n",
    "    return RSS\n",
    "    "
   ]
  },
  {
   "cell_type": "markdown",
   "metadata": {},
   "source": [
    "We want to minimize the error function within certain bounds. That is, we want $y_0 \\in [0,1]$, $r \\in [0,1]$, and probably $t < 375$. We'll start off with an initial guess that roughly matches those parameters. Note that this can take a minute or two, so be patient."
   ]
  },
  {
   "cell_type": "code",
   "execution_count": 18,
   "metadata": {
    "collapsed": true
   },
   "outputs": [],
   "source": [
    "from scipy.optimize import minimize"
   ]
  },
  {
   "cell_type": "code",
   "execution_count": 19,
   "metadata": {
    "collapsed": false
   },
   "outputs": [
    {
     "data": {
      "text/plain": [
       "  status: 0\n",
       " success: True\n",
       "    njev: 13\n",
       "    nfev: 62\n",
       "     fun: array([ 472.32994975])\n",
       "       x: array([ 0.03137994,  0.10291529])\n",
       " message: 'Optimization terminated successfully.'\n",
       "     jac: array([ 0.01625061,  0.02018738,  0.        ])\n",
       "     nit: 13"
      ]
     },
     "execution_count": 19,
     "metadata": {},
     "output_type": "execute_result"
    }
   ],
   "source": [
    "# First transition\n",
    "guess = np.array([.01, .1])\n",
    "bnds = ((0, 1), (0, 1))\n",
    "res1 = minimize(error_function1, x0=guess, method=\"SLSQP\", bounds=bnds)\n",
    "res1"
   ]
  },
  {
   "cell_type": "code",
   "execution_count": 21,
   "metadata": {
    "collapsed": false
   },
   "outputs": [
    {
     "data": {
      "text/plain": [
       "  status: 1\n",
       "    nfev: 112\n",
       "   maxcv: 0.0\n",
       " success: True\n",
       "     fun: 472.33364035784126\n",
       "       x: array([ 0.03193982,  0.10262013])\n",
       " message: 'Optimization terminated successfully.'"
      ]
     },
     "execution_count": 21,
     "metadata": {},
     "output_type": "execute_result"
    }
   ],
   "source": [
    "# First transition\n",
    "guess = np.array([.01, .1])\n",
    "bnds = ((0, 1), (0, 1))\n",
    "res1 = minimize(error_function1, x0=guess, method=\"COBYLA\", bounds=bnds)\n",
    "res1"
   ]
  },
  {
   "cell_type": "code",
   "execution_count": 22,
   "metadata": {
    "collapsed": false
   },
   "outputs": [
    {
     "data": {
      "image/png": "[encoded data removed]",
      "text/plain": [
       "<matplotlib.figure.Figure at 0x10a189750>"
      ]
     },
     "metadata": {},
     "output_type": "display_data"
    }
   ],
   "source": [
    "# Plot of fitted parametrs\n",
    "y1_sol = odeint(y_diff, res1.x[0], np.linspace(0, 75, num=376), args=([res1.x[1]],))\n",
    "plt.plot(range(1124,1500), y1_sol)\n",
    "plt.ylim(0,1)\n",
    "plt.xlim(1100, 1500)\n",
    "plt.xlabel('Time', fontsize=15, **hfont)\n",
    "plt.ylabel(r'$p_{not}$', fontsize=15, **hfont)\n",
    "plt.savefig(\"lrp-first.eps\", format='eps', dpi=1000)\n",
    "plt.show()"
   ]
  },
  {
   "cell_type": "code",
   "execution_count": 23,
   "metadata": {
    "collapsed": false
   },
   "outputs": [
    {
     "data": {
      "text/plain": [
       "  status: 0\n",
       " success: True\n",
       "    njev: 23\n",
       "    nfev: 109\n",
       "     fun: array([ 318.1133742])\n",
       "       x: array([ 0.00174836,  0.34127753])\n",
       " message: 'Optimization terminated successfully.'\n",
       "     jac: array([-1.45677567, -0.08760452,  0.        ])\n",
       "     nit: 25"
      ]
     },
     "execution_count": 23,
     "metadata": {},
     "output_type": "execute_result"
    }
   ],
   "source": [
    "# Second transition\n",
    "guess = np.array([.01, .5])\n",
    "bnds = ((0, 1), (0, 1))\n",
    "res2 = minimize(error_function2, x0=guess, method=\"SLSQP\", bounds=bnds)\n",
    "res2"
   ]
  },
  {
   "cell_type": "code",
   "execution_count": 28,
   "metadata": {
    "collapsed": false
   },
   "outputs": [
    {
     "data": {
      "text/plain": [
       "  status: 1\n",
       "    nfev: 867\n",
       "   maxcv: 0.0\n",
       " success: True\n",
       "     fun: 2168818.4800749901\n",
       "       x: array([ -5.35554894e-06,   8.16376378e-01])\n",
       " message: 'Optimization terminated successfully.'"
      ]
     },
     "execution_count": 28,
     "metadata": {},
     "output_type": "execute_result"
    }
   ],
   "source": [
    "# Second transition\n",
    "guess = np.array([.01, .1])\n",
    "bnds = ((0, 1), (0, 1))\n",
    "res2 = minimize(error_function2, x0=guess, method=\"COBYLA\", bounds=bnds)\n",
    "res2"
   ]
  },
  {
   "cell_type": "code",
   "execution_count": 270,
   "metadata": {
    "collapsed": false
   },
   "outputs": [
    {
     "data": {
      "image/png": "[encoded data removed]",
      "text/plain": [
       "<matplotlib.figure.Figure at 0x109f14a90>"
      ]
     },
     "metadata": {},
     "output_type": "display_data"
    }
   ],
   "source": [
    "# Plot of fitted parametrs\n",
    "y2_sol = odeint(y_diff, res2.x[0], np.linspace(0, 40, num=201), args=([res2.x[1]],))\n",
    "plt.plot(range(1299,1500), y2_sol)\n",
    "plt.ylim(0,1)\n",
    "#plt.ylim(-.1,1.1)\n",
    "plt.xlim(1100,1500)\n",
    "plt.xlabel('Time', fontsize=15, **hfont)\n",
    "plt.ylabel(r'$p_\\varnothing$', fontsize=15, **hfont)\n",
    "plt.savefig(\"lrp-second.eps\", format='eps', dpi=1000)\n",
    "plt.show()"
   ]
  },
  {
   "cell_type": "code",
   "execution_count": 271,
   "metadata": {
    "collapsed": false
   },
   "outputs": [
    {
     "data": {
      "image/png": "[encoded data removed]",
      "text/plain": [
       "<matplotlib.figure.Figure at 0x107ba7350>"
      ]
     },
     "metadata": {},
     "output_type": "display_data"
    }
   ],
   "source": [
    "p_spec = y1_sol\n",
    "p_head = np.append(np.zeros((376 - 201, 1)), y2_sol).reshape(376,1)\n",
    "\n",
    "plt.plot(range(1124,1500), np.multiply((1-p_spec), (1-p_head)), 'r')\n",
    "plt.plot(range(1124,1500), np.multiply(p_spec, (1-p_head)), 'b')\n",
    "plt.plot(range(1124,1500), np.multiply(p_spec, p_head), 'g')\n",
    "plt.xlim(1100,1500)\n",
    "plt.xlabel('Time', fontsize=15, **hfont)\n",
    "plt.ylabel(r'$p$', fontsize=15, **hfont)\n",
    "plt.savefig(\"lrp-combined.eps\", format='eps', dpi=1000)\n",
    "plt.show()"
   ]
  }
 ],
 "metadata": {
  "kernelspec": {
   "display_name": "Python 2",
   "language": "python",
   "name": "python2"
  },
  "language_info": {
   "codemirror_mode": {
    "name": "ipython",
    "version": 2
   },
   "file_extension": ".py",
   "mimetype": "text/x-python",
   "name": "python",
   "nbconvert_exporter": "python",
   "pygments_lexer": "ipython2",
   "version": "2.7.10"
  }
 },
 "nbformat": 4,
 "nbformat_minor": 0
}
