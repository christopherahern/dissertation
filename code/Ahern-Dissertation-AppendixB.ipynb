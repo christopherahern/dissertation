{
 "cells": [
  {
   "cell_type": "markdown",
   "metadata": {},
   "source": [
    "# Simulating the game dynamics"
   ]
  },
  {
   "cell_type": "code",
   "execution_count": 76,
   "metadata": {
    "collapsed": true
   },
   "outputs": [],
   "source": [
    "from scipy.integrate import odeint\n",
    "from scipy.optimize import minimize\n",
    "from scipy.special import beta as beta_func\n",
    "from scipy.misc import comb\n",
    "def beta_binomial(n, alpha, beta):\n",
    "    return np.matrix([comb(n-1,k) * beta_func(k+alpha, n-1-k+beta) / beta_func(alpha,beta) for k in range(n)])\n",
    "def beta_binomial_expectation(prior):\n",
    "    return sum([prior[i]*i/len(prior) for i in range(len(prior))])"
   ]
  },
  {
   "cell_type": "code",
   "execution_count": 77,
   "metadata": {
    "collapsed": true
   },
   "outputs": [],
   "source": [
    "import numpy as np"
   ]
  },
  {
   "cell_type": "code",
   "execution_count": 78,
   "metadata": {
    "collapsed": true
   },
   "outputs": [],
   "source": [
    "import time"
   ]
  },
  {
   "cell_type": "code",
   "execution_count": 79,
   "metadata": {
    "collapsed": true
   },
   "outputs": [],
   "source": [
    "import matplotlib.pyplot as plt\n",
    "%matplotlib inline"
   ]
  },
  {
   "cell_type": "code",
   "execution_count": 80,
   "metadata": {
    "collapsed": true
   },
   "outputs": [],
   "source": [
    "def discrete_time_replicator_dynamics(n_steps, X, Y, A, B, P):\n",
    "    \"\"\"Calculate the discrete-time replicator dynamics for\"\"\"\n",
    "    # Get the number of states, signals, and actions\n",
    "    X_nrow = X.shape[0]\n",
    "    X_ncol = X.shape[1]\n",
    "    Y_nrow = Y.shape[0] # Same as X_ncol\n",
    "    Y_ncol = Y.shape[1] # Often, but not necessarily, the same as X_nrow\n",
    "    # Create empty arrays to hold the population states over time\n",
    "    X_t = np.empty(shape=(n_steps, X_nrow*X_ncol), dtype=float)\n",
    "    Y_t = np.empty(shape=(n_steps, X_nrow*X_ncol), dtype=float)\n",
    "    # Set the initial state\n",
    "    X_t[0,:] = X.ravel()\n",
    "    Y_t[0,:] = Y.ravel()\n",
    "    # Iterate forward over (n-1) steps\n",
    "    for i in range(1,n_steps):\n",
    "        # Get the previous state\n",
    "        X_prev = X_t[i-1,:].reshape(X_nrow, X_ncol)\n",
    "        Y_prev = Y_t[i-1,:].reshape(Y_nrow, Y_ncol)\n",
    "        # Calculate the scaling factors\n",
    "        E_X = A * Y_prev.T\n",
    "        X_bar = (((A * Y_prev.T) * X_prev.T).diagonal()).T\n",
    "        X_hat = E_X / X_bar\n",
    "        # \n",
    "        C = np.divide(np.multiply(P.T, X_prev), (P * X_prev)[0])\n",
    "        E_Y = (B.T * C).T\n",
    "        Y_bar = ((E_Y*Y_prev.T).diagonal()).T\n",
    "        Y_hat = np.divide(E_Y, Y_bar)\n",
    "        # Calculate next states\n",
    "        X_t[i,:] = np.multiply(X_prev, X_hat).ravel()\n",
    "        Y_t[i,:] = np.multiply(Y_prev, Y_hat).ravel()\n",
    "    return X_t, Y_t"
   ]
  },
  {
   "cell_type": "code",
   "execution_count": 81,
   "metadata": {
    "collapsed": true
   },
   "outputs": [],
   "source": [
    "def U_S(state, action, b):\n",
    "    return 1 - (action - state - (1-state)*b)**2\n",
    "    #return 1 - abs(action - state - (1-state)*b)\n",
    "def U_R(state, action):\n",
    "    return 1 - (action - state)**2\n",
    "# Define functions to map integers to interval [0,1]\n",
    "def t(i, n):\n",
    "    return i/float(n)\n",
    "def a(i, n):\n",
    "    return i/float(n)"
   ]
  },
  {
   "cell_type": "code",
   "execution_count": 82,
   "metadata": {
    "collapsed": true
   },
   "outputs": [],
   "source": [
    "number=200\n",
    "prior = beta_binomial(number, 1, 2)"
   ]
  },
  {
   "cell_type": "code",
   "execution_count": 83,
   "metadata": {
    "collapsed": false
   },
   "outputs": [
    {
     "data": {
      "image/png": "[encoded data removed]",
      "text/plain": [
       "<matplotlib.figure.Figure at 0x102035e50>"
      ]
     },
     "metadata": {},
     "output_type": "display_data"
    }
   ],
   "source": [
    "#hfont = {'fontname':'Helvetica'}\n",
    "for k in np.linspace(0, 1, num=7): # 10, 2, 2, .2\n",
    "    #print k\n",
    "    # Define number of states\n",
    "    number = 200\n",
    "    # Define prior probability\n",
    "    prior = beta_binomial(number, 1, 2)\n",
    "    P = np.repeat(prior, 2, axis=0)\n",
    "    # Define payoff matrices\n",
    "    b = k\n",
    "    A =  np.matrix([[U_S(t(i, number-1), a(j,number-1), b) for j in range(number)] for i in range(number)])\n",
    "    B = np.matrix([[U_R(t(i, number-1), a(j,number-1)) for j in range(number)] for i in range(number)])\n",
    "    # Define sender population\n",
    "    X0_m2 = beta_binomial(number, 10, 1)\n",
    "    X0_m1 = 1 - X0_m2\n",
    "    X0 = np.vstack((X0_m1, X0_m2)).T\n",
    "    # Define receiver population\n",
    "    Y0 = np.vstack((beta_binomial(number, 1, 2), beta_binomial(number, 28, 2)))\n",
    "    # Solve and plot\n",
    "    X_sol, Y_sol = discrete_time_replicator_dynamics(100, X0, Y0, A, B, P)\n",
    "    m2_sol = [prior.dot(line)[0,0] for line in X_sol[:,1::2]]\n",
    "    plt.plot(m2_sol, 'b')\n",
    "plt.ylim(0,1)\n",
    "plt.xlabel('Time', fontsize=15)\n",
    "plt.ylabel(r'$p(m_2)$', fontsize=15)\n",
    "plt.text(20, .9, r'b=1')\n",
    "plt.text(60, .8, r'b=.71')\n",
    "plt.text(80, .05, r'b=0')\n",
    "#plt.savefig(\"replicator-multiple-b.pdf\", format='pdf', dpi=1000)\n",
    "plt.show()"
   ]
  },
  {
   "cell_type": "code",
   "execution_count": 125,
   "metadata": {
    "collapsed": false
   },
   "outputs": [
    {
     "data": {
      "image/png": "[encoded data removed]",
      "text/plain": [
       "<matplotlib.figure.Figure at 0x103bd05d0>"
      ]
     },
     "metadata": {},
     "output_type": "display_data"
    }
   ],
   "source": [
    "for k in np.linspace(.25, .75, num=10): # 10, 2, 2, .2\n",
    "    #print k\n",
    "    # Define number of states\n",
    "    number = 200\n",
    "    # Define prior probability\n",
    "    prior = beta_binomial(number, 1, 20)\n",
    "    P = np.repeat(prior, 2, axis=0)\n",
    "    # Define payoff matrices\n",
    "    b = k\n",
    "    A =  np.matrix([[U_S(t(i, number-1), a(j,number-1), b) for j in range(number)] for i in range(number)])\n",
    "    B = np.matrix([[U_R(t(i, number-1), a(j,number-1)) for j in range(number)] for i in range(number)])\n",
    "    # Define sender population\n",
    "    X0_m2 = beta_binomial(number, 7, 1)\n",
    "    X0_m1 = 1 - X0_m2\n",
    "    X0 = np.vstack((X0_m1, X0_m2)).T\n",
    "    # Define receiver population\n",
    "    Y0 = np.vstack((beta_binomial(number, 1, 2), beta_binomial(number, 28, 2)))\n",
    "    # Solve and plot\n",
    "    X_sol, Y_sol = discrete_time_replicator_dynamics(375, X0, Y0, A, B, P)\n",
    "    m2_sol = [prior.dot(line)[0,0] for line in X_sol[:,1::2]]\n",
    "    plt.plot(m2_sol, 'b')\n",
    "plt.ylim(-.1,1.1)\n",
    "plt.xlabel('Time', fontsize=15)\n",
    "plt.ylabel(r'$p(m_2)$', fontsize=15)\n",
    "plt.show()"
   ]
  },
  {
   "cell_type": "markdown",
   "metadata": {},
   "source": [
    "# Fitting the signaling model to historical corpus data"
   ]
  },
  {
   "cell_type": "code",
   "execution_count": null,
   "metadata": {
    "collapsed": true
   },
   "outputs": [],
   "source": [
    "import pandas as pd\n",
    "import numpy as np\n",
    "df1 = pd.read_csv(\"./first_curve_data.csv\")"
   ]
  },
  {
   "cell_type": "code",
   "execution_count": null,
   "metadata": {
    "collapsed": true
   },
   "outputs": [],
   "source": [
    "def loss_first(params):\n",
    "    # Unpack the paramters\n",
    "    a_x = params[0]\n",
    "    b_y1 = params[1]\n",
    "    b_y2 = params[2]\n",
    "    b = params[3]\n",
    "    k=1 # Change this to alter scaling parameter\n",
    "    # Construct initial states\n",
    "    # Number of states and actions\n",
    "    number = 200\n",
    "    # Define prior probability\n",
    "    prior = beta_binomial(number, 1, 2)\n",
    "    P = np.repeat(prior, 2, axis=0)\n",
    "    # Define payoff matrices\n",
    "    A =  np.matrix([[U_S(t(i, number-1), a(j,number-1), b) for j in range(number)] for i in range(number)])\n",
    "    B = np.matrix([[U_R(t(i, number-1), a(j,number-1)) for j in range(number)] for i in range(number)])\n",
    "    # Define sender population\n",
    "    X0_m2 = beta_binomial(number, a_x, 1)#b_x)\n",
    "    X0_m1 = 1 - X0_m2\n",
    "    X0 = np.vstack((X0_m1, X0_m2)).T\n",
    "    # Calculate expected state given m2\n",
    "    p_ti_m2 = np.multiply(X0[:,1], prior.T)\n",
    "    p_m2 = prior * X0[:,1]\n",
    "    p_t_m2 = p_ti_m2 / p_m2\n",
    "    E_t_m2 = (np.array(range(200)) * p_t_m2) / number\n",
    "    scale = E_t_m2[0,0]/(1 - E_t_m2[0,0])\n",
    "    # Define receiver population\n",
    "    Y0 = np.vstack((beta_binomial(number, .5*b_y1, b_y1), beta_binomial(number, scale*b_y2, b_y2)))\n",
    "    # Iterate through the discrete-time replicator dynamics\n",
    "    X_sol, Y_sol = discrete_time_replicator_dynamics(376, X0, Y0, A, B, P)\n",
    "    # Get p(m_2) over time\n",
    "    m2_sol = [prior.dot(line)[0,0] for line in X_sol[:,1::2]]\n",
    "    # Get data indices\n",
    "    indices = np.subtract(df1.year.unique(), min(df1.year))\n",
    "    # Get count of tokens for indices\n",
    "    counts = df1.groupby('year').size() #.loc[index + 1125]\n",
    "    # Get count of value==1 for indices\n",
    "    values = df1.groupby('year').aggregate(np.sum)\n",
    "    # Initialize RSS value\n",
    "    RSS = 0\n",
    "    # Loop over indices\n",
    "    for index in indices:\n",
    "        zero_count = counts.loc[index + min(df1.year)] - values.loc[index + min(df1.year), 'value']\n",
    "        one_count = values.loc[index + min(df1.year), 'value']\n",
    "        #\n",
    "        RSS += zero_count*(0 - m2_sol[index])**2 + one_count*(1 - m2_sol[index])**2\n",
    "    return RSS"
   ]
  },
  {
   "cell_type": "code",
   "execution_count": null,
   "metadata": {
    "collapsed": false
   },
   "outputs": [],
   "source": [
    "# Start with initial guesses and bounds\n",
    "guess = np.array([10, 2, 2, .2])\n",
    "bnds = ((1, 100), (1, 100), (1, 100), (0,1))\n",
    "# Start timer\n",
    "start = time.time()\n",
    "# Solve for various numbers of iterations\n",
    "res = minimize(loss_first, x0=guess, method=\"COBYLA\", bounds=bnds, options={\"maxiter\" : 2000, \"disp\" : True})\n",
    "end = time.time()\n",
    "elapsed = end - start\n",
    "m, s = divmod(elapsed, 60)\n",
    "print res.message + \" \" + \"%02d:%02d\" % (m, s)\n",
    "print res"
   ]
  },
  {
   "cell_type": "markdown",
   "metadata": {},
   "source": [
    "Use the following if you don't want to run the following optimization."
   ]
  },
  {
   "cell_type": "code",
   "execution_count": null,
   "metadata": {
    "collapsed": true
   },
   "outputs": [],
   "source": [
    "# short_res = res.x # Use this to define the shortcut\n",
    "short_res = [ 9.57057411,  2.11689308,  2.96493063,  0.49132877]"
   ]
  },
  {
   "cell_type": "code",
   "execution_count": null,
   "metadata": {
    "collapsed": false
   },
   "outputs": [],
   "source": [
    "b = short_res[3]\n",
    "A =  np.matrix([[U_S(t(i, number-1), a(j,number-1), b) for j in range(number)] for i in range(number)])\n",
    "B = np.matrix([[U_R(t(i, number-1), a(j,number-1)) for j in range(number)] for i in range(number)])\n",
    "# Define sender population\n",
    "X0_m2 = beta_binomial(number,  short_res[0], 1)\n",
    "X0_m1 = 1 - X0_m2\n",
    "X0 = np.vstack((X0_m1, X0_m2)).T\n",
    "\n",
    "p_ti_m2 = np.multiply(X0[:,1], prior.T)\n",
    "p_m2 = prior * X0[:,1]\n",
    "p_t_m2 = p_ti_m2 / p_m2\n",
    "E_t_m2 = (np.array(range(200)) * p_t_m2) / number\n",
    "scale = E_t_m2[0,0]/(1 - E_t_m2[0,0])\n",
    "\n",
    "# Define receiver population\n",
    "Y0 = np.vstack((beta_binomial(number, .5*short_res[1], short_res[1]),\\\n",
    "              beta_binomial(number, scale*short_res[2], short_res[2])))\n",
    "# Solve and plot\n",
    "X_sol, Y_sol = discrete_time_replicator_dynamics(376, X0, Y0, A, B, P)\n",
    "m2_sol = [prior.dot(line)[0,0] for line in X_sol[:,1::2]]\n",
    "years = [1125 + item for item in range(376)]\n",
    "plt.plot(years, m2_sol, 'b')\n",
    "plt.ylim(0,1)\n",
    "plt.xlim(1075, 1525)\n",
    "plt.xlabel('Year', fontsize=15, **hfont)\n",
    "plt.ylabel(r'$p(m_2)$', fontsize=15)\n",
    "plt.text(1150, .7, r'$\\hat{b}=0.49132877$')\n",
    "plt.savefig(\"m2_sol.eps\", format='eps', dpi=1000)\n",
    "plt.show()"
   ]
  },
  {
   "cell_type": "code",
   "execution_count": null,
   "metadata": {
    "collapsed": false
   },
   "outputs": [],
   "source": [
    "timesteps=376\n",
    "states = np.linspace(0,1, num=200)\n",
    "for i in range(1,timesteps, timesteps/6):\n",
    "    plt.plot(states, Y_sol[i,:200], color='r', alpha=(i/float(timesteps)))\n",
    "plt.plot(states, Y_sol[0,:200], 'r--')\n",
    "plt.plot(states, Y_sol[-1,:200], 'r', linewidth=4)\n",
    "plt.ylabel(r'$p(a_1)$', fontsize=15, **hfont)\n",
    "plt.xlabel('Actions', fontsize=15, **hfont)\n",
    "plt.savefig(\"a1_rd.eps\", format='eps', dpi=1000)\n",
    "plt.show()\n",
    "#for line in Y_sol[:,:200]:\n",
    "#    plt.plot(line)\n",
    "#plt.show()\n",
    "for i in range(1,timesteps, timesteps/6):\n",
    "    plt.plot(Y_sol[i,200:], color='b', alpha=(i/float(timesteps)))\n",
    "plt.plot(Y_sol[0,200:], 'b--')\n",
    "plt.plot(Y_sol[-1,200:], 'b', linewidth=4)\n",
    "plt.ylabel(r'$p(a_2)$', fontsize=15, **hfont)\n",
    "plt.xlabel('Actions', fontsize=15, **hfont)\n",
    "plt.savefig(\"a2_rd.eps\", format='eps', dpi=1000)\n",
    "plt.show()"
   ]
  },
  {
   "cell_type": "code",
   "execution_count": null,
   "metadata": {
    "collapsed": false
   },
   "outputs": [],
   "source": [
    "timesteps=376\n",
    "for j, i in enumerate(range(1,timesteps, timesteps/5)):\n",
    "    p_ti_m2 = np.multiply(X_sol[i,1::2], prior)\n",
    "    p_m2 =  X_sol[i,1::2] * prior.T\n",
    "    p_t_m2 = p_ti_m2 / p_m2\n",
    "    plt.plot(states, p_t_m2.tolist()[0], color='b', linewidth=5-j, alpha=(1 - (i/float(timesteps))))\n",
    "# First state\n",
    "#p_ti_m2 = np.multiply(X_sol[0,1::2], prior)\n",
    "#p_m2 =  X_sol[0,1::2] * prior.T\n",
    "#p_t_m2 = p_ti_m2 / p_m2\n",
    "#plt.plot(states, p_t_m2.tolist()[0], 'b--')\n",
    "# Last state\n",
    "#p_ti_m2 = np.multiply(X_sol[-1,1::2], prior)\n",
    "#p_m2 =  X_sol[-1,1::2] * prior.T\n",
    "#p_t_m2 = p_ti_m2 / p_m2\n",
    "#plt.plot(states, p_t_m2.tolist()[0], 'b', linewidth=4)\n",
    "#\n",
    "plt.plot(states, prior.tolist()[0], 'k--')\n",
    "plt.ylabel(r'$p(t \\mid m_2)$', fontsize=15) #, **hfont)\n",
    "plt.xlabel('States', fontsize=15) #, **hfont)\n",
    "plt.savefig(\"pt-m2.pdf\", format='pdf', dpi=1000)\n",
    "plt.show()"
   ]
  },
  {
   "cell_type": "code",
   "execution_count": null,
   "metadata": {
    "collapsed": false
   },
   "outputs": [],
   "source": [
    "for i in range(1,timesteps, timesteps/6):\n",
    "    p_ti_m1 = np.multiply(X_sol[i,0::2], prior)\n",
    "    p_m1 =  X_sol[i,0::2] * prior.T\n",
    "    p_t_m1 = p_ti_m1 / p_m1\n",
    "    plt.plot(states, p_t_m1.tolist()[0], color='r', alpha=(i/float(timesteps)))\n",
    "# First state\n",
    "p_ti_m1 = np.multiply(X_sol[0,0::2], prior)\n",
    "p_m1 =  X_sol[0,0::2] * prior.T\n",
    "p_t_m1 = p_ti_m1 / p_m1\n",
    "plt.plot(states, p_t_m1.tolist()[0], 'r--')\n",
    "# Last state\n",
    "p_ti_m1 = np.multiply(X_sol[-1,0::2], prior)\n",
    "p_m1 =  X_sol[-1,0::2] * prior.T\n",
    "p_t_m1 = p_ti_m1 / p_m1\n",
    "plt.plot(states, p_t_m1.tolist()[0], 'r', linewidth=4)\n",
    "#\n",
    "plt.ylabel(r'$p(t \\mid m_1)$', fontsize=15, **hfont)\n",
    "plt.xlabel('States', fontsize=15, **hfont)\n",
    "plt.savefig(\"p_t_m1_rd.png\", format='png')\n",
    "plt.show()"
   ]
  },
  {
   "cell_type": "code",
   "execution_count": null,
   "metadata": {
    "collapsed": false
   },
   "outputs": [],
   "source": [
    "# Push-chain\n",
    "f, (ax1, ax2, ax3, ax4) = plt.subplots(4, sharex=True, sharey=True)\n",
    "i=0\n",
    "p_ti_m1 = np.multiply(X_sol[i,0::2], prior)\n",
    "p_m1 =  X_sol[i,0::2] * prior.T\n",
    "p_t_m1 = p_ti_m1 / p_m1\n",
    "ax1.plot(states, p_t_m1.tolist()[0], 'r')\n",
    "p_ti_m2 = np.multiply(X_sol[i,1::2], prior)\n",
    "p_m2 =  X_sol[i,1::2] * prior.T\n",
    "p_t_m2 = p_ti_m2 / p_m2\n",
    "ax1.plot(states, p_t_m2.tolist()[0], 'b')\n",
    "ax1.plot(states, prior.tolist()[0], 'k--')\n",
    "ax1.text(.8, .03, str(1125+i)+' CE', **hfont)\n",
    "#ax.annotate('Test', xy=(1, 0), xycoords='axes fraction', fontsize=16,\n",
    " #               horizontalalignment='right', verticalalignment='bottom')\n",
    "#ax1.set_ylabel('common xlabel')\n",
    "#ax1.ylim(0,.1)\n",
    "#plt.show()\n",
    "#\n",
    "i=100\n",
    "#plt.subplot(3,2,1)\n",
    "p_ti_m1 = np.multiply(X_sol[i,0::2], prior)\n",
    "p_m1 =  X_sol[i,0::2] * prior.T\n",
    "p_t_m1 = p_ti_m1 / p_m1\n",
    "ax2.plot(states, p_t_m1.tolist()[0], 'r')\n",
    "p_ti_m2 = np.multiply(X_sol[i,1::2], prior)\n",
    "p_m2 =  X_sol[i,1::2] * prior.T\n",
    "p_t_m2 = p_ti_m2 / p_m2\n",
    "ax2.plot(states, p_t_m2.tolist()[0], 'b')\n",
    "ax2.plot(states, prior.tolist()[0], 'k--')\n",
    "ax2.text(.8, .03, str(1125+i)+' CE', **hfont)\n",
    "#ax2.ylim(0,.1)\n",
    "#plt.show()\n",
    "#\n",
    "i=200\n",
    "#plt.subplot(3,3,1)\n",
    "p_ti_m1 = np.multiply(X_sol[i,0::2], prior)\n",
    "p_m1 =  X_sol[i,0::2] * prior.T\n",
    "p_t_m1 = p_ti_m1 / p_m1\n",
    "ax3.plot(states, p_t_m1.tolist()[0], 'r')\n",
    "p_ti_m2 = np.multiply(X_sol[i,1::2], prior)\n",
    "p_m2 =  X_sol[i,1::2] * prior.T\n",
    "p_t_m2 = p_ti_m2 / p_m2\n",
    "ax3.plot(states, p_t_m2.tolist()[0], 'b')\n",
    "ax3.plot(states, prior.tolist()[0], 'k--')\n",
    "ax3.text(.8, .03, str(1125+i)+' CE', **hfont)\n",
    "#\n",
    "i=300\n",
    "#plt.subplot(3,3,1)\n",
    "p_ti_m1 = np.multiply(X_sol[i,0::2], prior)\n",
    "p_m1 =  X_sol[i,0::2] * prior.T\n",
    "p_t_m1 = p_ti_m1 / p_m1\n",
    "ax4.plot(states, p_t_m1.tolist()[0], 'r')\n",
    "p_ti_m2 = np.multiply(X_sol[i,1::2], prior)\n",
    "p_m2 =  X_sol[i,1::2] * prior.T\n",
    "p_t_m2 = p_ti_m2 / p_m2\n",
    "ax4.plot(states, p_t_m2.tolist()[0], 'b')\n",
    "ax4.plot(states, prior.tolist()[0], 'k--')\n",
    "ax4.text(.8, .03, str(1125+i)+' CE', **hfont)\n",
    "#\n",
    "f.subplots_adjust(hspace=.25)\n",
    "plt.locator_params(nbins=2)\n",
    "plt.setp([a.get_xticklabels() for a in f.axes[:-1]], visible=False)\n",
    "#\n",
    "#plt.ylabel(r'$p(t \\mid m)$', fontsize=15, **hfont)\n",
    "plt.xlabel('States', fontsize=15, **hfont)\n",
    "#\n",
    "plt.ylim(0,.05)\n",
    "plt.savefig(\"push_chain.eps\", format='eps', dpi=1000)\n",
    "plt.show()"
   ]
  },
  {
   "cell_type": "markdown",
   "metadata": {},
   "source": [
    "# Estimating bias parameter from experimental data"
   ]
  },
  {
   "cell_type": "code",
   "execution_count": 7,
   "metadata": {
    "collapsed": true
   },
   "outputs": [],
   "source": [
    "from scipy.stats import beta"
   ]
  },
  {
   "cell_type": "code",
   "execution_count": 9,
   "metadata": {
    "collapsed": false
   },
   "outputs": [
    {
     "data": {
      "text/plain": [
       "0.33550153198332899"
      ]
     },
     "execution_count": 9,
     "metadata": {},
     "output_type": "execute_result"
    }
   ],
   "source": [
    "# Estimate bias paramter from experimental data\n",
    "def b_estimate(params):\n",
    "    return abs((1 - beta.cdf(.5, params[0], params[1])) - .28)\n",
    "    \n",
    "# return abs((1-.49) - beta.cdf(.5, params[0], params[1]))\n",
    "#x0 = [1,2]\n",
    "b_fit = minimize(b_estimate, [1, 1], method=\"SLSQP\")\n",
    "b_fit.x[0]/b_fit.x.sum()"
   ]
  },
  {
   "cell_type": "code",
   "execution_count": 10,
   "metadata": {
    "collapsed": false
   },
   "outputs": [
    {
     "name": "stdout",
     "output_type": "stream",
     "text": [
      "[173, 184] 2.24458477548e-05\n"
     ]
    }
   ],
   "source": [
    "best = []\n",
    "minimum = 100\n",
    "for i in range(300):\n",
    "    for j in range(300):\n",
    "        diff = abs(1 - beta.cdf(.5, i, j) - .28)\n",
    "        if diff < minimum:\n",
    "            best = [i,j]\n",
    "            minimum = diff\n",
    "\n",
    "print best, minimum"
   ]
  },
  {
   "cell_type": "code",
   "execution_count": 11,
   "metadata": {
    "collapsed": false
   },
   "outputs": [
    {
     "data": {
      "image/png": "[encoded data removed]",
      "text/plain": [
       "<matplotlib.figure.Figure at 0x106aff610>"
      ]
     },
     "metadata": {},
     "output_type": "display_data"
    }
   ],
   "source": [
    "x = np.arange (0, 1, 0.01)\n",
    "plt.plot(x, beta.pdf(x,152,182), linewidth=4, color='b')\n",
    "plt.plot(x, beta.pdf(x,173,184), linewidth=4, color='b')\n",
    "plt.ylabel(\"Probability\", fontsize=15)\n",
    "plt.xlabel(\"State\", fontsize=15)\n",
    "plt.show()"
   ]
  },
  {
   "cell_type": "code",
   "execution_count": 47,
   "metadata": {
    "collapsed": false
   },
   "outputs": [
    {
     "name": "stdout",
     "output_type": "stream",
     "text": [
      "[ 0.18514521  1.76097251]\n",
      "0.0921681293494\n",
      "[ 0.6476339   1.29227196]\n",
      "0.322402106552\n"
     ]
    }
   ],
   "source": [
    "# Estimate bias parameter for 5% \n",
    "first_b_fit = minimize(lambda x: abs((1 - beta.cdf(.5, x[0], x[1])) - .05), [1, 1], method=\"Nelder-Mead\")\n",
    "print first_b_fit.x\n",
    "print first_b_fit.x[0]/b_fit.x.sum()\n",
    "# Estimate bias parameter for 28% \n",
    "second_b_fit = minimize(lambda x: abs((1 - beta.cdf(.5, x[0], x[1])) - .28), [1, 1], method=\"Nelder-Mead\")\n",
    "print second_b_fit.x\n",
    "print second_b_fit.x[0]/b_fit.x.sum()"
   ]
  },
  {
   "cell_type": "code",
   "execution_count": null,
   "metadata": {
    "collapsed": false
   },
   "outputs": [],
   "source": [
    "method_solutions = {}\n",
    "for solver_method in [\"Nelder-Mead\", \"Powell\", \"CG\", \"BFGS\", \"L-BFGS-B\", \"TNC\", \"COBYLA\", \"SLSQP\"]:\n",
    "    b_fit = minimize(lambda x: abs((1 - beta.cdf(.5, x[0], x[1])) - .50), [1, 1], method=solver_method)\n",
    "    method_solutions[solver_method] = b_fit.x\n",
    "x = np.arange (0, 1, 0.01)\n",
    "for value in method_solutions.values():\n",
    "    plt.plot(x, beta.pdf(x,value[0], value[1]), linewidth=4, color='b')\n",
    "    plt.axvline(value[0]/value.sum())\n",
    "plt.ylabel(\"Probability\", fontsize=15)\n",
    "plt.xlabel(\"State\", fontsize=15)\n",
    "plt.show()"
   ]
  },
  {
   "cell_type": "code",
   "execution_count": 44,
   "metadata": {
    "collapsed": false
   },
   "outputs": [
    {
     "data": {
      "text/plain": [
       "{'BFGS': array([ 0.67374272,  1.33449906]),\n",
       " 'CG': array([ 0.67058614,  1.32941386]),\n",
       " 'COBYLA': array([ 1.13142087,  2.02883374]),\n",
       " 'L-BFGS-B': array([ 0.77134789,  1.48924669]),\n",
       " 'Nelder-Mead': array([ 0.6476339 ,  1.29227196]),\n",
       " 'Powell': array([ 1.45719942,  2.48894452]),\n",
       " 'SLSQP': array([ 0.67394772,  1.33482916]),\n",
       " 'TNC': array([ 0.67058614,  1.32941386])}"
      ]
     },
     "execution_count": 44,
     "metadata": {},
     "output_type": "execute_result"
    }
   ],
   "source": [
    "method_solutions"
   ]
  },
  {
   "cell_type": "code",
   "execution_count": 32,
   "metadata": {
    "collapsed": false
   },
   "outputs": [
    {
     "data": {
      "text/plain": [
       "[array([ 0.67374272,  1.33449906]),\n",
       " array([ 0.77134789,  1.48924669]),\n",
       " array([ 0.6476339 ,  1.29227196]),\n",
       " array([ 0.67394772,  1.33482916]),\n",
       " array([ 0.67058614,  1.32941386]),\n",
       " array([ 1.13142087,  2.02883374]),\n",
       " array([ 0.67058614,  1.32941386]),\n",
       " array([ 1.45719942,  2.48894452])]"
      ]
     },
     "execution_count": 32,
     "metadata": {},
     "output_type": "execute_result"
    }
   ],
   "source": [
    "method_solutions.values()"
   ]
  },
  {
   "cell_type": "code",
   "execution_count": 34,
   "metadata": {
    "collapsed": false
   },
   "outputs": [
    {
     "data": {
      "image/png": "[encoded data removed]",
      "text/plain": [
       "<matplotlib.figure.Figure at 0x106aff410>"
      ]
     },
     "metadata": {},
     "output_type": "display_data"
    }
   ],
   "source": [
    "x = np.arange (0, 1, 0.01)\n",
    "for value in method_solutions.values():\n",
    "    plt.plot(x, beta.pdf(x,value[0], value[1]), linewidth=4, color='b')\n",
    "    plt.axvline(value[0]/value.sum())\n",
    "plt.ylabel(\"Probability\", fontsize=15)\n",
    "plt.xlabel(\"State\", fontsize=15)\n",
    "plt.show()"
   ]
  },
  {
   "cell_type": "code",
   "execution_count": null,
   "metadata": {
    "collapsed": false
   },
   "outputs": [],
   "source": [
    "for solver_method in [\"Nelder-Mead\", \"Powell\", \"CG\", \"BFGS\", \"L-BFGS-B\", \"TNC\", \"COBYLA\", \"SLSQP\"]:\n",
    "    b_fit = minimize(lambda x: abs((1 - beta.cdf(.5, x[0], x[1])) - .05), [1, 1], method=solver_method)\n",
    "    if b_fit['success']:\n",
    "        print solver_method + \": \", b_fit.x, b_fit.x[0]/b_fit.x.sum()  "
   ]
  },
  {
   "cell_type": "code",
   "execution_count": null,
   "metadata": {
    "collapsed": true
   },
   "outputs": [],
   "source": [
    "np.rep"
   ]
  }
 ],
 "metadata": {
  "kernelspec": {
   "display_name": "Python 2",
   "language": "python",
   "name": "python2"
  },
  "language_info": {
   "codemirror_mode": {
    "name": "ipython",
    "version": 2
   },
   "file_extension": ".py",
   "mimetype": "text/x-python",
   "name": "python",
   "nbconvert_exporter": "python",
   "pygments_lexer": "ipython2",
   "version": "2.7.11"
  }
 },
 "nbformat": 4,
 "nbformat_minor": 0
}
