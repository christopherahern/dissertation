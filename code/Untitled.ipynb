{
 "cells": [
  {
   "cell_type": "markdown",
   "metadata": {},
   "source": [
    "# Import"
   ]
  },
  {
   "cell_type": "code",
   "execution_count": 34,
   "metadata": {
    "collapsed": true
   },
   "outputs": [],
   "source": [
    "# Numpy\n",
    "import numpy as np\n",
    "# Beta-binomial distribution\n",
    "from scipy.special import beta as beta_func\n",
    "from scipy.misc import comb\n",
    "def beta_binomial(n, alpha, beta):\n",
    "    return [comb(n-1,k) * beta_func(k+alpha, n-1-k+beta) / beta_func(alpha,beta) for k in range(n)]\n",
    "# Numerical integration\n",
    "from scipy.integrate import odeint\n",
    "# Plotting\n",
    "% matplotlib inline\n",
    "from matplotlib import pyplot as plt"
   ]
  },
  {
   "cell_type": "markdown",
   "metadata": {},
   "source": [
    "# Utility functions"
   ]
  },
  {
   "cell_type": "code",
   "execution_count": 35,
   "metadata": {
    "collapsed": true
   },
   "outputs": [],
   "source": [
    "# Define the utility functions\n",
    "def U_S(state, action, b):\n",
    "    return 1 - (action - state - (1-state)*b)**2\n",
    "    #return 1 - abs(action - state - (1-state)*b)\n",
    "def U_R(state, action):\n",
    "    return 1 - (action - state)**2\n",
    "# Define functions to map integers to interval [0,1]\n",
    "def t(i, n):\n",
    "    return i/float(n)\n",
    "def a(i, n):\n",
    "    return i/float(n)"
   ]
  },
  {
   "cell_type": "markdown",
   "metadata": {},
   "source": [
    "# Payoff matrices"
   ]
  },
  {
   "cell_type": "code",
   "execution_count": 230,
   "metadata": {
    "collapsed": false
   },
   "outputs": [
    {
     "name": "stdout",
     "output_type": "stream",
     "text": [
      "Sender payoff matrix\n",
      "[[ 0.    0.75  1.  ]\n",
      " [ 0.    0.75  1.  ]\n",
      " [ 0.    0.75  1.  ]]\n",
      "Receiver payoff matrix\n",
      "[[ 1.    0.75  0.  ]\n",
      " [ 0.75  1.    0.75]\n",
      " [ 0.    0.75  1.  ]]\n"
     ]
    }
   ],
   "source": [
    "# Create payoff matrices \n",
    "print \"Sender payoff matrix\"\n",
    "number = 3\n",
    "A =  np.matrix([[U_S(t(i, number-1), a(j,number-1), 1) for j in range(number)] for i in range(number)])\n",
    "print A\n",
    "print \"Receiver payoff matrix\"\n",
    "B = np.matrix([[U_R(t(i, number-1), a(j,number-1)) for j in range(number)] for i in range(number)])\n",
    "print B"
   ]
  },
  {
   "cell_type": "markdown",
   "metadata": {},
   "source": [
    "# Population matrices"
   ]
  },
  {
   "cell_type": "code",
   "execution_count": 164,
   "metadata": {
    "collapsed": false
   },
   "outputs": [
    {
     "name": "stdout",
     "output_type": "stream",
     "text": [
      "[[ 0.7005261   0.2994739 ]\n",
      " [ 0.38189947  0.61810053]\n",
      " [ 0.4194224   0.5805776 ]]\n",
      "[[ 0.32444684  0.51451344  0.16103972]\n",
      " [ 0.18080972  0.34712311  0.47206717]]\n"
     ]
    }
   ],
   "source": [
    "# Import random and set seed\n",
    "import random\n",
    "random.seed(10)\n",
    "# Create initial sender matrix\n",
    "X = np.random.rand(3, 2)\n",
    "# Row-normalize the sender matrix\n",
    "X /= X.sum(axis=1)[:,np.newaxis]\n",
    "print X\n",
    "# Create initial receiver matrix\n",
    "Y = np.random.rand(2, 3)\n",
    "# Row-normalize the receiver matrix\n",
    "Y /= Y.sum(axis=1)[:,np.newaxis]\n",
    "print Y"
   ]
  },
  {
   "cell_type": "markdown",
   "metadata": {},
   "source": [
    "# Prior probability distribution"
   ]
  },
  {
   "cell_type": "code",
   "execution_count": 30,
   "metadata": {
    "collapsed": false
   },
   "outputs": [
    {
     "name": "stdout",
     "output_type": "stream",
     "text": [
      "[[ 0.5         0.33333333  0.16666667]\n",
      " [ 0.5         0.33333333  0.16666667]\n",
      " [ 0.5         0.33333333  0.16666667]]\n"
     ]
    }
   ],
   "source": [
    "P = np.matrix((beta_binomial(3, 1, 2) * 3)).reshape(3,3)\n",
    "print P"
   ]
  },
  {
   "cell_type": "markdown",
   "metadata": {},
   "source": [
    "# Sender expected utility"
   ]
  },
  {
   "cell_type": "code",
   "execution_count": 31,
   "metadata": {
    "collapsed": false
   },
   "outputs": [
    {
     "name": "stdout",
     "output_type": "stream",
     "text": [
      "Sender expected utility\n",
      "[[ 0.56636014  0.40672054]\n",
      " [ 0.81450223  0.78348312]\n",
      " [ 0.56264431  0.66024571]]\n"
     ]
    }
   ],
   "source": [
    "print \"Sender expected utility\"\n",
    "print A * Y.transpose()"
   ]
  },
  {
   "cell_type": "code",
   "execution_count": 32,
   "metadata": {
    "collapsed": false
   },
   "outputs": [
    {
     "name": "stdout",
     "output_type": "stream",
     "text": [
      "Average sender expected utility\n",
      "[[ 0.48716071  0.80251973  0.56458409]]\n"
     ]
    }
   ],
   "source": [
    "print \"Average sender expected utility\"\n",
    "print (X * (A * Y.transpose()).transpose()).diagonal()"
   ]
  },
  {
   "cell_type": "code",
   "execution_count": 33,
   "metadata": {
    "collapsed": false
   },
   "outputs": [
    {
     "data": {
      "text/plain": [
       "matrix([[ 0.07919943, -0.08044017],\n",
       "        [ 0.0119825 , -0.0190366 ],\n",
       "        [-0.00193978,  0.09566161]])"
      ]
     },
     "execution_count": 33,
     "metadata": {},
     "output_type": "execute_result"
    }
   ],
   "source": [
    "np.subtract(A * Y.transpose(),  (X * (A * Y.transpose()).transpose()).diagonal().transpose())"
   ]
  },
  {
   "cell_type": "code",
   "execution_count": 52,
   "metadata": {
    "collapsed": false
   },
   "outputs": [
    {
     "data": {
      "text/plain": [
       "matrix([[ 0.03990749, -0.03990749],\n",
       "        [ 0.00735373, -0.00735373],\n",
       "        [-0.00190123,  0.00190123]])"
      ]
     },
     "execution_count": 52,
     "metadata": {},
     "output_type": "execute_result"
    }
   ],
   "source": [
    "np.multiply(X, np.subtract(A * Y.transpose(),  (X * (A * Y.transpose()).transpose()).diagonal().transpose()))"
   ]
  },
  {
   "cell_type": "markdown",
   "metadata": {},
   "source": [
    "# Receiver expected utility"
   ]
  },
  {
   "cell_type": "code",
   "execution_count": 46,
   "metadata": {
    "collapsed": false
   },
   "outputs": [
    {
     "name": "stdout",
     "output_type": "stream",
     "text": [
      "[[ 0.50388606  0.49611394]\n",
      " [ 0.61370579  0.38629421]\n",
      " [ 0.98012551  0.01987449]]\n"
     ]
    }
   ],
   "source": [
    "print X"
   ]
  },
  {
   "cell_type": "code",
   "execution_count": 45,
   "metadata": {
    "collapsed": false
   },
   "outputs": [
    {
     "name": "stdout",
     "output_type": "stream",
     "text": [
      "[[ 0.5         0.33333333  0.16666667]\n",
      " [ 0.5         0.33333333  0.16666667]\n",
      " [ 0.5         0.33333333  0.16666667]]\n",
      "[[ 0.5         0.5       ]\n",
      " [ 0.33333333  0.33333333]\n",
      " [ 0.16666667  0.16666667]]\n",
      "Conditional probability of t_i given message m_j\n",
      "[[ 0.40644765  0.65255118]\n",
      " [ 0.33002074  0.33873502]\n",
      " [ 0.26353161  0.00871381]]\n"
     ]
    }
   ],
   "source": [
    "print P\n",
    "print P.transpose()[:,0:2]\n",
    "print \"Conditional probability of t_i given message m_j\"\n",
    "C = np.divide(np.multiply(P.transpose()[:,0:2], X), P * X)\n",
    "print C"
   ]
  },
  {
   "cell_type": "code",
   "execution_count": 47,
   "metadata": {
    "collapsed": false
   },
   "outputs": [
    {
     "name": "stdout",
     "output_type": "stream",
     "text": [
      "Receiver expected utility\n",
      "[[ 0.65396321  0.90660244]\n",
      " [ 0.83250518  0.83468375]\n",
      " [ 0.51104716  0.26276507]]\n",
      "Receiver expected utility of responding to m_i with a_j\n",
      "[[ 0.65396321  0.83250518  0.51104716]\n",
      " [ 0.90660244  0.83468375  0.26276507]]\n"
     ]
    }
   ],
   "source": [
    "print \"Receiver expected utility\"\n",
    "print (B.transpose() * C)\n",
    "print \"Receiver expected utility of responding to m_i with a_j\"\n",
    "print (B.transpose() * C).transpose()"
   ]
  },
  {
   "cell_type": "code",
   "execution_count": 48,
   "metadata": {
    "collapsed": false
   },
   "outputs": [
    {
     "name": "stdout",
     "output_type": "stream",
     "text": [
      "Average receiver expected utility\n",
      "[[ 0.64727294  0.53655239]]\n"
     ]
    }
   ],
   "source": [
    "print \"Average receiver expected utility\"\n",
    "print (Y * (B.transpose() * C)).diagonal()"
   ]
  },
  {
   "cell_type": "code",
   "execution_count": 49,
   "metadata": {
    "collapsed": false
   },
   "outputs": [
    {
     "data": {
      "text/plain": [
       "matrix([[ 0.00669027,  0.18523225, -0.13622577],\n",
       "        [ 0.37005005,  0.29813137, -0.27378732]])"
      ]
     },
     "execution_count": 49,
     "metadata": {},
     "output_type": "execute_result"
    }
   ],
   "source": [
    "np.subtract((B.transpose() * C).transpose(), (Y * (B.transpose() * C)).diagonal().transpose())"
   ]
  },
  {
   "cell_type": "code",
   "execution_count": 75,
   "metadata": {
    "collapsed": false
   },
   "outputs": [
    {
     "name": "stdout",
     "output_type": "stream",
     "text": [
      "[[ 0.00249449  0.04779157 -0.05028606]\n",
      " [ 0.11333566  0.03992948 -0.15326514]]\n",
      "0.00249449130602\n"
     ]
    }
   ],
   "source": [
    "Y_diff = np.multiply(Y, np.subtract((B.transpose() * C).transpose(), (Y * (B.transpose() * C)).diagonal().transpose()))\n",
    "print Y_diff\n",
    "print Y_diff[0,0]"
   ]
  },
  {
   "cell_type": "code",
   "execution_count": 269,
   "metadata": {
    "collapsed": true
   },
   "outputs": [],
   "source": [
    "def signaling(p_vec, t):\n",
    "    # Unpack the position vector\n",
    "    X = p_vec[0:6].reshape(3,2)\n",
    "    Y = p_vec[6:].reshape(2,3)\n",
    "    # Calculate sender growth rates\n",
    "    X_diff = np.multiply(X, np.subtract(A * Y.transpose(),  (X * (A * Y.transpose()).transpose()).diagonal().transpose()))\n",
    "    # Calculate receiver growth rates\n",
    "    C = np.divide(np.multiply(P.transpose()[:,0:2], X), P * X)\n",
    "    Y_diff = np.multiply(Y, np.subtract((B.transpose() * C).transpose(), (Y * (B.transpose() * C)).diagonal().transpose()))\n",
    "    # Construct system of ODEs\n",
    "    x00_diff = X_diff[0,0]\n",
    "    x01_diff = X_diff[0,1]\n",
    "    \n",
    "    x10_diff = X_diff[1,0]\n",
    "    x11_diff = X_diff[1,1]\n",
    "    \n",
    "    x20_diff = X_diff[2,0]\n",
    "    x21_diff = X_diff[2,1]\n",
    "    \n",
    "    y00_diff = Y_diff[0,0]\n",
    "    y01_diff = Y_diff[0,1]\n",
    "    y02_diff = Y_diff[0,2]\n",
    "\n",
    "    y10_diff = Y_diff[1,0]\n",
    "    y11_diff = Y_diff[1,1]\n",
    "    y12_diff = Y_diff[1,2]\n",
    "    \n",
    "    # Return system of ODEs\n",
    "    return [x00_diff, x01_diff,\\\n",
    "            x10_diff, x11_diff,\\\n",
    "            x20_diff, x21_diff,\\\n",
    "            y00_diff, y01_diff, y02_diff,\\\n",
    "            y10_diff, y11_diff, y12_diff]"
   ]
  },
  {
   "cell_type": "code",
   "execution_count": 113,
   "metadata": {
    "collapsed": true
   },
   "outputs": [],
   "source": [
    "from __future__ import division"
   ]
  },
  {
   "cell_type": "markdown",
   "metadata": {},
   "source": [
    "# Wallage data "
   ]
  },
  {
   "cell_type": "code",
   "execution_count": 273,
   "metadata": {
    "collapsed": false
   },
   "outputs": [],
   "source": [
    "t_output = np.linspace(0, 20, num=100)\n",
    "# Create payoff matrices \n",
    "number = 3\n",
    "A =  np.matrix([[U_S(t(i, number-1), a(j,number-1), 1) for j in range(number)] for i in range(number)])\n",
    "B = np.matrix([[U_R(t(i, number-1), a(j,number-1)) for j in range(number)] for i in range(number)])\n",
    "\n",
    "# Counts from Wallage (2013) for states and messages from 1150-1250\n",
    "W = np.matrix([[335, 58], [33, 170], [15, 37]])\n",
    "#W_full = np.array([[335, 57, 1],[15, 37, 0], [33, 168, 2]]) # distinguishes ne..not from not\n",
    "row_sums = W.sum(axis=1)\n",
    "X = W / row_sums # Probability of message m_j in state t_i\n",
    "C = np.divide(np.multiply(P.transpose()[:,0:2], X), P * X) # Probability of state t_i given message m_j\n",
    "Y = C.transpose()\n",
    "#print X\n",
    "#print Y\n",
    "#print X.flatten().shape\n",
    "#print Y.flatten().shape\n",
    "\n",
    "#print np.concatenate([X.ravel().transpose(), Y.ravel().transpose()]).flatten()\n",
    "p0_vec = np.asarray(np.concatenate([X.ravel(), Y.ravel()], axis=1))[0]\n",
    "#p0_vec = np.concatenate([X.ravel(), Y.ravel()])\n",
    "#print p0_vec"
   ]
  },
  {
   "cell_type": "code",
   "execution_count": 274,
   "metadata": {
    "collapsed": false
   },
   "outputs": [],
   "source": [
    "p_vec_result = odeint(signaling, p0_vec, t_output)"
   ]
  },
  {
   "cell_type": "code",
   "execution_count": 275,
   "metadata": {
    "collapsed": false
   },
   "outputs": [
    {
     "data": {
      "image/png": "[encoded data removed]",
      "text/plain": [
       "<matplotlib.figure.Figure at 0x109d52f90>"
      ]
     },
     "metadata": {},
     "output_type": "display_data"
    },
    {
     "data": {
      "image/png": "[encoded data removed]",
      "text/plain": [
       "<matplotlib.figure.Figure at 0x10924c750>"
      ]
     },
     "metadata": {},
     "output_type": "display_data"
    }
   ],
   "source": [
    "senders = p_vec_result[:,:6]\n",
    "senders_nenot = p_vec_result[:,[1,3,5]]\n",
    "\n",
    "plt.plot(senders_nenot)\n",
    "#plt.plot(p_vec_result[:,2])\n",
    "#plt.plot(p_vec_result[:,4])\n",
    "plt.show()\n",
    "plt.plot(senders_nenot * P.transpose()[:,0])\n",
    "plt.ylim(0,1)\n",
    "plt.show()\n",
    "#plt.plot(p_vec_result[:,6])\n",
    "#plt.plot(p_vec_result[:,7])\n",
    "#plt.plot(p_vec_result[:,9])\n",
    "#plt.plot(p_vec_result[:,10])\n",
    "#plt.show()\n"
   ]
  },
  {
   "cell_type": "markdown",
   "metadata": {},
   "source": [
    "## Stipulated distributions"
   ]
  },
  {
   "cell_type": "code",
   "execution_count": 363,
   "metadata": {
    "collapsed": true
   },
   "outputs": [],
   "source": [
    "def signaling_n(p_vec, t):\n",
    "    # Unpack the position vector\n",
    "    X = p_vec[:20].reshape(10,2)\n",
    "    Y = p_vec[20:].reshape(2,10)\n",
    "    # Calculate sender growth rates\n",
    "    X_diff = np.multiply(X, np.subtract(A * Y.transpose(),  (X * (A * Y.transpose()).transpose()).diagonal().transpose()))\n",
    "    # Calculate receiver growth rates\n",
    "    C = np.divide(np.multiply(P.transpose()[:,0:2], X), P * X)\n",
    "    Y_diff = np.multiply(Y, np.subtract((B.transpose() * C).transpose(), (Y * (B.transpose() * C)).diagonal().transpose()))\n",
    "    # Construct system of ODEs\n",
    "    x00_diff = X_diff[0,0]\n",
    "    x01_diff = X_diff[0,1] \n",
    "    x10_diff = X_diff[1,0] #\n",
    "    x11_diff = X_diff[1,1]\n",
    "    x20_diff = X_diff[2,0] #\n",
    "    x21_diff = X_diff[2,1]\n",
    "    x30_diff = X_diff[3,0] #\n",
    "    x31_diff = X_diff[3,1] \n",
    "    x40_diff = X_diff[4,0] #\n",
    "    x41_diff = X_diff[4,1]\n",
    "    x50_diff = X_diff[5,0] #\n",
    "    x51_diff = X_diff[5,1]\n",
    "    x60_diff = X_diff[6,0]\n",
    "    x61_diff = X_diff[6,1]\n",
    "    x70_diff = X_diff[7,0]\n",
    "    x71_diff = X_diff[7,1]\n",
    "    x80_diff = X_diff[8,0]\n",
    "    x81_diff = X_diff[8,1]\n",
    "    x90_diff = X_diff[9,0]\n",
    "    x91_diff = X_diff[9,1]\n",
    "        \n",
    "    y00_diff = Y_diff[0,0]\n",
    "    y01_diff = Y_diff[0,1]\n",
    "    y02_diff = Y_diff[0,2]\n",
    "    y03_diff = Y_diff[0,3]\n",
    "    y04_diff = Y_diff[0,4]\n",
    "    y05_diff = Y_diff[0,5]\n",
    "    y06_diff = Y_diff[0,6]\n",
    "    y07_diff = Y_diff[0,7]\n",
    "    y08_diff = Y_diff[0,8]\n",
    "    y09_diff = Y_diff[0,9]\n",
    "\n",
    "    y10_diff = Y_diff[1,0]\n",
    "    y11_diff = Y_diff[1,1]\n",
    "    y12_diff = Y_diff[1,2]\n",
    "    y13_diff = Y_diff[1,3]\n",
    "    y14_diff = Y_diff[1,4]\n",
    "    y15_diff = Y_diff[1,5]\n",
    "    y16_diff = Y_diff[1,6]\n",
    "    y17_diff = Y_diff[1,7]\n",
    "    y18_diff = Y_diff[1,8]\n",
    "    y19_diff = Y_diff[1,9]\n",
    "    \n",
    "    # Return system of ODEs\n",
    "    return [x00_diff, x01_diff,\\\n",
    "            x10_diff, x11_diff,\\\n",
    "            x20_diff, x21_diff,\\\n",
    "            x30_diff, x31_diff,\\\n",
    "            x40_diff, x41_diff,\\\n",
    "            x50_diff, x51_diff,\\\n",
    "            x60_diff, x61_diff,\\\n",
    "            x70_diff, x71_diff,\\\n",
    "            x80_diff, x81_diff,\\\n",
    "            x90_diff, x91_diff,\\\n",
    "            y00_diff, y01_diff, y02_diff, y03_diff, y04_diff, y05_diff, y06_diff, y07_diff, y08_diff, y09_diff,\\\n",
    "            y10_diff, y11_diff, y12_diff, y13_diff, y14_diff, y15_diff, y16_diff, y17_diff, y18_diff, y19_diff]"
   ]
  },
  {
   "cell_type": "code",
   "execution_count": 575,
   "metadata": {
    "collapsed": false
   },
   "outputs": [],
   "source": [
    "t_output = np.linspace(0, 100, num=100)\n",
    "\n",
    "number = 10\n",
    "A =  np.matrix([[U_S(t(i, number-1), a(j,number-1), .3) for j in range(number)] for i in range(number)])\n",
    "B = np.matrix([[U_R(t(i, number-1), a(j,number-1)) for j in range(number)] for i in range(number)])\n",
    "\n",
    "P = np.matrix((beta_binomial(10, 1, 2) * 10)).reshape(10,10)"
   ]
  },
  {
   "cell_type": "code",
   "execution_count": 576,
   "metadata": {
    "collapsed": false
   },
   "outputs": [
    {
     "data": {
      "image/png": "[encoded data removed]",
      "text/plain": [
       "<matplotlib.figure.Figure at 0x10988a7d0>"
      ]
     },
     "metadata": {},
     "output_type": "display_data"
    },
    {
     "name": "stdout",
     "output_type": "stream",
     "text": [
      "[[ 0.7992893  0.2007107]]\n"
     ]
    }
   ],
   "source": [
    "alpha1 = 2\n",
    "beta1 = 3\n",
    "alpha2 = 5\n",
    "beta2 = 1\n",
    "\n",
    "plt.plot(beta_binomial(10, alpha1, beta1))\n",
    "plt.plot(beta_binomial(10, alpha2, beta2))\n",
    "plt.show()\n",
    "\n",
    "X = np.matrix([beta_binomial(10, alpha1, beta1), beta_binomial(10, alpha2, beta2)]).transpose()\n",
    "row_sums = X.sum(axis=1)\n",
    "X = X / row_sums\n",
    "#X = np.matrix([1 - np.arange(1/11.0, 1, step=1/11.0), np.arange(1/11.0, 1, step=1/11.0)]).transpose()\n",
    "#X = np.matrix([beta_binomial(11, 1, 2), np.subtract([1] * 11, beta_binomial(11, 1, 2))]).transpose()\n",
    "C = np.divide(np.multiply(P.transpose()[:,0:2], X), P * X) # Probability of state t_i given message m_j\n",
    "Y = C.transpose()\n",
    "\n",
    "p0_vec = np.asarray(np.concatenate([X.ravel(), Y.ravel()], axis=1))[0]\n",
    "\n",
    "\n",
    "print P[0,:] * X"
   ]
  },
  {
   "cell_type": "code",
   "execution_count": 577,
   "metadata": {
    "collapsed": false
   },
   "outputs": [],
   "source": [
    "p_vec_result = odeint(signaling_n, p0_vec, t_output)"
   ]
  },
  {
   "cell_type": "code",
   "execution_count": 579,
   "metadata": {
    "collapsed": false
   },
   "outputs": [
    {
     "data": {
      "image/png": "[encoded data removed]",
      "text/plain": [
       "<matplotlib.figure.Figure at 0x10671b510>"
      ]
     },
     "metadata": {},
     "output_type": "display_data"
    }
   ],
   "source": [
    "senders_nenot = p_vec_result[:,[1,3,5,7,9,11,13,15,17,19]]\n",
    "plt.plot(senders_nenot * P.transpose()[:,0])\n",
    "plt.ylim(0,1)\n",
    "plt.show()"
   ]
  },
  {
   "cell_type": "markdown",
   "metadata": {},
   "source": [
    "## Iterated changes"
   ]
  },
  {
   "cell_type": "code",
   "execution_count": null,
   "metadata": {
    "collapsed": true
   },
   "outputs": [],
   "source": [
    "t_star = "
   ]
  }
 ],
 "metadata": {
  "kernelspec": {
   "display_name": "Python 2",
   "language": "python",
   "name": "python2"
  },
  "language_info": {
   "codemirror_mode": {
    "name": "ipython",
    "version": 2
   },
   "file_extension": ".py",
   "mimetype": "text/x-python",
   "name": "python",
   "nbconvert_exporter": "python",
   "pygments_lexer": "ipython2",
   "version": "2.7.10"
  }
 },
 "nbformat": 4,
 "nbformat_minor": 0
}
