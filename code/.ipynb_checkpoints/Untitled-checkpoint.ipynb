{
 "cells": [
  {
   "cell_type": "markdown",
   "metadata": {},
   "source": [
    "# Import"
   ]
  },
  {
   "cell_type": "code",
   "execution_count": 34,
   "metadata": {
    "collapsed": true
   },
   "outputs": [],
   "source": [
    "# Numpy\n",
    "import numpy as np\n",
    "# Beta-binomial distribution\n",
    "from scipy.special import beta as beta_func\n",
    "from scipy.misc import comb\n",
    "def beta_binomial(n, alpha, beta):\n",
    "    return [comb(n-1,k) * beta_func(k+alpha, n-1-k+beta) / beta_func(alpha,beta) for k in range(n)]\n",
    "# Numerical integration\n",
    "from scipy.integrate import odeint\n",
    "# Plotting\n",
    "% matplotlib inline\n",
    "from matplotlib import pyplot as plt"
   ]
  },
  {
   "cell_type": "markdown",
   "metadata": {},
   "source": [
    "# Utility functions"
   ]
  },
  {
   "cell_type": "code",
   "execution_count": 35,
   "metadata": {
    "collapsed": true
   },
   "outputs": [],
   "source": [
    "# Define the utility functions\n",
    "def U_S(state, action, b):\n",
    "    return 1 - (action - state - (1-state)*b)**2\n",
    "    #return 1 - abs(action - state - (1-state)*b)\n",
    "def U_R(state, action):\n",
    "    return 1 - (action - state)**2\n",
    "# Define functions to map integers to interval [0,1]\n",
    "def t(i, n):\n",
    "    return i/float(n)\n",
    "def a(i, n):\n",
    "    return i/float(n)"
   ]
  },
  {
   "cell_type": "markdown",
   "metadata": {},
   "source": [
    "# Payoff matrices"
   ]
  },
  {
   "cell_type": "code",
   "execution_count": 51,
   "metadata": {
    "collapsed": false
   },
   "outputs": [
    {
     "name": "stdout",
     "output_type": "stream",
     "text": [
      "Sender payoff matrix\n",
      "[[ 1.    0.75  0.  ]\n",
      " [ 0.75  1.    0.75]\n",
      " [ 0.    0.75  1.  ]]\n",
      "Receiver payoff matrix\n",
      "[[ 1.    0.75  0.  ]\n",
      " [ 0.75  1.    0.75]\n",
      " [ 0.    0.75  1.  ]]\n"
     ]
    }
   ],
   "source": [
    "# Create payoff matrices \n",
    "print \"Sender payoff matrix\"\n",
    "number = 3\n",
    "A =  np.matrix([[U_S(t(i, number-1), a(j,number-1), 0) for j in range(number)] for i in range(number)])\n",
    "print A\n",
    "print \"Receiver payoff matrix\"\n",
    "B = np.matrix([[U_R(t(i, number-1), a(j,number-1)) for j in range(number)] for i in range(number)])\n",
    "print B"
   ]
  },
  {
   "cell_type": "markdown",
   "metadata": {},
   "source": [
    "# Population matrices"
   ]
  },
  {
   "cell_type": "code",
   "execution_count": 28,
   "metadata": {
    "collapsed": false
   },
   "outputs": [
    {
     "name": "stdout",
     "output_type": "stream",
     "text": [
      "[[ 0.50388606  0.49611394]\n",
      " [ 0.61370579  0.38629421]\n",
      " [ 0.98012551  0.01987449]]\n",
      "[[ 0.37285346  0.2580089   0.36913764]\n",
      " [ 0.30627117  0.13393249  0.55979634]]\n"
     ]
    }
   ],
   "source": [
    "# Import random and set seed\n",
    "import random\n",
    "random.seed(10)\n",
    "# Create initial sender matrix\n",
    "X = np.random.rand(3, 2)\n",
    "# Row-normalize the sender matrix\n",
    "X /= X.sum(axis=1)[:,np.newaxis]\n",
    "print X\n",
    "# Create initial receiver matrix\n",
    "Y = np.random.rand(2, 3)\n",
    "# Row-normalize the receiver matrix\n",
    "Y /= Y.sum(axis=1)[:,np.newaxis]\n",
    "print Y"
   ]
  },
  {
   "cell_type": "markdown",
   "metadata": {},
   "source": [
    "# Prior probability distribution"
   ]
  },
  {
   "cell_type": "code",
   "execution_count": 30,
   "metadata": {
    "collapsed": false
   },
   "outputs": [
    {
     "name": "stdout",
     "output_type": "stream",
     "text": [
      "[[ 0.5         0.33333333  0.16666667]\n",
      " [ 0.5         0.33333333  0.16666667]\n",
      " [ 0.5         0.33333333  0.16666667]]\n"
     ]
    }
   ],
   "source": [
    "P = np.matrix((beta_binomial(3, 1, 2) * 3)).reshape(3,3)\n",
    "print P"
   ]
  },
  {
   "cell_type": "markdown",
   "metadata": {},
   "source": [
    "# Sender expected utility"
   ]
  },
  {
   "cell_type": "code",
   "execution_count": 31,
   "metadata": {
    "collapsed": false
   },
   "outputs": [
    {
     "name": "stdout",
     "output_type": "stream",
     "text": [
      "Sender expected utility\n",
      "[[ 0.56636014  0.40672054]\n",
      " [ 0.81450223  0.78348312]\n",
      " [ 0.56264431  0.66024571]]\n"
     ]
    }
   ],
   "source": [
    "print \"Sender expected utility\"\n",
    "print A * Y.transpose()"
   ]
  },
  {
   "cell_type": "code",
   "execution_count": 32,
   "metadata": {
    "collapsed": false
   },
   "outputs": [
    {
     "name": "stdout",
     "output_type": "stream",
     "text": [
      "Average sender expected utility\n",
      "[[ 0.48716071  0.80251973  0.56458409]]\n"
     ]
    }
   ],
   "source": [
    "print \"Average sender expected utility\"\n",
    "print (X * (A * Y.transpose()).transpose()).diagonal()"
   ]
  },
  {
   "cell_type": "code",
   "execution_count": 33,
   "metadata": {
    "collapsed": false
   },
   "outputs": [
    {
     "data": {
      "text/plain": [
       "matrix([[ 0.07919943, -0.08044017],\n",
       "        [ 0.0119825 , -0.0190366 ],\n",
       "        [-0.00193978,  0.09566161]])"
      ]
     },
     "execution_count": 33,
     "metadata": {},
     "output_type": "execute_result"
    }
   ],
   "source": [
    "np.subtract(A * Y.transpose(),  (X * (A * Y.transpose()).transpose()).diagonal().transpose())"
   ]
  },
  {
   "cell_type": "code",
   "execution_count": 52,
   "metadata": {
    "collapsed": false
   },
   "outputs": [
    {
     "data": {
      "text/plain": [
       "matrix([[ 0.03990749, -0.03990749],\n",
       "        [ 0.00735373, -0.00735373],\n",
       "        [-0.00190123,  0.00190123]])"
      ]
     },
     "execution_count": 52,
     "metadata": {},
     "output_type": "execute_result"
    }
   ],
   "source": [
    "np.multiply(X, np.subtract(A * Y.transpose(),  (X * (A * Y.transpose()).transpose()).diagonal().transpose()))"
   ]
  },
  {
   "cell_type": "markdown",
   "metadata": {},
   "source": [
    "# Receiver expected utility"
   ]
  },
  {
   "cell_type": "code",
   "execution_count": 46,
   "metadata": {
    "collapsed": false
   },
   "outputs": [
    {
     "name": "stdout",
     "output_type": "stream",
     "text": [
      "[[ 0.50388606  0.49611394]\n",
      " [ 0.61370579  0.38629421]\n",
      " [ 0.98012551  0.01987449]]\n"
     ]
    }
   ],
   "source": [
    "print X"
   ]
  },
  {
   "cell_type": "code",
   "execution_count": 45,
   "metadata": {
    "collapsed": false
   },
   "outputs": [
    {
     "name": "stdout",
     "output_type": "stream",
     "text": [
      "[[ 0.5         0.33333333  0.16666667]\n",
      " [ 0.5         0.33333333  0.16666667]\n",
      " [ 0.5         0.33333333  0.16666667]]\n",
      "[[ 0.5         0.5       ]\n",
      " [ 0.33333333  0.33333333]\n",
      " [ 0.16666667  0.16666667]]\n",
      "Conditional probability of t_i given message m_j\n",
      "[[ 0.40644765  0.65255118]\n",
      " [ 0.33002074  0.33873502]\n",
      " [ 0.26353161  0.00871381]]\n"
     ]
    }
   ],
   "source": [
    "print P\n",
    "print P.transpose()[:,0:2]\n",
    "print \"Conditional probability of t_i given message m_j\"\n",
    "C = np.divide(np.multiply(P.transpose()[:,0:2], X), P * X)\n",
    "print C"
   ]
  },
  {
   "cell_type": "code",
   "execution_count": 47,
   "metadata": {
    "collapsed": false
   },
   "outputs": [
    {
     "name": "stdout",
     "output_type": "stream",
     "text": [
      "Receiver expected utility\n",
      "[[ 0.65396321  0.90660244]\n",
      " [ 0.83250518  0.83468375]\n",
      " [ 0.51104716  0.26276507]]\n",
      "Receiver expected utility of responding to m_i with a_j\n",
      "[[ 0.65396321  0.83250518  0.51104716]\n",
      " [ 0.90660244  0.83468375  0.26276507]]\n"
     ]
    }
   ],
   "source": [
    "print \"Receiver expected utility\"\n",
    "print (B.transpose() * C)\n",
    "print \"Receiver expected utility of responding to m_i with a_j\"\n",
    "print (B.transpose() * C).transpose()"
   ]
  },
  {
   "cell_type": "code",
   "execution_count": 48,
   "metadata": {
    "collapsed": false
   },
   "outputs": [
    {
     "name": "stdout",
     "output_type": "stream",
     "text": [
      "Average receiver expected utility\n",
      "[[ 0.64727294  0.53655239]]\n"
     ]
    }
   ],
   "source": [
    "print \"Average receiver expected utility\"\n",
    "print (Y * (B.transpose() * C)).diagonal()"
   ]
  },
  {
   "cell_type": "code",
   "execution_count": 49,
   "metadata": {
    "collapsed": false
   },
   "outputs": [
    {
     "data": {
      "text/plain": [
       "matrix([[ 0.00669027,  0.18523225, -0.13622577],\n",
       "        [ 0.37005005,  0.29813137, -0.27378732]])"
      ]
     },
     "execution_count": 49,
     "metadata": {},
     "output_type": "execute_result"
    }
   ],
   "source": [
    "np.subtract((B.transpose() * C).transpose(), (Y * (B.transpose() * C)).diagonal().transpose())"
   ]
  },
  {
   "cell_type": "code",
   "execution_count": 74,
   "metadata": {
    "collapsed": false
   },
   "outputs": [
    {
     "name": "stdout",
     "output_type": "stream",
     "text": [
      "[[ 0.00249449  0.04779157 -0.05028606]\n",
      " [ 0.11333566  0.03992948 -0.15326514]]\n",
      "0.00249449130602\n"
     ]
    }
   ],
   "source": [
    "X_diff = np.multiply(Y, np.subtract((B.transpose() * C).transpose(), (Y * (B.transpose() * C)).diagonal().transpose()))\n",
    "print X_diff\n",
    "print X_diff[0,0]"
   ]
  },
  {
   "cell_type": "code",
   "execution_count": null,
   "metadata": {
    "collapsed": true
   },
   "outputs": [],
   "source": [
    "t_output = np.linspace(0, 20, num=20)"
   ]
  },
  {
   "cell_type": "code",
   "execution_count": null,
   "metadata": {
    "collapsed": true
   },
   "outputs": [],
   "source": [
    "def signaling(p_vec, t):\n",
    "    # Unpack the position vector\n",
    "    X = p_vec[0:6].reshape(3,2)\n",
    "    Y = p_vec[6:].reshape(2,3)\n",
    "    \n",
    "    X_diff = np.multiply(X, np.subtract(A * Y.transpose(),  (X * (A * Y.transpose()).transpose()).diagonal().transpose()))\n",
    "    # Construct system of ODEs\n",
    "    x00_diff = X_diff[0,0]\n",
    "    x01_diff = X_diff[0,1]\n",
    "    \n",
    "    x10_diff = X_diff[1,0]\n",
    "    x11_diff = X_diff[1,1]\n",
    "    \n",
    "    x20_diff = X_diff[2,0]\n",
    "    x21_diff = X_diff[2,1]\n",
    "    \n",
    "    y00_diff\n",
    "    y01_diff\n",
    "    y02_diff\n",
    "\n",
    "    y10_diff\n",
    "    y11_diff\n",
    "    y12_diff\n",
    "\n",
    "    y20_diff\n",
    "    y21_diff\n",
    "    y22_diff\n",
    "    # Return system of ODEs\n",
    "    return [p0_diff, p1_diff, q0_diff, q1_diff]\n",
    "    return [x00_diff, x01_diff,\\\n",
    "            x10_diff, x11_diff,\\\n",
    "            x20_diff, x21_diff,\\\n",
    "            y00_diff, y01_diff, y02_diff,\\\n",
    "            y10_diff, y11_diff, y12_diff,\\\n",
    "            y20_diff, y21_diff, y22_diff]"
   ]
  },
  {
   "cell_type": "code",
   "execution_count": 69,
   "metadata": {
    "collapsed": false
   },
   "outputs": [
    {
     "name": "stdout",
     "output_type": "stream",
     "text": [
      "[ 0.50388606  0.49611394  0.61370579  0.38629421  0.98012551  0.01987449\n",
      "  0.37285346  0.2580089   0.36913764  0.30627117  0.13393249  0.55979634]\n",
      "[[ 0.50388606  0.49611394]\n",
      " [ 0.61370579  0.38629421]\n",
      " [ 0.98012551  0.01987449]]\n",
      "[[ 0.50388606  0.49611394]\n",
      " [ 0.61370579  0.38629421]\n",
      " [ 0.98012551  0.01987449]]\n",
      "[[ 0.37285346  0.2580089   0.36913764]\n",
      " [ 0.30627117  0.13393249  0.55979634]]\n",
      "[[ 0.37285346  0.2580089   0.36913764]\n",
      " [ 0.30627117  0.13393249  0.55979634]]\n"
     ]
    }
   ],
   "source": [
    "test = np.concatenate((X.ravel(), Y.ravel()))\n",
    "print test\n",
    "print test[:6].reshape(3,2)\n",
    "print X\n",
    "print test[6:].reshape(2,3)\n",
    "print Y"
   ]
  },
  {
   "cell_type": "code",
   "execution_count": null,
   "metadata": {
    "collapsed": true
   },
   "outputs": [],
   "source": [
    "p_vec_result = odeint(signaling, p0_vec, t_output)"
   ]
  },
  {
   "cell_type": "code",
   "execution_count": 53,
   "metadata": {
    "collapsed": false
   },
   "outputs": [
    {
     "name": "stdout",
     "output_type": "stream",
     "text": [
      "7.29560852051e-05\n"
     ]
    }
   ],
   "source": [
    "import timeit\n",
    "start = timeit.default_timer()\n",
    "#X_hist, Y_hist = discrete_time_replicator_dynamics(10000, X, Y, A, B, P)\n",
    "stop = timeit.default_timer()\n",
    "print stop - start "
   ]
  }
 ],
 "metadata": {
  "kernelspec": {
   "display_name": "Python 2",
   "language": "python",
   "name": "python2"
  },
  "language_info": {
   "codemirror_mode": {
    "name": "ipython",
    "version": 2
   },
   "file_extension": ".py",
   "mimetype": "text/x-python",
   "name": "python",
   "nbconvert_exporter": "python",
   "pygments_lexer": "ipython2",
   "version": "2.7.10"
  }
 },
 "nbformat": 4,
 "nbformat_minor": 0
}
