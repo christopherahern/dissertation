{
 "cells": [
  {
   "cell_type": "markdown",
   "metadata": {},
   "source": [
    "# Introduction"
   ]
  },
  {
   "cell_type": "markdown",
   "metadata": {},
   "source": [
    "Here we define the discrete-time replicator dynamic for signaling games with arbitrarily many states, messages, and actions. The formulation provided here treats individual states as independent sender populations and individual messages as independent receiver populations, instead of considering the set of all potential sender strategies as a population and the set of all potential receiver strategies as a population (cf. Hofbauer and Huttegger 2015). \n",
    "\n",
    "By \"devolving\" populations in this manner we dramatically reduce the dimensions of the system, while also yielding results that are arguably more transparent. Importantly, it also allows for a fairly straightforward implementation in algebraic terms which is quick to compute."
   ]
  },
  {
   "cell_type": "markdown",
   "metadata": {},
   "source": [
    "## Definitions"
   ]
  },
  {
   "cell_type": "markdown",
   "metadata": {},
   "source": [
    "We start off by defining the components necessary for our analysis. Once we have defined these components we can simulate the game dynamics."
   ]
  },
  {
   "cell_type": "markdown",
   "metadata": {},
   "source": [
    "**First**, we define the payoff matrices for senders and receivers, which depend solely on the utility functions of senders and receivers respectively.\n",
    "\n",
    "$\\textbf{A}$ is an $n \\times n$ matrix such that $\\textbf{A}_{ij} = U_S(t_i, a_j)$:\n",
    "\n",
    "\\begin{equation}\n",
    "\\textbf{A} =\n",
    " \\begin{pmatrix}\n",
    "  U_S(t_1, a_1) & \\cdots & U_S(t_1, a_j) & \\cdots & U_S(t_1, a_n) \\\\\n",
    "  \\vdots\t        & \\ddots & \\vdots           &           & \\vdots \\\\\n",
    "  U_S(t_i, a_1) & \\cdots & U_S(t_i, a_j) & \\cdots & U_S(t_i, a_n) \\\\  \n",
    "  \\vdots\t        &  & \\vdots           &   \\ddots        & \\vdots \\\\\n",
    "  U_S(t_n, a_1) & \\cdots & U_S(t_n, a_j)  & \\cdots & U_S(t_n, a_n) \\\\\n",
    " \\end{pmatrix}\n",
    "\\end{equation}\n",
    "\n",
    " \n",
    "$\\textbf{B}$ is an $n \\times n$ matrix such that $\\textbf{B}_{ij} = U_R(t_i, a_j)$:\n",
    "\n",
    "\\begin{equation}\n",
    "\\textbf{B} =\n",
    " \\begin{pmatrix}\n",
    "  U_R(t_1, a_1) & \\cdots & U_R(t_1, a_j) & \\cdots & U_R(t_1, a_n) \\\\\n",
    "  \\vdots\t        & \\ddots & \\vdots           &           & \\vdots \\\\\n",
    "  U_R(t_i, a_1) & \\cdots & U_R(t_i, a_j) & \\cdots & U_R(t_i, a_n) \\\\  \n",
    "  \\vdots\t        &  & \\vdots           &   \\ddots        & \\vdots \\\\\n",
    "  U_R(t_n, a_1) & \\cdots & U_R(t_n, a_j)  & \\cdots & U_R(t_n, a_n) \\\\\n",
    " \\end{pmatrix}\n",
    "\\end{equation}"
   ]
  },
  {
   "cell_type": "markdown",
   "metadata": {},
   "source": [
    "In this case we'll use the standard utility function for a 2x2 Lewis Signaling Game. Senders and receivers both prefer that the state and action correspond in some prespecified way. For example, the correspondence is usally taken as a bijection between states and actions.\n",
    "\n",
    "$U_S(t_i,a_j) = U_R(t_i, a_j) =\n",
    "\\left\\{\n",
    "\t\\begin{array}{ll}\n",
    "\t\t1  & \\mbox{if } i = j \\\\\n",
    "\t\t0 & \\mbox{else}\n",
    "\t\\end{array}\n",
    "\\right.\n",
    "$\n",
    "\n",
    "We'll define this as a special case of a modified version of the quadratic loss function used by Crawford and Sobel \n",
    "(1982)."
   ]
  },
  {
   "cell_type": "code",
   "execution_count": 1,
   "metadata": {
    "collapsed": false
   },
   "outputs": [
    {
     "name": "stdout",
     "output_type": "stream",
     "text": [
      "Sender payoff matrix\n",
      "[[ 1.  0.]\n",
      " [ 0.  1.]]\n",
      "Receiver payoff matrix\n",
      "[[ 1.  0.]\n",
      " [ 0.  1.]]\n"
     ]
    }
   ],
   "source": [
    "# Import numpy\n",
    "import numpy as np\n",
    "# Define the utility functions\n",
    "def U_S(state, action, b):\n",
    "    return 1 - (action - state - (1-state)*b)**2\n",
    "    #return 1 - abs(action - state - (1-state)*b)\n",
    "def U_R(state, action):\n",
    "    return 1 - (action - state)**2\n",
    "# Define functions to map integers to interval [0,1]\n",
    "def t(i, n):\n",
    "    return i/float(n)\n",
    "def a(i, n):\n",
    "    return i/float(n)\n",
    "# Create payoff matrices \n",
    "print \"Sender payoff matrix\"\n",
    "A =  np.matrix([[U_S(t(i, 2-1), a(j,2-1), 0) for j in range(2)] for i in range(2)])\n",
    "print A\n",
    "print \"Receiver payoff matrix\"\n",
    "B = np.matrix([[U_R(t(i, 2-1), a(j,2-1)) for j in range(2)] for i in range(2)])\n",
    "print B"
   ]
  },
  {
   "cell_type": "markdown",
   "metadata": {},
   "source": [
    "**Second**, we define the sender and receiver populations.\n",
    "\n",
    "$\\textbf{X}$ is a stochastic population matrix such that the proportion of the population in $x_i$ using $m_j$ is $x_{ij}$, with $\\sum_j x_{ij} = 1$.\n",
    "\n",
    "\\begin{equation}\n",
    "\\textbf{X} =\n",
    " \\begin{pmatrix}\n",
    "  x_{11} &  x_{12} & x_{13} \\\\\n",
    "  \\vdots        & \\vdots & \\vdots \\\\\n",
    "  x_{i1} &  x_{i2} & x_{i3} \\\\\n",
    "  \\vdots\t& \\vdots    & \\vdots \\\\\n",
    "  x_{n1} &  x_{n2} & x_{n3} \\\\\n",
    " \\end{pmatrix}\n",
    "\\end{equation}\n",
    " \n",
    "Intuitively, each row corresponds to a given state. Each element in the row corresponds to the proportion of use in that population.  Each row sums to one because the proportion using the various  signals must sum to one.\n",
    " \n",
    "$\\textbf{Y}$ is a population matrix such that the proportion of the population in $y_i$ responding with action $a_j$ is $y_{ij}$, with $\\sum_j y_{ij} = 1$.\n",
    "\n",
    "\\begin{equation}\n",
    "\\textbf{Y} =\n",
    " \\begin{pmatrix}\n",
    "  y_{11} & \\cdots & y_{1j}  & \\cdots & y_{1n} \\\\\n",
    "  y_{21} & \\cdots & y_{2j}  & \\cdots & y_{2n} \\\\\n",
    "  y_{31} & \\cdots & y_{3j}  & \\cdots & y_{3n} \\\\\n",
    " \\end{pmatrix}\n",
    "\\end{equation}\n",
    " \n",
    " Again, intuitively, each row corresponds to a given message. Each element in the row corresponds to the proportion of different responses to the message. Each row sums to one because the proportion using the various responses must sum to one."
   ]
  },
  {
   "cell_type": "code",
   "execution_count": 2,
   "metadata": {
    "collapsed": false
   },
   "outputs": [
    {
     "name": "stdout",
     "output_type": "stream",
     "text": [
      "[[ 0.4433709   0.5566291 ]\n",
      " [ 0.21282727  0.78717273]]\n",
      "[[ 0.71254386  0.28745614]\n",
      " [ 0.78187104  0.21812896]]\n"
     ]
    }
   ],
   "source": [
    "# Import random and set seed\n",
    "import random\n",
    "random.seed(10)\n",
    "# Create initial sender matrix\n",
    "X = np.random.rand(2, 2)\n",
    "# Row-normalize the sender matrix\n",
    "X /= X.sum(axis=1)[:,np.newaxis]\n",
    "print X\n",
    "# Create initial receiver matrix\n",
    "Y = np.random.rand(2, 2)\n",
    "# Row-normalize the receiver matrix\n",
    "Y /= Y.sum(axis=1)[:,np.newaxis]\n",
    "print Y"
   ]
  },
  {
   "cell_type": "markdown",
   "metadata": {},
   "source": [
    "$\\textbf{P}$ is a stochastic matrix such that $\\forall i \\textbf{P}_i = P(t_1),...,P(t_n)$. That is, $\\textbf{P}$ is just $n$ rows of the prior probability distribution over states.\n",
    "\n",
    "\\begin{equation}\n",
    "\\textbf{P} =\n",
    " \\begin{pmatrix}\n",
    "  P(t_1) & \\cdots & P(t_i)  & \\cdots & P(t_n) \\\\\n",
    "  \\vdots &  & \\vdots  & & \\vdots  \\\\\n",
    "  P(t_1) & \\cdots & P(t_i)  & \\cdots & P(t_n) \\\\\n",
    " \\end{pmatrix}\n",
    "\\end{equation}"
   ]
  },
  {
   "cell_type": "code",
   "execution_count": 3,
   "metadata": {
    "collapsed": false
   },
   "outputs": [
    {
     "name": "stdout",
     "output_type": "stream",
     "text": [
      "Probability matix\n",
      "[[ 0.5  0.5]\n",
      " [ 0.5  0.5]]\n"
     ]
    }
   ],
   "source": [
    "print \"Probability matix\"\n",
    "P = np.matrix([.5] * 4).reshape(2,2)\n",
    "#P = np.matrix([[.75, .25], [.75, .25]])\n",
    "print P"
   ]
  },
  {
   "cell_type": "markdown",
   "metadata": {},
   "source": [
    "For what follows we'll consider the uniform distribution over states, noting that this is a special case. We can generate a [beta-binomial distribution](http://en.wikipedia.org/wiki/Beta-binomial_distribution) over a finite number of states with the following."
   ]
  },
  {
   "cell_type": "code",
   "execution_count": 4,
   "metadata": {
    "collapsed": false
   },
   "outputs": [
    {
     "name": "stdout",
     "output_type": "stream",
     "text": [
      "Probability matix\n",
      "[[ 0.5  0.5]\n",
      " [ 0.5  0.5]]\n",
      "Another probability matix with uneven weights\n",
      "[[ 0.33333333  0.66666667]\n",
      " [ 0.33333333  0.66666667]]\n"
     ]
    }
   ],
   "source": [
    "from scipy.special import beta as beta_func\n",
    "from scipy.misc import comb\n",
    "def beta_binomial(n, alpha, beta):\n",
    "    return [comb(n-1,k) * beta_func(k+alpha, n-1-k+beta) / beta_func(alpha,beta) for k in range(n)]\n",
    "\n",
    "print \"Probability matix\"\n",
    "print np.matrix((beta_binomial(2, 1, 1) * 2)).reshape(2,2)\n",
    "print \"Another probability matix with uneven weights\"\n",
    "print np.matrix((beta_binomial(2, 2, 1) * 2)).reshape(2,2)"
   ]
  },
  {
   "cell_type": "markdown",
   "metadata": {},
   "source": [
    "We can extend this to arbitrarily many states and generate more complex prior distributions. For example, if we have five states, then we can visualize the probabilities for different parametrizations. This includes the uniform distribution as a special case: it's the flat black line at one fifth, which is indeed flat despite the optical illusion."
   ]
  },
  {
   "cell_type": "code",
   "execution_count": 5,
   "metadata": {
    "collapsed": true
   },
   "outputs": [],
   "source": [
    "% matplotlib inline\n",
    "from matplotlib import pyplot as plt"
   ]
  },
  {
   "cell_type": "code",
   "execution_count": 6,
   "metadata": {
    "collapsed": false
   },
   "outputs": [
    {
     "name": "stderr",
     "output_type": "stream",
     "text": [
      "/home/cahern-adm/anaconda/lib/python2.7/site-packages/IPython/kernel/__main__.py:4: RuntimeWarning: invalid value encountered in double_scalars\n"
     ]
    },
    {
     "data": {
      "image/png": "[encoded data removed]",
      "text/plain": [
       "<matplotlib.figure.Figure at 0xaf4d0d8c>"
      ]
     },
     "metadata": {},
     "output_type": "display_data"
    }
   ],
   "source": [
    "for i in range(5):\n",
    "    for j in range(5):\n",
    "        plt.plot(beta_binomial(5, j, i))\n",
    "plt.axis((0,4,0,1))\n",
    "plt.show()"
   ]
  },
  {
   "cell_type": "markdown",
   "metadata": {},
   "source": [
    "## Senders"
   ]
  },
  {
   "cell_type": "markdown",
   "metadata": {},
   "source": [
    "**Third**, now that we have defined these two components, we can define the expected utility of different strategies and the discrete-time replicator dynamic. But first we'll remind ourselves of the initial state of the sender and receiver populations."
   ]
  },
  {
   "cell_type": "code",
   "execution_count": 7,
   "metadata": {
    "collapsed": false
   },
   "outputs": [
    {
     "name": "stdout",
     "output_type": "stream",
     "text": [
      "Sender matrix\n",
      "[[ 0.4433709   0.5566291 ]\n",
      " [ 0.21282727  0.78717273]]\n",
      "Receiver matrix\n",
      "[[ 0.71254386  0.28745614]\n",
      " [ 0.78187104  0.21812896]]\n"
     ]
    }
   ],
   "source": [
    "print \"Sender matrix\"\n",
    "print X\n",
    "print \"Receiver matrix\"\n",
    "print Y"
   ]
  },
  {
   "cell_type": "markdown",
   "metadata": {},
   "source": [
    "The expected utility of sending message $m_j$ in state $t_i$, where $\\textbf{Y}^T$ is the transpose of $\\textbf{Y}$:\n",
    "\n",
    "\\begin{equation}\n",
    "\tE [ x_{ij} ] = (\\textbf{A}\\textbf{Y}^T)_{ij}\n",
    "\\end{equation}"
   ]
  },
  {
   "cell_type": "code",
   "execution_count": 8,
   "metadata": {
    "collapsed": false
   },
   "outputs": [
    {
     "name": "stdout",
     "output_type": "stream",
     "text": [
      "Sender expected utility\n",
      "[[ 0.71254386  0.78187104]\n",
      " [ 0.28745614  0.21812896]]\n"
     ]
    }
   ],
   "source": [
    "print \"Sender expected utility\"\n",
    "print A * Y.transpose()"
   ]
  },
  {
   "cell_type": "markdown",
   "metadata": {},
   "source": [
    "Intuitively, we can read these expected utilities off the receiver matrix. In fact, the resulting expected utilities are just $\\textbf{Y}^T$. This, however, is particular to the utility functions of the Lewis signaling game. For any $b > 0$ this does not hold."
   ]
  },
  {
   "cell_type": "markdown",
   "metadata": {},
   "source": [
    "The average expected utility in a sender population $x_i$:\n",
    "\n",
    "\\begin{equation}\n",
    "\tE [ x_{i} ] = (\\textbf{X}(\\textbf{A}\\textbf{Y}^T)^T)_{ii}\n",
    "\\end{equation}"
   ]
  },
  {
   "cell_type": "code",
   "execution_count": 9,
   "metadata": {
    "collapsed": false
   },
   "outputs": [
    {
     "name": "stdout",
     "output_type": "stream",
     "text": [
      "Average sender expected utility\n",
      "[[ 0.75113339  0.23288368]]\n"
     ]
    }
   ],
   "source": [
    "print \"Average sender expected utility\"\n",
    "print (X * (A * Y.transpose()).transpose()).diagonal()"
   ]
  },
  {
   "cell_type": "markdown",
   "metadata": {},
   "source": [
    "Note that this average makes sense when we look at the expected utilities of sending different messages in the different populations. That is, it is always somewhere in between the two values, which means things are working as they should."
   ]
  },
  {
   "cell_type": "markdown",
   "metadata": {},
   "source": [
    "Let $\\mathbf{\\hat{X}}$ be the sender expected utility matrix normalized by the average expected utilities such that:\n",
    "\n",
    "\\begin{equation}\n",
    "    \\mathbf{\\hat{X}}_{ij} = \\frac{(\\textbf{A}\\textbf{Y}^T)_{ij}}{(\\textbf{X}(\\textbf{A}\\textbf{Y}^T)^T)_{ii}}\n",
    "\\end{equation}"
   ]
  },
  {
   "cell_type": "code",
   "execution_count": 10,
   "metadata": {
    "collapsed": false
   },
   "outputs": [
    {
     "name": "stdout",
     "output_type": "stream",
     "text": [
      "Discrete-time replicator dynamic scaling factors\n",
      "[[ 0.94862494  1.04092169]\n",
      " [ 1.23433355  0.93664342]]\n"
     ]
    }
   ],
   "source": [
    "print \"Discrete-time replicator dynamic scaling factors\"\n",
    "X_hat = A * Y.transpose() / ((X * (A * Y.transpose()).transpose()).diagonal()).transpose()\n",
    "print X_hat"
   ]
  },
  {
   "cell_type": "markdown",
   "metadata": {},
   "source": [
    "For both sender and receiver populations, under the discrete-time replicator dynamics strategies grow in proportion to the amount by which they exceed the average payoff in the population. The discrete-time replicator dynamic for message $m_j$ in state $t_i$:\n",
    "\n",
    "\\begin{equation}\n",
    "     x_{ij}' = x_{ij}\\frac{E[x_{ij}]}{E[x_i]}\n",
    "\\end{equation}\n",
    "\n",
    "The sender populations at the next point in time are then given by the following, where $\\otimes$ indicates the element-wise Hadamard product:\n",
    "\n",
    "\\begin{equation}\n",
    "    \\mathbf{X}' = \\mathbf{X} \\otimes \\mathbf{\\hat{X}}\n",
    "\\end{equation}"
   ]
  },
  {
   "cell_type": "code",
   "execution_count": 11,
   "metadata": {
    "collapsed": false
   },
   "outputs": [
    {
     "name": "stdout",
     "output_type": "stream",
     "text": [
      "Current sender populations state\n",
      "[[ 0.4433709   0.5566291 ]\n",
      " [ 0.21282727  0.78717273]]\n",
      "Next sender populations state\n",
      "[[ 0.42059269  0.57940731]\n",
      " [ 0.26269984  0.73730016]]\n",
      "Check that sender populations sum to one\n",
      "[[ 1.]\n",
      " [ 1.]]\n"
     ]
    }
   ],
   "source": [
    "print \"Current sender populations state\"\n",
    "print X\n",
    "print \"Next sender populations state\"\n",
    "X_next = np.multiply(X, X_hat)\n",
    "print X_next\n",
    "print \"Check that sender populations sum to one\"\n",
    "print np.sum(X_next, axis=1)"
   ]
  },
  {
   "cell_type": "markdown",
   "metadata": {},
   "source": [
    "Now that we have defined the discrete-time replicator dynamics for the sender populations, we can do the same for the receiver populations with a few additions. Let $\\textbf{C}$ be the conditional probability of a state given a message. That is, $\\textbf{C}_{ij} = P(t_i | m_j)$, where $\\otimes$ indicates element-wise Hadamard multiplication and $\\oslash$ indicates the element-wise Hadamard division.\n",
    "\n",
    "\\begin{equation}\n",
    "\\textbf{C} = (P^T \\otimes X) \\oslash (PX)\n",
    "\\end{equation}"
   ]
  },
  {
   "cell_type": "code",
   "execution_count": 12,
   "metadata": {
    "collapsed": false
   },
   "outputs": [
    {
     "name": "stdout",
     "output_type": "stream",
     "text": [
      "Sender matrix\n",
      "[[ 0.4433709   0.5566291 ]\n",
      " [ 0.21282727  0.78717273]]\n",
      "Conditional probability of t_i given message m_j\n",
      "[[ 0.67566616  0.41421963]\n",
      " [ 0.32433384  0.58578037]]\n"
     ]
    }
   ],
   "source": [
    "print \"Sender matrix\"\n",
    "print X\n",
    "print \"Conditional probability of t_i given message m_j\"\n",
    "C = np.divide(np.multiply(P.transpose(), X), P * X)\n",
    "print C"
   ]
  },
  {
   "cell_type": "markdown",
   "metadata": {},
   "source": [
    "The expected utility of receiver responding to message $m_i$ with action $a_j$:\n",
    " \n",
    "\\begin{equation}\n",
    "\tE [ y_{ij} ] = (\\textbf{B}^T\\textbf{C})_{ji}\n",
    "\\end{equation}\n",
    "\n",
    "Since the resulting matrix is $n \\times m$, we swap the indices to get the appropriate value. Each column corresponds to a receiver population, and each row corresponds to a response action."
   ]
  },
  {
   "cell_type": "code",
   "execution_count": 13,
   "metadata": {
    "collapsed": false
   },
   "outputs": [
    {
     "name": "stdout",
     "output_type": "stream",
     "text": [
      "Receiver expected utility\n",
      "[[ 0.67566616  0.41421963]\n",
      " [ 0.32433384  0.58578037]]\n",
      "Receiver expected utility of responding to m_i with a_j\n",
      "[[ 0.67566616  0.32433384]\n",
      " [ 0.41421963  0.58578037]]\n"
     ]
    }
   ],
   "source": [
    "print \"Receiver expected utility\"\n",
    "print (B.transpose() * C)\n",
    "print \"Receiver expected utility of responding to m_i with a_j\"\n",
    "print (B.transpose() * C).transpose()"
   ]
  },
  {
   "cell_type": "markdown",
   "metadata": {},
   "source": [
    "The average expected utility in a receiver population $y_i$:\n",
    "\n",
    "\\begin{equation}\n",
    "\tE [ y_{i} ] = (Y(\\textbf{B}^T\\textbf{C})_{ji})_{ii}\n",
    "\\end{equation}"
   ]
  },
  {
   "cell_type": "code",
   "execution_count": 14,
   "metadata": {
    "collapsed": false
   },
   "outputs": [
    {
     "name": "stdout",
     "output_type": "stream",
     "text": [
      "Average receiver expected utility\n",
      "[[ 0.57467353  0.451642  ]]\n"
     ]
    }
   ],
   "source": [
    "print \"Average receiver expected utility\"\n",
    "print (Y * (B.transpose() * C)).diagonal()"
   ]
  },
  {
   "cell_type": "markdown",
   "metadata": {},
   "source": [
    "Let $\\mathbf{\\hat{Y}}$ be the population normalized matrix for receiver expected utilities such that:\n",
    "\n",
    "\\begin{equation}\n",
    "    \\mathbf{\\hat{Y}}_{ji} = \\frac{(\\textbf{B}^T\\textbf{C})_{ji}}{(\\textbf{Y}(\\textbf{B}^T\\textbf{C})_{ji})_{ii}}\n",
    "\\end{equation}"
   ]
  },
  {
   "cell_type": "code",
   "execution_count": 15,
   "metadata": {
    "collapsed": false
   },
   "outputs": [
    {
     "name": "stdout",
     "output_type": "stream",
     "text": [
      "Discrete-time replicator dynamic scaling factors\n",
      "[[ 1.17573914  0.5643793 ]\n",
      " [ 0.91714153  1.29700153]]\n"
     ]
    }
   ],
   "source": [
    "print \"Discrete-time replicator dynamic scaling factors\"\n",
    "Y_hat = (B.transpose() * C) / (Y * (B.transpose() * C)).diagonal()\n",
    "print Y_hat.transpose()"
   ]
  },
  {
   "cell_type": "markdown",
   "metadata": {},
   "source": [
    "The discrete-time replicator dynamic for action $a_j$ in response to message $m_i$:\n",
    "\n",
    "\\begin{equation}\n",
    "     y_{ij}' = y_{ij}\\frac{E[y_{ij}]}{E[y_i]}\n",
    "\\end{equation}\n",
    "\n",
    "The receiver populations at the next point in time are then given by the following:\n",
    "\n",
    "\\begin{equation}\n",
    "    \\mathbf{Y}' = \\mathbf{Y} \\otimes \\mathbf{\\hat{Y}}^T\n",
    "\\end{equation}\n"
   ]
  },
  {
   "cell_type": "code",
   "execution_count": 16,
   "metadata": {
    "collapsed": false
   },
   "outputs": [
    {
     "name": "stdout",
     "output_type": "stream",
     "text": [
      "Current receiver populations state\n",
      "[[ 0.71254386  0.28745614]\n",
      " [ 0.78187104  0.21812896]]\n",
      "Next receiver populations state\n",
      "[[ 0.83776571  0.16223429]\n",
      " [ 0.7170864   0.2829136 ]]\n",
      "Check that sender populations sum to one\n",
      "[[ 1.]\n",
      " [ 1.]]\n"
     ]
    }
   ],
   "source": [
    "print \"Current receiver populations state\"\n",
    "print Y\n",
    "print \"Next receiver populations state\"\n",
    "Y_next = np.multiply(Y, Y_hat.transpose())\n",
    "print Y_next\n",
    "print \"Check that sender populations sum to one\"\n",
    "print np.sum(Y_next, axis=1)"
   ]
  },
  {
   "cell_type": "markdown",
   "metadata": {},
   "source": [
    "## Simulations"
   ]
  },
  {
   "cell_type": "markdown",
   "metadata": {},
   "source": [
    "Now that we have defined the components of the discrete-time replicator dynamics and how to calculate the state of the populations at the next point in time, we can calculate the game dynamics from an initial state."
   ]
  },
  {
   "cell_type": "code",
   "execution_count": 17,
   "metadata": {
    "collapsed": false
   },
   "outputs": [],
   "source": [
    "def discrete_time_replicator_dynamics(n_steps, X, Y, A, B, P):\n",
    "    \"\"\"Calculate the discrete-time replicator dynamics for\"\"\"\n",
    "    # Get the number of states, signals, and actions\n",
    "    X_nrow = X.shape[0]\n",
    "    X_ncol = X.shape[1]\n",
    "    Y_nrow = Y.shape[0] # Same as X_ncol\n",
    "    Y_ncol = Y.shape[1] # Often, but not necessarily, the same as X_nrow\n",
    "    # Create empty arrays to hold the population states over time\n",
    "    X_t = np.empty(shape=(n_steps, X_nrow*X_ncol), dtype=float)\n",
    "    Y_t = np.empty(shape=(n_steps, X_nrow*X_ncol), dtype=float)\n",
    "    # Set the initial state\n",
    "    X_t[0,:] = X.ravel()\n",
    "    Y_t[0,:] = Y.ravel()\n",
    "    # Iterate forward over (n-1) steps\n",
    "    for i in range(1,n_steps):\n",
    "        # Get the previous state\n",
    "        X_prev = X_t[i-1,:].reshape(X_nrow, X_ncol)\n",
    "        Y_prev = Y_t[i-1,:].reshape(Y_nrow, Y_ncol)\n",
    "        # Calculate the scaling factors\n",
    "        X_hat = A * Y_prev.transpose() / ((X_prev * (A * Y_prev.transpose()).transpose()).diagonal()).transpose()\n",
    "        C = np.divide(np.multiply(P.transpose(), X_prev), P * X_prev)\n",
    "        Y_hat = (B.transpose() * C) / (Y_prev * (B.transpose() * C)).diagonal()\n",
    "        #if i == 1:\n",
    "        #    print X_hat\n",
    "        #    print Y_hat\n",
    "        # Calculate next states\n",
    "        X_t[i,:] = np.multiply(X_prev, X_hat).ravel()\n",
    "        Y_t[i,:] = np.multiply(Y_prev, Y_hat.transpose()).ravel()\n",
    "    return X_t, Y_t"
   ]
  },
  {
   "cell_type": "markdown",
   "metadata": {},
   "source": [
    "We can verify that this simulation matches our calculations above for a single step of the game dynamics. They do, which suggests we're doing everything correctly. We can then move on to iterating over a larger number of time steps and plotting the results."
   ]
  },
  {
   "cell_type": "code",
   "execution_count": 18,
   "metadata": {
    "collapsed": false
   },
   "outputs": [
    {
     "name": "stdout",
     "output_type": "stream",
     "text": [
      "Initial sender populations state\n",
      "[[ 0.4433709   0.5566291 ]\n",
      " [ 0.21282727  0.78717273]]\n",
      "Next sender populations state\n",
      "[[ 0.42059269  0.57940731]\n",
      " [ 0.26269984  0.73730016]]\n",
      "Initial receiver populations state\n",
      "[[ 0.71254386  0.28745614]\n",
      " [ 0.78187104  0.21812896]]\n",
      "Next receiver populations state\n",
      "[[ 0.83776571  0.16223429]\n",
      " [ 0.7170864   0.2829136 ]]\n"
     ]
    }
   ],
   "source": [
    "X_hist, Y_hist = discrete_time_replicator_dynamics(2, X, Y, A, B, P)\n",
    "print \"Initial sender populations state\"\n",
    "print X_hist[0].reshape(2,2)\n",
    "print \"Next sender populations state\"\n",
    "print X_hist[1].reshape(2,2)\n",
    "print \"Initial receiver populations state\"\n",
    "print Y_hist[0].reshape(2,2)\n",
    "print \"Next receiver populations state\"\n",
    "print Y_hist[1].reshape(2,2)"
   ]
  },
  {
   "cell_type": "markdown",
   "metadata": {},
   "source": [
    "We should note that this is pretty quick. It takes about two seconds to step through 10,000 steps of the simplest non-trivial signaling game. This will obviously change as we increase the size of the matrices, but is a good sign that everything is set up well."
   ]
  },
  {
   "cell_type": "code",
   "execution_count": 19,
   "metadata": {
    "collapsed": false
   },
   "outputs": [
    {
     "name": "stdout",
     "output_type": "stream",
     "text": [
      "1.82154607773\n"
     ]
    }
   ],
   "source": [
    "import timeit\n",
    "start = timeit.default_timer()\n",
    "X_hist, Y_hist = discrete_time_replicator_dynamics(10000, X, Y, A, B, P)\n",
    "stop = timeit.default_timer()\n",
    "print stop - start "
   ]
  },
  {
   "cell_type": "markdown",
   "metadata": {},
   "source": [
    "Now that we've established that the populations are updating as they should, we can move our attention to the long-term behavior of the system. We'll start by running a bit longer and examining the end state. From analytic results, we know that when states are equiprobable that the signaling equilibria are the only asymptotically stable states. This means that the populations should always evolve to one of two signaling systems. We can look at this visually by plotting the proportion in the sender and receiver populations. A signaling system results when all sender and receiver populations converge to one or zero."
   ]
  },
  {
   "cell_type": "code",
   "execution_count": 20,
   "metadata": {
    "collapsed": false
   },
   "outputs": [
    {
     "data": {
      "image/png": "[encoded data removed]",
      "text/plain": [
       "<matplotlib.figure.Figure at 0xaf3c278c>"
      ]
     },
     "metadata": {},
     "output_type": "display_data"
    },
    {
     "data": {
      "image/png": "[encoded data removed]",
      "text/plain": [
       "<matplotlib.figure.Figure at 0xaf4405ac>"
      ]
     },
     "metadata": {},
     "output_type": "display_data"
    }
   ],
   "source": [
    "# Generate random starting states\n",
    "X = np.random.rand(2, 2)\n",
    "X /= X.sum(axis=1)[:,np.newaxis]\n",
    "Y = np.random.rand(2, 2)\n",
    "Y /= Y.sum(axis=1)[:,np.newaxis]\n",
    "# Iterate under discrete-time replicator dynamics\n",
    "X_hist, Y_hist = discrete_time_replicator_dynamics(20, X, Y, A, B, P)\n",
    "# Sender plots\n",
    "plt.plot(X_hist[:,0], 'b') # Proportion of t_0 sending m_0\n",
    "plt.plot(X_hist[:,3], 'g') # Proportion of t_1 sending m_1\n",
    "plt.ylim(0,1)\n",
    "plt.ylabel(\"Proportion of senders\")\n",
    "plt.show()\n",
    "# Receiver plots\n",
    "plt.plot(Y_hist[:,0], 'b') # Proportion of t_0 sending m_0\n",
    "plt.plot(Y_hist[:,3], 'g') # Proportion of t_1 sending m_1\n",
    "plt.ylim(0,1)\n",
    "plt.ylabel(\"Proportion of receivers\")\n",
    "plt.show()"
   ]
  },
  {
   "cell_type": "markdown",
   "metadata": {},
   "source": [
    "With simulations of signaling under the discrete-time replicator dynamics in place, we might consider how they compare to the continuous-time replicator dynamics."
   ]
  },
  {
   "cell_type": "markdown",
   "metadata": {},
   "source": [
    "## Comparison with continous-time replicator dynamics"
   ]
  },
  {
   "cell_type": "markdown",
   "metadata": {},
   "source": [
    "The continuous replicator dynamic for message $m_j$ in state $t_i$:\n",
    "\n",
    "\\begin{equation}\n",
    "\t\\dot{x}_{ij} = x_{ij}(E[x_{ij}] - E[x_i])\n",
    "\\end{equation}\n",
    "\n",
    "From above, we know that this can be expressed as:\n",
    "\n",
    "\\begin{equation}\n",
    "\t\\dot{x}_{ij} = x_{ij}((\\textbf{A}\\textbf{Y}^T)_{ij} - (\\textbf{X}(\\textbf{A}\\textbf{Y}^T)^T)_{ii})\n",
    "\\end{equation}\n",
    "\n",
    "Likewise the replicator dynamic for action $a_j$ in response to message $m_i$:\n",
    "\n",
    "\\begin{equation}\n",
    "\t\\dot{y}_{ij} = y_{ij}(E[y_{ij}] - E[y_i])\n",
    "\\end{equation}\n",
    "\n",
    "Or, alternatively:\n",
    "\n",
    "\\begin{equation}\n",
    "\t\\dot{y}_{ij} = y_{ij}( (\\textbf{B}^T\\textbf{C})_{ji} - (\\textbf{Y}(\\textbf{B}^T\\textbf{C}))_{ii})\n",
    "\\end{equation}"
   ]
  },
  {
   "cell_type": "markdown",
   "metadata": {},
   "source": [
    "We won't get into the details of translating the matrix notation into a function to integrate."
   ]
  },
  {
   "cell_type": "code",
   "execution_count": 21,
   "metadata": {
    "collapsed": false
   },
   "outputs": [],
   "source": [
    "from scipy.integrate import odeint\n",
    "# Signaling system to integrate over\n",
    "def signaling(p_vec, t, param):\n",
    "    # Unpack the position vector\n",
    "    p0, p1, q0, q1 = p_vec\n",
    "    # Unpack the parametera\n",
    "    a = param[0] # probability distribution P(t_0) = P(t_1) = a\n",
    "    # Construct system of ODEs\n",
    "    p0_diff = p0*(1-p0)*(q0 - (1 - q1))\n",
    "    p1_diff = p1*(1-p1)*(q1 - (1 - q0))\n",
    "    q0_diff = q0*(1-q0)*(a*p0 - (1-a)*(1-p1))\n",
    "    q1_diff = q1*(1-q1)*((1-a)*p1 - a*(1-p0))\n",
    "    # Return system of ODEs\n",
    "    return [p0_diff, p1_diff, q0_diff, q1_diff]"
   ]
  },
  {
   "cell_type": "markdown",
   "metadata": {},
   "source": [
    "We can compare the solution trajectories of the discrete- and continuous-time replicator dynamics. There are several things to note:\n",
    "* The shape of both are generally the same, the discrete-time isn't always \"smooth\"\n",
    "* The discrete-time dynamic looks like a condensed version of the continuous-time dynamics\n",
    "* The two kinds of dynamics sometimes yield different solutions"
   ]
  },
  {
   "cell_type": "code",
   "execution_count": 22,
   "metadata": {
    "collapsed": false
   },
   "outputs": [
    {
     "data": {
      "image/png": "[encoded data removed]",
      "text/plain": [
       "<matplotlib.figure.Figure at 0xaf2b4d4c>"
      ]
     },
     "metadata": {},
     "output_type": "display_data"
    },
    {
     "data": {
      "image/png": "[encoded data removed]",
      "text/plain": [
       "<matplotlib.figure.Figure at 0xaf35cd8c>"
      ]
     },
     "metadata": {},
     "output_type": "display_data"
    }
   ],
   "source": [
    "# Create random initial states\n",
    "X = np.random.rand(2, 2)\n",
    "X /= X.sum(axis=1)[:,np.newaxis]\n",
    "Y = np.random.rand(2, 2)\n",
    "Y /= Y.sum(axis=1)[:,np.newaxis]\n",
    "# Iterate discrete-time replicator dynamics\n",
    "X_hist, Y_hist = discrete_time_replicator_dynamics(20, X, Y, A, B, P)\n",
    "# Format initial state\n",
    "p0_vec = X.diagonal().tolist() + Y.diagonal().tolist()\n",
    "params = [P[0,0]]\n",
    "t_output = np.linspace(0, 20, num=20)\n",
    "# Integrate continuous-time replicator dynamics\n",
    "p_vec_result = odeint(signaling, p0_vec, t_output, args=(params,))\n",
    "# Sender comparison\n",
    "plt.plot(X_hist[:,0], 'b') # Proportion of t_0 sending m_0\n",
    "plt.plot(X_hist[:,3], 'g') # Proportion of t_1 sending m_1\n",
    "plt.plot(t_output, p_vec_result[:,0], 'b-.')\n",
    "plt.plot(t_output, p_vec_result[:,1], 'g-.')\n",
    "plt.ylim(0,1)\n",
    "plt.ylabel(\"Proportion of senders\")\n",
    "plt.show()\n",
    "# Receiver comparison\n",
    "plt.plot(Y_hist[:,0], 'b') # Proportion of t_0 sending m_0\n",
    "plt.plot(Y_hist[:,3], 'g') # Proportion of t_1 sending m_1\n",
    "plt.plot(t_output, p_vec_result[:,2], 'b-.')\n",
    "plt.plot(t_output, p_vec_result[:,3], 'g-.')\n",
    "plt.ylim(0,1)\n",
    "plt.ylabel(\"Proportion of receivers\")\n",
    "plt.show()"
   ]
  },
  {
   "cell_type": "markdown",
   "metadata": {},
   "source": [
    "Let's look at a particular starting condition that yields different solution trajectories. It looks like the scaling factors for the discrete-time dynamics is rather large. That is, there's a really big jump at the first iteration. This may be enough to affect the rest of the iterations; perhaps the discretization is sufficient that it derails the rest. One way to look at this would be to simulate random starting points and to see when they trajectories diverge if the total movement in the first step exceeds some threshold."
   ]
  },
  {
   "cell_type": "code",
   "execution_count": 23,
   "metadata": {
    "collapsed": false
   },
   "outputs": [
    {
     "data": {
      "image/png": "[encoded data removed]",
      "text/plain": [
       "<matplotlib.figure.Figure at 0xaf28f94c>"
      ]
     },
     "metadata": {},
     "output_type": "display_data"
    },
    {
     "data": {
      "image/png": "[encoded data removed]",
      "text/plain": [
       "<matplotlib.figure.Figure at 0xaf155cec>"
      ]
     },
     "metadata": {},
     "output_type": "display_data"
    }
   ],
   "source": [
    "X = np.array([[ 0.73162521,  0.26837479], [ 0.27700021,  0.72299979]])\n",
    "Y = np.array([[ 0.58517496,  0.41482504], [ 0.89572339,  0.10427661]])\n",
    "#\n",
    "X_hist, Y_hist = discrete_time_replicator_dynamics(20, X, Y, A, B, P)\n",
    "# Format initial state\n",
    "p0_vec = X.diagonal().tolist() + Y.diagonal().tolist()\n",
    "params = [P[0,0]]\n",
    "t_output = np.linspace(0, 20)\n",
    "# Integrate continuous-time replicator dynamics\n",
    "p_vec_result = odeint(signaling, p0_vec, t_output, args=(params,))\n",
    "# Sender comparison\n",
    "plt.plot(X_hist[:,0], 'b') # Proportion of t_0 sending m_0\n",
    "plt.plot(X_hist[:,3], 'g') # Proportion of t_1 sending m_1\n",
    "plt.plot(t_output, p_vec_result[:,0], 'b-.')\n",
    "plt.plot(t_output, p_vec_result[:,1], 'g-.')\n",
    "plt.ylim(0,1)\n",
    "plt.ylabel(\"Proportion of senders\")\n",
    "plt.show()\n",
    "# Receiver comparison\n",
    "plt.plot(Y_hist[:,0], 'b') # Proportion of t_0 sending m_0\n",
    "plt.plot(Y_hist[:,3], 'g') # Proportion of t_1 sending m_1\n",
    "plt.plot(t_output, p_vec_result[:,2], 'b-.')\n",
    "plt.plot(t_output, p_vec_result[:,3], 'g-.')\n",
    "plt.ylim(0,1)\n",
    "plt.ylabel(\"Proportion of receivers\")\n",
    "plt.show()"
   ]
  }
 ],
 "metadata": {
  "kernelspec": {
   "display_name": "Python 2",
   "language": "python",
   "name": "python2"
  },
  "language_info": {
   "codemirror_mode": {
    "name": "ipython",
    "version": 2
   },
   "file_extension": ".py",
   "mimetype": "text/x-python",
   "name": "python",
   "nbconvert_exporter": "python",
   "pygments_lexer": "ipython2",
   "version": "2.7.10"
  }
 },
 "nbformat": 4,
 "nbformat_minor": 0
}
